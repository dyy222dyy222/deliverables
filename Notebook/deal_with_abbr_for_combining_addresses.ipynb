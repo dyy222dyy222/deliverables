{
  "cells": [
    {
      "cell_type": "code",
      "execution_count": null,
      "id": "832f04a0",
      "metadata": {
        "id": "832f04a0"
      },
      "outputs": [],
      "source": [
        "from placekey.api import PlacekeyAPI\n",
        "from ast import literal_eval\n",
        "import snowflake.connector\n",
        "from snowflake.connector import cursor\n",
        "import usaddress\n",
        "import re\n",
        "import pandas as pd\n",
        "# from helper_functions import *\n",
        "import config_final"
      ]
    },
    {
      "cell_type": "markdown",
      "id": "6dbb21ce",
      "metadata": {
        "id": "6dbb21ce"
      },
      "source": [
        "## Dealing with Abbreviations!"
      ]
    },
    {
      "cell_type": "code",
      "execution_count": null,
      "id": "6cc16715",
      "metadata": {
        "id": "6cc16715"
      },
      "outputs": [],
      "source": [
        "ctx = snowflake.connector.connect(\n",
        "    user=config_final.user,\n",
        "    password=config_final.password,\n",
        "    account=config_final.account\n",
        ")\n",
        "cursor = ctx.cursor()\n",
        "\n",
        "sql_MLS = \"\"\" \"\"\"\n",
        "df_MLS = pd.read_sql(sql_MLS, con=ctx)\n",
        "sql_DATATREE = \"\"\"  \"\"\"\n",
        "df_DATATREE = pd.read_sql(sql_DATATREE, con=ctx)\n"
      ]
    },
    {
      "cell_type": "code",
      "execution_count": null,
      "id": "a1b96195",
      "metadata": {
        "id": "a1b96195"
      },
      "outputs": [],
      "source": [
        "# Drop NaN\n",
        "df_MLS.dropna(subset=['MLS_ADDRESS'], inplace=True)\n",
        "df_DATATREE.dropna(subset=['DATATREE_ADDRESS'], inplace=True)\n",
        "\n",
        "# df_MLS = clean_special_char(df_MLS,'MLS_ADDRESS')\n",
        "# df_DATATREE = clean_special_char(df_DATATREE,'DATATREE_ADDRESS')\n",
        "\n",
        "df1_MLS = df_MLS.copy()\n",
        "df1_DATATREE = df_DATATREE.copy()\n",
        "\n",
        "df1_MLS['MLS_ADDRESS_Split'] = df1_MLS.apply(lambda df1_MLS : get_splited_addr(df1_MLS,'MLS_ADDRESS'), axis = 1)\n",
        "df1_DATATREE['DATATREE_ADDRESS_Split'] = df1_DATATREE.apply(lambda df1_DATATREE : get_splited_addr(df1_DATATREE,'DATATREE_ADDRESS'), axis = 1)\n",
        "\n"
      ]
    },
    {
      "cell_type": "code",
      "execution_count": null,
      "id": "ad8f9ef8",
      "metadata": {
        "id": "ad8f9ef8"
      },
      "outputs": [],
      "source": [
        "MLS_ADDRESS_final = get_comb_addr(df1_MLS,'MLS_ADDRESS_Split')\n",
        "DT_ADDRESS_final = get_comb_addr(df1_DATATREE,'DATATREE_ADDRESS_Split')\n",
        "\n",
        "# convert address format (direction, abbreviation)\n",
        "MLS_ADDRESS_final,DT_ADDRESS_final=get_str_replace(MLS_ADDRESS_final,DT_ADDRESS_final)\n"
      ]
    },
    {
      "cell_type": "code",
      "execution_count": null,
      "id": "0d7a4b77",
      "metadata": {
        "id": "0d7a4b77"
      },
      "outputs": [],
      "source": [
        "from placekey.api import PlacekeyAPI\n",
        "placekey_api_key = \"n1w1KOroOdSz3BVMMlg8IM4PuflcVP4V\" # fill this in with your personal API key (do not share publicly)\n",
        "pk_api = PlacekeyAPI(placekey_api_key)\n",
        "column_map = {\"DATATREE_ADDRESS\" : \"street_address\", \"SITUSZIP5\": \"postal_code\"}\n",
        "place_keys = (\"city\",\"iso_country_code\",\"postal_code\",\"street_address\",\"query_id\",\"region\")\n"
      ]
    },
    {
      "cell_type": "code",
      "execution_count": null,
      "id": "11c489b0",
      "metadata": {
        "id": "11c489b0",
        "outputId": "3d275a08-10c1-4d20-e365-56600584d3dc"
      },
      "outputs": [],
      "source": [
        "DT_ADDRESS_final.columns"
      ]
    },
    {
      "cell_type": "code",
      "execution_count": null,
      "id": "e89bdfa0",
      "metadata": {
        "id": "e89bdfa0",
        "outputId": "f0c3bdb6-e096-42f2-fd9b-070b0f1d8fa5"
      },
      "outputs": [],
      "source": [
        "DT_ADDRESS_final.SITUSUNITTYPE.unique()"
      ]
    },
    {
      "cell_type": "code",
      "execution_count": null,
      "id": "f8e1c21f",
      "metadata": {
        "id": "f8e1c21f",
        "outputId": "4996d399-11a4-40be-94d6-46fdf735bc8f"
      },
      "outputs": [],
      "source": [
        "DT_ADDRESS_final.OccupancyType.unique()"
      ]
    },
    {
      "cell_type": "code",
      "execution_count": null,
      "id": "2b2ddadd",
      "metadata": {
        "id": "2b2ddadd"
      },
      "outputs": [],
      "source": [
        "UnitType = DT_ADDRESS_final[['DATATREE_ADDRESS','SITUSUNITTYPE','OccupancyType']]"
      ]
    },
    {
      "cell_type": "code",
      "execution_count": null,
      "id": "575bfa0a",
      "metadata": {
        "id": "575bfa0a",
        "outputId": "137160e7-99b1-41f8-8096-7870bff76f7f"
      },
      "outputs": [],
      "source": [
        "UnitType[(UnitType['SITUSUNITTYPE']!=UnitType['OccupancyType'])&(UnitType['SITUSUNITTYPE']=='ph')]\n"
      ]
    },
    {
      "cell_type": "markdown",
      "id": "243f1221",
      "metadata": {
        "id": "243f1221"
      },
      "source": []
    },
    {
      "cell_type": "markdown",
      "id": "fce830ec",
      "metadata": {
        "id": "fce830ec"
      },
      "source": [
        "## Topic: Do we want to have abbreviation transformation in the original dataset?\n",
        "\n",
        "Conclusion: we can! But whether it's necessary to do it will depend on what we're gonna do later!\n",
        "\n",
        "#### If unit signal exist:\n",
        "For Accessor Table:\\\n",
        "there's no difference in the keys generated by converted/non-converted combined columns\n",
        "=> we can use combined column to generate keys! it doesn't matter whether we transform those directional words/ street type or not\n",
        "=> depending on what we're gonna do in the later column-bu-column string mappings! Yay!\n",
        "\n",
        "For MLS Table:\\\n",
        "there's no difference in the keys generated by converted combined columns vs. original column\n",
        "=> it's okay to standatdize directional words AND StreetTypes\n",
        "=> but we keep the order of ['AddressNumber', 'StreetNamePreDirectional','StreetNamePreType' ,'StreetName','StreetNamePostType','StreetNamePostDirectional','OccupancyType', 'OccupancyIdentifier']\n",
        "\n",
        "#### If unit signal does not exist:\n",
        "we can substitute with the unit signal which occurs the most => 57/745 successfully generated new keys based on data in NYC"
      ]
    },
    {
      "cell_type": "markdown",
      "id": "23fe8bfb",
      "metadata": {
        "id": "23fe8bfb"
      },
      "source": [
        "### case1: when unit signal exists"
      ]
    },
    {
      "cell_type": "code",
      "execution_count": null,
      "id": "503cf8cb",
      "metadata": {
        "id": "503cf8cb"
      },
      "outputs": [],
      "source": [
        "def get_str_replace(MLS_ADDRESS_final,DT_ADDRESS_final):\n",
        "    #need to change file path\n",
        "    df = pd.read_csv('/Users/yiweihou/Downloads/Roc360/suffix_abbreviations_converted.csv')\n",
        "    StreetNamePostType_dict = dict(zip(df.common_name, df.abbr))\n",
        "    StreetNameDirectional_dict = {'west': 'w', 'south': 's', 'north': 'n','east': 'e'}\n",
        "\n",
        "    DT_ADDRESS_final.replace({\"StreetNamePreDirectional\": StreetNameDirectional_dict},inplace=True)\n",
        "    DT_ADDRESS_final.replace({\"StreetNamePostType\": StreetNamePostType_dict},inplace=True)\n",
        "\n",
        "    MLS_ADDRESS_final.replace({\"StreetNamePreDirectional\": StreetNameDirectional_dict},inplace=True)\n",
        "    MLS_ADDRESS_final.replace({\"StreetNamePostType\": StreetNamePostType_dict},inplace=True)\n",
        "    return MLS_ADDRESS_final,DT_ADDRESS_final"
      ]
    },
    {
      "cell_type": "code",
      "execution_count": null,
      "id": "6402b839",
      "metadata": {
        "id": "6402b839"
      },
      "outputs": [],
      "source": []
    },
    {
      "cell_type": "markdown",
      "id": "942931a9",
      "metadata": {
        "id": "942931a9"
      },
      "source": [
        "if there is no abbr tranformation, i.e., we follow whatever the original data looks like"
      ]
    },
    {
      "cell_type": "code",
      "execution_count": null,
      "id": "dde6cf38",
      "metadata": {
        "id": "dde6cf38",
        "outputId": "c7337637-adc5-4ff7-d27d-f868a05a7f60"
      },
      "outputs": [],
      "source": [
        "test_noTraAbbr = DT_ADDRESS_final.copy()\n",
        "test_noTraAbbr['ColumnA'] = test_noTraAbbr[test_noTraAbbr.columns[1:8]].apply(\n",
        "    lambda x: ' '.join(x.dropna().astype(str)),\n",
        "    axis=1\n",
        ")\n",
        "\n",
        "# for this step, we only test addresses with unit number!\n",
        "test_DT_noTranAbbr = test_noTraAbbr[~test_noTraAbbr['SITUSUNITTYPE'].isna()][:1000]\n",
        "# generate key with ColumnA-after string tranformation\n",
        "# => no matter if we remove special characters or not, there is no missing info if we use ColumnA ( since we are using the original columns)\n",
        "column_map = {\"ColumnA\" : \"street_address\", \"SITUSZIP5\": \"postal_code\"}\n",
        "place_keys = (\"city\",\"iso_country_code\",\"postal_code\",\"street_address\",\"query_id\",\"region\")\n",
        "stad_df = get_standard_df(test_DT_noTranAbbr,column_map,\"US\", \"new york\", \"ny\")\n",
        "\n",
        "df_placekey = get_placekey_df(pk_api,stad_df,place_keys)\n",
        "concat_noTranAbbr = pd.concat([df_placekey,test_DT_noTranAbbr.reset_index()],axis=1)\n"
      ]
    },
    {
      "cell_type": "markdown",
      "id": "e624e606",
      "metadata": {
        "id": "e624e606"
      },
      "source": [
        "if we transform abbr"
      ]
    },
    {
      "cell_type": "code",
      "execution_count": null,
      "id": "0a7ace03",
      "metadata": {
        "id": "0a7ace03",
        "outputId": "6469adc2-79cb-47a4-bef2-d6af0e09305a"
      },
      "outputs": [],
      "source": [
        "# DT_ADDRESS_final[DT_ADDRESS_final['SITUSUNITTYPE']=='ph']\n",
        "# since unittype and unit number is always not the same, we might need to be careful when joining splited strings together?\n",
        "\n",
        " \n",
        "df = pd.read_csv('suffix_abbreviations_converted.csv')\n",
        "StreetNamePostType_dict = dict(zip(df.common_name, df.abbr))\n",
        "\n",
        "test_TranAbbr = DT_ADDRESS_final.copy()\n",
        "\n",
        "StreetNameDirectional_dict = {'west': 'w', 'south': 's', 'north': 'n','east': 'e'}\n",
        "\n",
        "test_TranAbbr.replace({\"SITUSDIRECTIONLEFT\": StreetNameDirectional_dict},inplace=True)\n",
        "test_TranAbbr.replace({\"SITUSDIRECTIONRIGHT\": StreetNameDirectional_dict},inplace=True)\n",
        "\n",
        "test_TranAbbr.replace({\"SITUSMODE\": StreetNamePostType_dict},inplace=True)\n",
        "\n",
        "\n",
        "test_TranAbbr['ColumnA'] = test_TranAbbr[test_TranAbbr.columns[1:8]].apply(\n",
        "    lambda x: ' '.join(x.dropna().astype(str)),\n",
        "    axis=1\n",
        ")\n",
        "test_TranAbbr = test_TranAbbr[~test_TranAbbr['SITUSUNITTYPE'].isna()][:1000]\n",
        "# generate key with ColumnA-after string tranformation\n",
        "# => no matter if we remove special characters or not, there is no missing info if we use ColumnA ( since we are using the original columns)\n",
        "column_map = {\"ColumnA\" : \"street_address\", \"SITUSZIP5\": \"postal_code\"}\n",
        "place_keys = (\"city\",\"iso_country_code\",\"postal_code\",\"street_address\",\"query_id\",\"region\")\n",
        "stad_df = get_standard_df(test_TranAbbr,column_map,\"US\", \"new york\", \"ny\")\n",
        "\n",
        "df_placekey = get_placekey_df(pk_api,stad_df,place_keys)\n",
        "concat_Abbr = pd.concat([df_placekey,test_TranAbbr.reset_index()],axis=1)\n"
      ]
    },
    {
      "cell_type": "code",
      "execution_count": null,
      "id": "ba5487e7",
      "metadata": {
        "id": "ba5487e7",
        "outputId": "591b2e39-4506-4e79-9cda-a0333b4a7a0d"
      },
      "outputs": [],
      "source": [
        "concat_noTranAbbr.head(5)"
      ]
    },
    {
      "cell_type": "code",
      "execution_count": null,
      "id": "a03c89f9",
      "metadata": {
        "id": "a03c89f9",
        "outputId": "0658ae18-760e-4a75-c95e-cae3e6016f25"
      },
      "outputs": [],
      "source": [
        "concat_Abbr.head(5)"
      ]
    },
    {
      "cell_type": "code",
      "execution_count": null,
      "id": "4181f48b",
      "metadata": {
        "id": "4181f48b",
        "outputId": "00d4586d-2cb8-41d6-cd08-e84ef98f7e50"
      },
      "outputs": [],
      "source": [
        "# compare if abbr matters\n",
        "IfAbbrMatter = pd.merge(concat_noTranAbbr[['query_id','error','placekey','ColumnA','DATATREE_ADDRESS']],concat_Abbr[['query_id','error','placekey','ColumnA']], how = 'left', right_on = ['query_id'], \n",
        "                          left_on = ['query_id'])\n",
        "\n",
        "IfAbbrMatter[(IfAbbrMatter['placekey_x']!=IfAbbrMatter['placekey_y'])&IfAbbrMatter['placekey_x'].notna()]\n",
        "\n",
        "# no difference"
      ]
    },
    {
      "cell_type": "markdown",
      "id": "3aad3780",
      "metadata": {
        "id": "3aad3780"
      },
      "source": [
        "Conclusion: encoding directional words and streetname doesn't impact placekey. If such transformation is good for further address matching, we can definitely incorporate this step in the Assessor Table!"
      ]
    },
    {
      "cell_type": "markdown",
      "id": "4113d343",
      "metadata": {
        "id": "4113d343"
      },
      "source": [
        "look in mls table\n"
      ]
    },
    {
      "cell_type": "code",
      "execution_count": null,
      "id": "6e07cfe2",
      "metadata": {
        "id": "6e07cfe2",
        "outputId": "74d6dafd-e7f0-4895-a670-f7a0e6380030"
      },
      "outputs": [],
      "source": [
        "# still for addresses with unit number \n",
        "\n",
        "test_noTraAbbr_mls = MLS_ADDRESS_final.copy()\n",
        "# keep usaddresses in the same order as how the original string is formatted\n",
        "test_noTraAbbr_mls['ColumnA'] = test_noTraAbbr_mls[['AddressNumber', 'StreetNamePreDirectional', 'StreetName',\n",
        "       'StreetNamePostType','StreetNamePostDirectional','OccupancyType', 'OccupancyIdentifier']].apply(\n",
        "    lambda x: ' '.join(x.dropna().astype(str)),\n",
        "    axis=1\n",
        ")\n",
        "test_noTraAbbr_mls = test_noTraAbbr_mls[~test_noTraAbbr_mls['OccupancyType'].isna()][:1000]\n",
        "\n",
        "# generate key with combined ColumnA \n",
        "column_map = {\"ColumnA\" : \"street_address\", \"SITUSZIP5\": \"postal_code\"}\n",
        "place_keys = (\"city\",\"iso_country_code\",\"postal_code\",\"street_address\",\"query_id\",\"region\")\n",
        "stad_df = get_standard_df(test_noTraAbbr_mls,column_map,\"US\", \"new york\", \"ny\")\n",
        "\n",
        "df_placekey = get_placekey_df(pk_api,stad_df,place_keys)\n",
        "concat_noTranAbbr_mls = pd.concat([df_placekey,test_noTraAbbr_mls.reset_index()],axis=1)\n"
      ]
    },
    {
      "cell_type": "code",
      "execution_count": null,
      "id": "c1a10655",
      "metadata": {
        "id": "c1a10655",
        "outputId": "fbc2f0c5-f05a-43ef-e379-b1a55b0744a8"
      },
      "outputs": [],
      "source": [
        "concat_noTranAbbr_mls[concat_noTranAbbr_mls['MLS_ADDRESS']!=concat_noTranAbbr_mls['ColumnA']]"
      ]
    },
    {
      "cell_type": "code",
      "execution_count": null,
      "id": "5d1a4c99",
      "metadata": {
        "id": "5d1a4c99",
        "outputId": "e8df018d-5ed7-4e4a-c601-2046d1721f96"
      },
      "outputs": [],
      "source": [
        "# no transfer => meaning that we will use original address column which has been cleaned\n",
        "test_noTraAbbr_mls = MLS_ADDRESS_final.copy()\n",
        "test_noTraAbbr_mls = test_noTraAbbr_mls[~test_noTraAbbr_mls['OccupancyType'].isna()][:1000]\n",
        "\n",
        "# generate key with combined ColumnA \n",
        "column_map = {\"MLS_ADDRESS\" : \"street_address\", \"SITUSZIP5\": \"postal_code\"}\n",
        "place_keys = (\"city\",\"iso_country_code\",\"postal_code\",\"street_address\",\"query_id\",\"region\")\n",
        "stad_df = get_standard_df(test_noTraAbbr_mls,column_map,\"US\", \"new york\", \"ny\")\n",
        "\n",
        "df_placekey = get_placekey_df(pk_api,stad_df,place_keys)\n",
        "concat_noTranAbbr_mls = pd.concat([df_placekey,test_noTraAbbr_mls.reset_index()],axis=1)\n",
        "# concat_noTranAbbr_mls"
      ]
    },
    {
      "cell_type": "code",
      "execution_count": null,
      "id": "0de72aa8",
      "metadata": {
        "id": "0de72aa8",
        "outputId": "b0f1079d-89c0-4be8-d5d6-b29e187fb864"
      },
      "outputs": [],
      "source": [
        "concat_noTranAbbr_mls[concat_noTranAbbr_mls['MLS_ADDRESS']=='196 avenue of the americas apt 1c']\n",
        "concat_noTranAbbr_mls\n"
      ]
    },
    {
      "cell_type": "code",
      "execution_count": null,
      "id": "8dbf57ec",
      "metadata": {
        "id": "8dbf57ec"
      },
      "outputs": [],
      "source": [
        "test_TraAbbr_mls = MLS_ADDRESS_final.copy()\n",
        "test_TraAbbr_mls = test_TraAbbr_mls[~test_TraAbbr_mls['OccupancyType'].isna()][:1000]\n",
        "\n",
        "test_TraAbbr_mls['ColumnA'] = test_TraAbbr_mls[['AddressNumber', 'StreetNamePreDirectional','StreetNamePreType' ,'StreetName',\n",
        "       'StreetNamePostType','StreetNamePostDirectional','OccupancyType', 'OccupancyIdentifier']].apply(\n",
        "    lambda x: ' '.join(x.dropna().astype(str)),\n",
        "    axis=1\n",
        ")\n",
        "\n",
        "# test_TraAbbr_mls"
      ]
    },
    {
      "cell_type": "code",
      "execution_count": null,
      "id": "fe12fad3",
      "metadata": {
        "id": "fe12fad3",
        "outputId": "7a678ad4-07ff-4786-e514-cb18b13ccca6"
      },
      "outputs": [],
      "source": [
        "# generate key with combined ColumnA \n",
        "column_map = {\"ColumnA\" : \"street_address\", \"POSTALCODE\": \"postal_code\"}\n",
        "place_keys = (\"city\",\"iso_country_code\",\"postal_code\",\"street_address\",\"query_id\",\"region\")\n",
        "stad_df = get_standard_df(test_TraAbbr_mls,column_map,\"US\", \"new york\", \"ny\")\n",
        "\n",
        "df_placekey = get_placekey_df(pk_api,stad_df,place_keys)\n",
        "concat_TranAbbr_mls = pd.concat([df_placekey,test_TraAbbr_mls.reset_index()],axis=1)\n",
        "concat_TranAbbr_mls"
      ]
    },
    {
      "cell_type": "code",
      "execution_count": null,
      "id": "1f3cdada",
      "metadata": {
        "id": "1f3cdada",
        "outputId": "b71390cc-75c6-40a7-904d-a98897fd1500"
      },
      "outputs": [],
      "source": [
        "# compare if abbr matters\n",
        "IfAbbrMatter_mls = pd.merge(concat_noTranAbbr_mls[['query_id','placekey','MLS_ADDRESS']],concat_TranAbbr_mls[['query_id','placekey','ColumnA']], how = 'left', right_on = ['query_id'], \n",
        "                          left_on = ['query_id'])\n",
        "IfAbbrMatter_mls\n",
        "IfAbbrMatter_mls[(IfAbbrMatter_mls['placekey_x']!=IfAbbrMatter_mls['placekey_y'])& (IfAbbrMatter_mls['placekey_x'].notna())]\n",
        "\n",
        "# yay seems that there's no difference!\n",
        "\n",
        "\n"
      ]
    },
    {
      "cell_type": "code",
      "execution_count": null,
      "id": "903665d3",
      "metadata": {
        "id": "903665d3"
      },
      "outputs": [],
      "source": [
        "# concat_noTranAbbr_mls[concat_noTranAbbr_mls['MLS_ADDRESS']=='60 sutton pl s 14gs']"
      ]
    },
    {
      "cell_type": "markdown",
      "id": "b0d983d8",
      "metadata": {
        "id": "b0d983d8"
      },
      "source": [
        "Conclusion: it's okay to use converted address to generate keys!\n",
        "### If unit signal exist:\n",
        "1. For Accessor Table:\\\n",
        "there's no difference in the keys generated by converted/non-converted combined columns \\\n",
        "=> we can use combined column to  generate keys! it doesn't matter whether we transform those directional words/ street type or not \\\n",
        "=> depending on what we're gonna do in the later column-bu-column string mappings! Yay!\n",
        "\n",
        "2. For MLS Table:\\\n",
        "there's no difference in the keys generated by converted combined columns vs. original column\\\n",
        "=> it's okay to standatdize directional words AND StreetTypes\\\n",
        "=> but we keep the order of ['AddressNumber', 'StreetNamePreDirectional','StreetNamePreType' ,'StreetName','StreetNamePostType','StreetNamePostDirectional','OccupancyType', 'OccupancyIdentifier']\n",
        "\n"
      ]
    },
    {
      "cell_type": "markdown",
      "id": "a28b0360",
      "metadata": {
        "id": "a28b0360"
      },
      "source": [
        "### case2: when there is no signal"
      ]
    },
    {
      "cell_type": "code",
      "execution_count": null,
      "id": "3b6d3158",
      "metadata": {
        "id": "3b6d3158",
        "outputId": "461604d1-01e4-447e-c834-addb4f408930"
      },
      "outputs": [],
      "source": [
        "# we take original tabel without abbreviation transformation\n",
        "test_noTraAbbr[(test_noTraAbbr['SITUSUNITNBR'].notna())].shape # address with unit number\n",
        "# shared building? \n",
        "# TODO: generate sample-> a building with mul units in the same building \n",
        "\n",
        "\n"
      ]
    },
    {
      "cell_type": "markdown",
      "id": "fb1d8689",
      "metadata": {
        "id": "fb1d8689"
      },
      "source": [
        "maybe get placekey id for each building (if keys being returned are the same for add. which only diff. in the unit numbers)"
      ]
    },
    {
      "cell_type": "code",
      "execution_count": null,
      "id": "51233f49",
      "metadata": {
        "id": "51233f49",
        "outputId": "299ca0e5-c650-400d-ac31-b2fe072683fd"
      },
      "outputs": [],
      "source": [
        "# DT_ADDRESS_final[(DT_ADDRESS_final['SITUSUNITTYPE'].isna())&(DT_ADDRESS_final['SITUSUNITNBR'].notna())]\n",
        "# concat_Abbr\n",
        "noUnitNum = test_noTraAbbr[(test_noTraAbbr['SITUSUNITTYPE'].isna())&(test_noTraAbbr['SITUSUNITNBR'].notna())]\n",
        "\n",
        "noUnitNum\n",
        "\n",
        "# generate key with ColumnA-after string tranformation\n",
        "# => no matter if we remove special characters or not, there is no missing info if we use ColumnA ( since we are using the original columns)\n",
        "column_map = {\"ColumnA\" : \"street_address\", \"SITUSZIP5\": \"postal_code\"}\n",
        "place_keys = (\"city\",\"iso_country_code\",\"postal_code\",\"street_address\",\"query_id\",\"region\")\n",
        "stad_df = get_standard_df(noUnitNum,column_map,\"US\", \"new york\", \"ny\")\n",
        "\n",
        "df_placekey = get_placekey_df(pk_api,stad_df,place_keys)\n",
        "noUnitNum_key1 = pd.concat([df_placekey,noUnitNum.reset_index()],axis=1)\n"
      ]
    },
    {
      "cell_type": "code",
      "execution_count": null,
      "id": "1e644ecf",
      "metadata": {
        "id": "1e644ecf",
        "outputId": "1ee51bf6-5c98-42db-82a5-8f7ab802cde0"
      },
      "outputs": [],
      "source": [
        "noUnitNum"
      ]
    },
    {
      "cell_type": "code",
      "execution_count": null,
      "id": "4760aea4",
      "metadata": {
        "id": "4760aea4",
        "outputId": "d7e235f4-2f12-4c3e-da3d-90dceae90724"
      },
      "outputs": [],
      "source": [
        "test_noTraAbbr.shape"
      ]
    },
    {
      "cell_type": "code",
      "execution_count": null,
      "id": "1e2c72ac",
      "metadata": {
        "id": "1e2c72ac"
      },
      "outputs": [],
      "source": [
        "# old_df.loc[old_df.product_url.isin(list(to_zero)), 'availability'] = 0\n",
        "noUnitNum.loc[noUnitNum['SITUSUNITTYPE'].isna(),'SITUSUNITTYPE'] = 'apt'"
      ]
    },
    {
      "cell_type": "code",
      "execution_count": null,
      "id": "9ee154a8",
      "metadata": {
        "id": "9ee154a8",
        "outputId": "64375a46-af93-43fd-99b5-214493c6fafa"
      },
      "outputs": [],
      "source": [
        "noUnitNum['ColumnA_new'] = noUnitNum[noUnitNum.columns[1:8]].apply(\n",
        "    lambda x: ' '.join(x.dropna().astype(str)),\n",
        "    axis=1\n",
        ")\n",
        "\n",
        "column_map = {\"ColumnA_new\" : \"street_address\", \"SITUSZIP5\": \"postal_code\"}\n",
        "place_keys = (\"city\",\"iso_country_code\",\"postal_code\",\"street_address\",\"query_id\",\"region\")\n",
        "stad_df = get_standard_df(noUnitNum,column_map,\"US\", \"new york\", \"ny\")\n",
        "\n",
        "df_placekey = get_placekey_df(pk_api,stad_df,place_keys)\n",
        "noUnitNum_key2 = pd.concat([df_placekey,noUnitNum.reset_index()],axis=1)\n"
      ]
    },
    {
      "cell_type": "code",
      "execution_count": null,
      "id": "f6b1b837",
      "metadata": {
        "id": "f6b1b837",
        "outputId": "bd727bbd-a7ce-4853-c4c0-a202b893359f"
      },
      "outputs": [],
      "source": [
        "# final result for address which have unit number but do not have unit signals \n",
        "# => we add a signal where they are the same as the unit type occuring the most frequently \n",
        "add_unitsig = pd.merge(noUnitNum_key1[['query_id','placekey','DATATREE_ADDRESS','ColumnA']],noUnitNum_key2[['query_id','placekey','ColumnA_new']], how = 'left', right_on = ['query_id'], \n",
        "                          left_on = ['query_id'])\n",
        "\n",
        "add_unitsig[(add_unitsig['placekey_x']!=add_unitsig['placekey_y'])].shape\n",
        "\n",
        "# do we need to manually add a signal?\n"
      ]
    },
    {
      "cell_type": "markdown",
      "id": "ea8875f7",
      "metadata": {
        "id": "ea8875f7"
      },
      "source": [
        "57/745 -> new york"
      ]
    },
    {
      "cell_type": "code",
      "execution_count": null,
      "id": "9b91521a",
      "metadata": {
        "id": "9b91521a",
        "outputId": "25ef146b-55a4-4e85-9054-019c8619d924"
      },
      "outputs": [],
      "source": [
        "add_unitsig[(add_unitsig['placekey_x']!=add_unitsig['placekey_y'])]"
      ]
    },
    {
      "cell_type": "code",
      "execution_count": null,
      "id": "e2d12850",
      "metadata": {
        "id": "e2d12850",
        "outputId": "bbb26cf8-e288-45a9-839d-ad33f6875c72"
      },
      "outputs": [],
      "source": [
        "# df_DATATREE\n",
        "DT_ADDRESS_final\n",
        "# DT_ADDRESS_final['SITUSUNITTYPE'].value_counts()\n",
        "# OccupancyType\n",
        "test_noTraAbbr['SITUSUNITTYPE'].value_counts()"
      ]
    },
    {
      "cell_type": "code",
      "execution_count": null,
      "id": "ca6e0491",
      "metadata": {
        "id": "ca6e0491",
        "outputId": "37587382-9805-4b3a-bfd1-bd63c40f5c00"
      },
      "outputs": [],
      "source": [
        "DT_ADDRESS_final['SITUSUNITTYPE'].value_counts()"
      ]
    },
    {
      "cell_type": "markdown",
      "id": "2ec45d89",
      "metadata": {
        "id": "2ec45d89"
      },
      "source": [
        "for addresses that have unit signal:"
      ]
    },
    {
      "cell_type": "code",
      "execution_count": null,
      "id": "0defbe6a",
      "metadata": {
        "id": "0defbe6a"
      },
      "outputs": [],
      "source": [
        "test_DT = test_noTraAbbr[~test_noTraAbbr['SITUSUNITTYPE'].isna()][:1000]\n",
        "# test_noTraAbbr[(test_noTraAbbr['SITUSUNITNBR'].notna())].shape # address with unit number\n"
      ]
    },
    {
      "cell_type": "code",
      "execution_count": null,
      "id": "22721fec",
      "metadata": {
        "id": "22721fec",
        "outputId": "0b9c590c-4cbf-4855-ed9f-5be3dff1284b"
      },
      "outputs": [],
      "source": [
        "# generate key with ColumnA-after string tranformation\n",
        "column_map = {\"ColumnA\" : \"street_address\", \"SITUSZIP5\": \"postal_code\"}\n",
        "place_keys = (\"city\",\"iso_country_code\",\"postal_code\",\"street_address\",\"query_id\",\"region\")\n",
        "stad_df = get_standard_df(test_DT,column_map,\"US\", \"new york\", \"ny\")\n",
        "\n",
        "df_placekey = get_placekey_df(pk_api,stad_df,place_keys)\n",
        "concat_ColA = pd.concat([df_placekey,test_DT.reset_index()],axis=1)\n"
      ]
    },
    {
      "cell_type": "code",
      "execution_count": null,
      "id": "46fbd1fd",
      "metadata": {
        "id": "46fbd1fd",
        "outputId": "f72401c7-d0af-421f-ab30-c328861379f1"
      },
      "outputs": [],
      "source": [
        "# generate key with original data - after string tranformation\n",
        "column_map = {\"DATATREE_ADDRESS\" : \"street_address\", \"SITUSZIP5\": \"postal_code\"}\n",
        "place_keys = (\"city\",\"iso_country_code\",\"postal_code\",\"street_address\",\"query_id\",\"region\")\n",
        "stad_df = get_standard_df(test_DT,column_map,\"US\", \"new york\", \"ny\")\n",
        "\n",
        "df_placekey = get_placekey_df(pk_api,stad_df,place_keys)\n",
        "concat_Orig =pd.concat([df_placekey,test_DT.reset_index()],axis=1)\n"
      ]
    },
    {
      "cell_type": "code",
      "execution_count": null,
      "id": "a7921ea4",
      "metadata": {
        "id": "a7921ea4",
        "outputId": "fd7786fa-69c5-44e4-a3f5-16e76d0fb9e5"
      },
      "outputs": [],
      "source": [
        "concat_ColA[['query_id','error','placekey','DATATREE_ADDRESS','ColumnA']]"
      ]
    },
    {
      "cell_type": "code",
      "execution_count": null,
      "id": "15b43261",
      "metadata": {
        "id": "15b43261",
        "outputId": "f4006dcc-50b8-4224-8057-a13148259146"
      },
      "outputs": [],
      "source": [
        "concat_Orig[['query_id','error','placekey','DATATREE_ADDRESS','ColumnA']]"
      ]
    },
    {
      "cell_type": "code",
      "execution_count": null,
      "id": "c0d2f728",
      "metadata": {
        "id": "c0d2f728"
      },
      "outputs": [],
      "source": []
    },
    {
      "cell_type": "code",
      "execution_count": null,
      "id": "3d354196",
      "metadata": {
        "id": "3d354196"
      },
      "outputs": [],
      "source": []
    }
  ],
  "metadata": {
    "colab": {
      "collapsed_sections": [
        "b0d983d8",
        "a28b0360"
      ],
      "name": "deal with abbr for combining addresses.ipynb",
      "provenance": []
    },
    "kernelspec": {
      "display_name": "Python 3 (ipykernel)",
      "language": "python",
      "name": "python3"
    },
    "language_info": {
      "codemirror_mode": {
        "name": "ipython",
        "version": 3
      },
      "file_extension": ".py",
      "mimetype": "text/x-python",
      "name": "python",
      "nbconvert_exporter": "python",
      "pygments_lexer": "ipython3",
      "version": "3.9.7"
    }
  },
  "nbformat": 4,
  "nbformat_minor": 5
}
