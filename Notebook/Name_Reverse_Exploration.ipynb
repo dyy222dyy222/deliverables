{
 "cells": [
  {
   "cell_type": "markdown",
   "id": "bbeac46b",
   "metadata": {},
   "source": [
    "# 1.Import data"
   ]
  },
  {
   "cell_type": "code",
   "execution_count": null,
   "id": "1b927bb4",
   "metadata": {},
   "outputs": [],
   "source": [
    "#!pip install snowflake-connector-python\n",
    "#!pip install snowflake-connector-python[pandas]\n",
    "#!pip install usaddress\n",
    "import snowflake.connector\n",
    "from snowflake.connector import cursor\n",
    "import usaddress\n",
    "import re"
   ]
  },
  {
   "cell_type": "code",
   "execution_count": null,
   "id": "48894a45",
   "metadata": {},
   "outputs": [],
   "source": [
    "ctx = snowflake.connector.connect(\n",
    "    user='',\n",
    "    password='',\n",
    "    account=''\n",
    "    )\n",
    "\n",
    "cursor = ctx.cursor()"
   ]
  },
  {
   "cell_type": "code",
   "execution_count": null,
   "id": "6612107f",
   "metadata": {},
   "outputs": [],
   "source": [
    "import pandas as pd\n",
    "sql_MLS = \"\"\"\"\"\"\n",
    "df_MLS = pd.read_sql(sql_MLS, con=ctx)"
   ]
  },
  {
   "cell_type": "code",
   "execution_count": null,
   "id": "5266a132",
   "metadata": {},
   "outputs": [],
   "source": [
    "sql_DATATREE = \"\"\"\"\"\"\n",
    "df_DATATREE = pd.read_sql(sql_DATATREE, con=ctx)"
   ]
  },
  {
   "cell_type": "code",
   "execution_count": null,
   "id": "7c6b7330",
   "metadata": {},
   "outputs": [],
   "source": [
    "df_MLS"
   ]
  },
  {
   "cell_type": "code",
   "execution_count": null,
   "id": "c87b0036",
   "metadata": {},
   "outputs": [],
   "source": [
    "df_DATATREE"
   ]
  },
  {
   "cell_type": "code",
   "execution_count": null,
   "id": "bcbf9fe0",
   "metadata": {},
   "outputs": [],
   "source": [
    "len(df_MLS['MLS_ADDRESS'].unique())/len(df_DATATREE['DATATREE_ADDRESS'].unique())"
   ]
  },
  {
   "cell_type": "markdown",
   "id": "eb53b75b",
   "metadata": {},
   "source": [
    "# 2. First Node - Completely match"
   ]
  },
  {
   "cell_type": "code",
   "execution_count": null,
   "id": "4a482dd3",
   "metadata": {},
   "outputs": [],
   "source": [
    "# Drop NaN\n",
    "df_MLS.dropna(subset=['MLS_ADDRESS'], inplace=True)\n",
    "df_DATATREE.dropna(subset=['DATATREE_ADDRESS'], inplace=True)\n"
   ]
  },
  {
   "cell_type": "code",
   "execution_count": null,
   "id": "1ff3c752",
   "metadata": {},
   "outputs": [],
   "source": [
    "# Merge the data\n",
    "df_merge_node1 = pd.merge(df_DATATREE,df_MLS, how = 'left', right_on = ['MLS_ADDRESS', 'POSTALCODE'], \n",
    "                          left_on = ['DATATREE_ADDRESS', 'SITUSZIP5'])\n"
   ]
  },
  {
   "cell_type": "code",
   "execution_count": null,
   "id": "88760163",
   "metadata": {},
   "outputs": [],
   "source": [
    "# Compute ratio\n",
    "first_node_match = len(df_merge_node1[df_merge_node1['MLS_ADDRESS'].notnull()]['MLS_ADDRESS'].unique())\n",
    "base = len(df_DATATREE['DATATREE_ADDRESS'].unique())\n",
    "first_node_match_ratio = first_node_match/base\n",
    "first_node_match_ratio\n"
   ]
  },
  {
   "cell_type": "markdown",
   "id": "511b5756",
   "metadata": {},
   "source": [
    "- Create Matched addresses list"
   ]
  },
  {
   "cell_type": "code",
   "execution_count": null,
   "id": "58dce008",
   "metadata": {},
   "outputs": [],
   "source": [
    "first_node_match"
   ]
  },
  {
   "cell_type": "code",
   "execution_count": null,
   "id": "dbf80aee",
   "metadata": {},
   "outputs": [],
   "source": [
    "MLS_matched_address = []\n",
    "DATATREE_matched_address = []"
   ]
  },
  {
   "cell_type": "code",
   "execution_count": null,
   "id": "50a2f0ec",
   "metadata": {},
   "outputs": [],
   "source": [
    "first_node_match_list = list(df_merge_node1[df_merge_node1['MLS_ADDRESS'].notnull()]['MLS_ADDRESS'].unique())\n",
    "MLS_matched_address.extend(first_node_match_list)\n",
    "DATATREE_matched_address.extend(first_node_match_list)"
   ]
  },
  {
   "cell_type": "code",
   "execution_count": null,
   "id": "6c2fb816",
   "metadata": {},
   "outputs": [],
   "source": [
    "len(MLS_matched_address)"
   ]
  },
  {
   "cell_type": "code",
   "execution_count": null,
   "id": "113c18ba",
   "metadata": {},
   "outputs": [],
   "source": [
    "len(DATATREE_matched_address)"
   ]
  },
  {
   "cell_type": "markdown",
   "id": "2e729ee6",
   "metadata": {},
   "source": [
    "# 3. Second Node - Match after transformation"
   ]
  },
  {
   "cell_type": "markdown",
   "id": "31cfe970",
   "metadata": {},
   "source": [
    "- Remove punctuation"
   ]
  },
  {
   "cell_type": "code",
   "execution_count": null,
   "id": "25ca821e",
   "metadata": {},
   "outputs": [],
   "source": [
    "# Remove punctuations\n",
    "from string import punctuation\n",
    "import re\n",
    "# punctuation -> space\n",
    "remove_punctiuation = str.maketrans(punctuation, ' '*len(punctuation))\n",
    "\n",
    "df_MLS['MLS_ADDRESS'] = df_MLS['MLS_ADDRESS'].apply(lambda x: x.translate(remove_punctiuation))\n",
    "df_DATATREE['DATATREE_ADDRESS'] = df_DATATREE['DATATREE_ADDRESS'].apply(lambda x: x.translate(remove_punctiuation))\n",
    "# several spaces -> one space\n",
    "df_MLS['MLS_ADDRESS'] = df_MLS['MLS_ADDRESS'].apply(lambda x: re.sub(' +', ' ', x))\n",
    "df_DATATREE['DATATREE_ADDRESS'] = df_DATATREE['DATATREE_ADDRESS'].apply(lambda x: re.sub(' +', ' ', x))\n"
   ]
  },
  {
   "cell_type": "markdown",
   "id": "1cce4fb3",
   "metadata": {},
   "source": [
    "- Create table with splitted addresses"
   ]
  },
  {
   "cell_type": "code",
   "execution_count": null,
   "id": "de52c3b8",
   "metadata": {},
   "outputs": [],
   "source": [
    "import usaddress\n",
    "df1_MLS = df_MLS\n",
    "def get_MLS_addr(df):\n",
    "    global MLS_address\n",
    "    try:\n",
    "        MLS_address = usaddress.tag(df['MLS_ADDRESS'])\n",
    "    except usaddress.RepeatedLabelError as e :\n",
    "#         print('error')\n",
    "        pass\n",
    "    return MLS_address\n",
    "\n",
    "df1_MLS['MLS_ADDRESS_Split'] = df1_MLS.apply(lambda df1_MLS : get_MLS_addr(df1_MLS), axis = 1)\n",
    "test_MLS = df1_MLS.MLS_ADDRESS_Split.to_list()\n",
    "values= []\n",
    "for i in range(len(test_MLS)):\n",
    "    values.append(test_MLS[i][0])\n",
    "splited_MLS = pd.DataFrame(values)\n",
    "df1_MLS.reset_index(inplace=True)\n",
    "MLS_ADDRESS_final = pd.concat([df1_MLS,splited_MLS],axis=1)\n",
    "del MLS_ADDRESS_final['index']\n",
    "MLS_ADDRESS_final"
   ]
  },
  {
   "cell_type": "code",
   "execution_count": null,
   "id": "3fb188cd",
   "metadata": {},
   "outputs": [],
   "source": [
    "# deal with datatree\n",
    "df1_DATATREE = df_DATATREE\n",
    "def get_DATATREE_addr(df):\n",
    "    global DT_ADDRESS\n",
    "    try:\n",
    "        DT_ADDRESS = usaddress.tag(df['DATATREE_ADDRESS'])\n",
    "    except usaddress.RepeatedLabelError as e:\n",
    "        pass\n",
    "    return DT_ADDRESS\n",
    "df1_DATATREE['DATATREE_ADDRESS_Split'] = df1_DATATREE.apply(lambda df1_DATATREE : get_DATATREE_addr(df1_DATATREE), axis = 1)\n",
    "test_DATATREE = df1_DATATREE.DATATREE_ADDRESS_Split.to_list()\n",
    "values= []\n",
    "for i in range(len(test_DATATREE)):\n",
    "    try:\n",
    "        values.append(test_DATATREE[i][0])\n",
    "    except:\n",
    "        pass\n",
    "splited_DATATREE = pd.DataFrame(values)\n",
    "df1_DATATREE.reset_index(inplace=True)\n",
    "DT_ADDRESS_final = pd.concat([df1_DATATREE,splited_DATATREE],axis=1)\n",
    "del DT_ADDRESS_final['index']\n",
    "DT_ADDRESS_final"
   ]
  },
  {
   "cell_type": "markdown",
   "id": "c5c542ed",
   "metadata": {},
   "source": [
    "- Address cleaning"
   ]
  },
  {
   "cell_type": "code",
   "execution_count": null,
   "id": "5681dcdd",
   "metadata": {},
   "outputs": [],
   "source": [
    "print(DT_ADDRESS_final.columns)\n",
    "abbr_list = ['StreetNamePreDirectional','StreetNamePostType',\n",
    "             'OccupancyType','StreetNamePostDirectional']\n",
    "for col in abbr_list:\n",
    "    print(f'{col}:\\n'+ f'{DT_ADDRESS_final[col].unique()}') "
   ]
  },
  {
   "cell_type": "code",
   "execution_count": null,
   "id": "52840b3d",
   "metadata": {},
   "outputs": [],
   "source": [
    "print(MLS_ADDRESS_final.columns)\n",
    "abbr_list = ['StreetNamePreDirectional','StreetNamePostType',\n",
    "             'OccupancyType','StreetNamePostDirectional']\n",
    "for col in abbr_list:\n",
    "    print(f'{col}:\\n'+ f'{MLS_ADDRESS_final[col].unique()}') "
   ]
  },
  {
   "cell_type": "code",
   "execution_count": null,
   "id": "a64d867c",
   "metadata": {},
   "outputs": [],
   "source": [
    "StreetNameDirectional_dict = {'west': 'w', 'south': 's', 'north': 'n','east': 'e'}\n",
    "StreetNamePostType_dict = {'avenue': 'ave', 'highway': 'hwy', 'boulevard': 'blvd',\n",
    "                          'street': 'st', 'parkway': 'pkwy', 'terrace': 'ter',\n",
    "                          'lane': 'ln', 'place': 'pl', 'court': 'ct',\n",
    "                          'plaza': 'plz', 'park': 'pk', 'square': 'sq', 'shore':'shr',\n",
    "                          'branch': 'br', 'island': 'is', 'circle': 'cir', 'road':'rd',\n",
    "                           'drive': 'dr', 'garden': 'gdn', 'grdn': 'gdn','trail': 'trl'} \n",
    "\n",
    "DT_ADDRESS_final.replace({\"StreetNamePreDirectional\": StreetNameDirectional_dict},inplace=True)\n",
    "DT_ADDRESS_final.replace({\"StreetNamePostType\": StreetNamePostType_dict},inplace=True)\n",
    "\n",
    "MLS_ADDRESS_final.replace({\"StreetNamePreDirectional\": StreetNameDirectional_dict},inplace=True)\n",
    "MLS_ADDRESS_final.replace({\"StreetNamePostType\": StreetNamePostType_dict},inplace=True)"
   ]
  },
  {
   "cell_type": "code",
   "execution_count": null,
   "id": "205e4a79",
   "metadata": {},
   "outputs": [],
   "source": [
    "print(MLS_ADDRESS_final['StreetNamePreDirectional'].unique())\n",
    "print(DT_ADDRESS_final['StreetNamePreDirectional'].unique())\n",
    "print(MLS_ADDRESS_final['StreetNamePostType'].unique())\n",
    "print(DT_ADDRESS_final['StreetNamePostType'].unique())"
   ]
  },
  {
   "cell_type": "code",
   "execution_count": null,
   "id": "befa67c8",
   "metadata": {},
   "outputs": [],
   "source": [
    "DT_ADDRESS_final[DT_ADDRESS_final['StreetNamePreDirectional'] == '62']"
   ]
  },
  {
   "cell_type": "markdown",
   "id": "71300f98",
   "metadata": {},
   "source": [
    "- Merge"
   ]
  },
  {
   "cell_type": "code",
   "execution_count": null,
   "id": "3dc5e6ae",
   "metadata": {},
   "outputs": [],
   "source": [
    "df_merge_node2 = pd.merge(DT_ADDRESS_final, MLS_ADDRESS_final,\n",
    "                    how = 'left',\n",
    "                    left_on = ['AddressNumber', 'StreetName','StreetNamePreDirectional','StreetNamePostType',\n",
    "               'OccupancyIdentifier','OccupancyType', 'SITUSZIP5'],\n",
    "                    right_on = ['AddressNumber', 'StreetName','StreetNamePreDirectional','StreetNamePostType',\n",
    "               'OccupancyIdentifier','OccupancyType', 'POSTALCODE'])"
   ]
  },
  {
   "cell_type": "code",
   "execution_count": null,
   "id": "0602525f",
   "metadata": {},
   "outputs": [],
   "source": [
    "MLS_matched_address.extend(df_merge_node2[df_merge_node2['MLS_ADDRESS'].notnull()]['MLS_ADDRESS'].unique())\n",
    "MLS_matched_address = list(set(MLS_matched_address))\n",
    "len(MLS_matched_address)"
   ]
  },
  {
   "cell_type": "code",
   "execution_count": null,
   "id": "4acc6b1f",
   "metadata": {},
   "outputs": [],
   "source": [
    "DATATREE_matched_address.extend(df_merge_node2[df_merge_node2['MLS_ADDRESS'].notnull()]['DATATREE_ADDRESS'].unique())\n",
    "DATATREE_matched_address = list(set(DATATREE_matched_address))\n",
    "len(DATATREE_matched_address)"
   ]
  },
  {
   "cell_type": "code",
   "execution_count": null,
   "id": "157d2fbc",
   "metadata": {},
   "outputs": [],
   "source": [
    "second_node_match = len(MLS_matched_address)\n",
    "second_node_match_ratio = second_node_match/base\n",
    "second_node_match_ratio"
   ]
  },
  {
   "cell_type": "code",
   "execution_count": null,
   "id": "aff15036",
   "metadata": {},
   "outputs": [],
   "source": [
    "MLS_unmatched_node2 = MLS_ADDRESS_final[MLS_ADDRESS_final['MLS_ADDRESS'].apply(lambda x: x not in MLS_matched_address)]\n",
    "DATATREE_unmatched_node2 = DT_ADDRESS_final[DT_ADDRESS_final['DATATREE_ADDRESS'].apply(lambda x: x not in DATATREE_matched_address)]\n",
    "MLS_unmatched_node2.reset_index(inplace=True)\n",
    "DATATREE_unmatched_node2.reset_index(inplace=True)\n",
    "del MLS_unmatched_node2['index']\n",
    "del DATATREE_unmatched_node2['index']"
   ]
  },
  {
   "cell_type": "markdown",
   "id": "0da64f07",
   "metadata": {},
   "source": [
    "# 4. Third Node - Match with names"
   ]
  },
  {
   "cell_type": "markdown",
   "id": "a29264a7",
   "metadata": {},
   "source": [
    "### 4.1 Name cleaning"
   ]
  },
  {
   "cell_type": "markdown",
   "id": "ae2ffb46",
   "metadata": {},
   "source": [
    "#### 4.1.1  remove punctuations"
   ]
  },
  {
   "cell_type": "code",
   "execution_count": null,
   "id": "b5a6fa81",
   "metadata": {},
   "outputs": [],
   "source": [
    "from string import punctuation\n",
    "import re\n",
    "# punctuation -> space\n",
    "def remove_punct(x):\n",
    "    remove_punctiuation = str.maketrans(punctuation, ' '*len(punctuation))\n",
    "    if x is not None:\n",
    "        x = str(x)\n",
    "        x = x.translate(remove_punctiuation)\n",
    "        return x\n",
    "    else:\n",
    "        return x\n",
    "MLS_unmatched_node2['NAME'] = MLS_unmatched_node2['NAME'].apply(lambda x: remove_punct(x))\n",
    "DATATREE_unmatched_node2['OWNERNAME1FULL'] = DATATREE_unmatched_node2['OWNERNAME1FULL'].apply(lambda x: remove_punct(x))\n",
    "# several spaces -> one space\n",
    "def conver_space(x):\n",
    "    if x is not None:\n",
    "        x = str(x)\n",
    "        x = re.sub(' +', ' ', x)\n",
    "        return x.strip()\n",
    "    else:\n",
    "        return x\n",
    "MLS_unmatched_node2['NAME'] = MLS_unmatched_node2['NAME'].apply(lambda x: conver_space(x))\n",
    "DATATREE_unmatched_node2['OWNERNAME1FULL'] = DATATREE_unmatched_node2['OWNERNAME1FULL'].apply(lambda x: conver_space(x))\n"
   ]
  },
  {
   "cell_type": "markdown",
   "id": "1e1aaccd",
   "metadata": {},
   "source": [
    "#### 4.1.2 Deal with corporation related names"
   ]
  },
  {
   "cell_type": "markdown",
   "id": "18a248ea",
   "metadata": {},
   "source": [
    "- Replace the words related to corporations"
   ]
  },
  {
   "cell_type": "code",
   "execution_count": null,
   "id": "9502fed5",
   "metadata": {},
   "outputs": [],
   "source": [
    "# Use the words to find possible replacement in sheets\n",
    "# Incorpate - inc is kind of complicated, so no replacement\n",
    "replace_name_dict_complicated = {'limited liability company': 'llc', \n",
    "                                 'company limited partnership': 'company ltd partnership', \n",
    "                                 'co limited partnership': 'co ltd partnership', 'company ltd': 'co ltd',\n",
    "                                 'associates': 'assoc', 'limited liability partnerships': 'llp',\n",
    "                                 'properties': 'prop', 'association': 'assn', 'estate': 'est',\n",
    "                                 'condonminium': 'condo'}\n",
    "\n",
    "MLS_unmatched_node2.replace({\"NAME\": replace_name_dict_complicated},inplace=True)\n",
    "DATATREE_unmatched_node2.replace({\"OWNERNAME1FULL\": replace_name_dict_complicated},inplace=True)"
   ]
  },
  {
   "cell_type": "code",
   "execution_count": null,
   "id": "b882d8c4",
   "metadata": {},
   "outputs": [],
   "source": [
    "replace_name_dict_tail = {'incorporated': 'inc', 'corporation': 'corp', 'authority': 'a'}\n",
    "def replace_corp(x, replace_dict):\n",
    "    if x is None:\n",
    "        return x\n",
    "    import re\n",
    "    for key, value in replace_dict.items():\n",
    "        key = '(.*) ' + key + '$'\n",
    "        if re.match(key, x):\n",
    "            return re.search(key, x).group(1) + ' ' + value\n",
    "    return x"
   ]
  },
  {
   "cell_type": "code",
   "execution_count": null,
   "id": "9b98ceb5",
   "metadata": {},
   "outputs": [],
   "source": [
    "MLS_unmatched_node2['NAME'] = MLS_unmatched_node2['NAME'].apply(lambda x: replace_corp(x, replace_name_dict_tail))\n",
    "DATATREE_unmatched_node2['OWNERNAME1FULL'] = DATATREE_unmatched_node2['OWNERNAME1FULL'].apply(lambda  x: replace_corp(str(x), replace_name_dict_tail))"
   ]
  },
  {
   "cell_type": "markdown",
   "id": "663088aa",
   "metadata": {},
   "source": [
    "### 4.2 Match table to using addresses whose owners only own one address in the DATATREE table"
   ]
  },
  {
   "cell_type": "markdown",
   "id": "ce85eed0",
   "metadata": {},
   "source": [
    "#### 4.2.1 Completely Match"
   ]
  },
  {
   "cell_type": "markdown",
   "id": "26fdedfe",
   "metadata": {},
   "source": [
    "- Find the addresses whose owners only own one address in the DATATREE table"
   ]
  },
  {
   "cell_type": "code",
   "execution_count": null,
   "id": "6d0331b8",
   "metadata": {},
   "outputs": [],
   "source": [
    "only_once = DATATREE_unmatched_node2[['DATATREE_ADDRESS','OWNERNAME1FULL']].groupby('OWNERNAME1FULL').count()\n",
    "only_once = only_once[only_once['DATATREE_ADDRESS']==1]\n",
    "remaining = only_once[only_once['DATATREE_ADDRESS']> 1]\n",
    "once_list = list(only_once['DATATREE_ADDRESS'].index)\n",
    "DATATREE_only_once = DATATREE_unmatched_node2[DATATREE_unmatched_node2['OWNERNAME1FULL'].isin(once_list)]"
   ]
  },
  {
   "cell_type": "code",
   "execution_count": null,
   "id": "ddfd74ad",
   "metadata": {},
   "outputs": [],
   "source": [
    "df_merge_node3 = pd.merge(DATATREE_only_once, MLS_unmatched_node2, how = 'left', \n",
    "                            left_on = ['AddressNumber', 'StreetName', 'StreetNamePreDirectional', 'StreetNamePostType', 'SITUSZIP5'], \n",
    "                            right_on = ['AddressNumber', 'StreetName','StreetNamePreDirectional','StreetNamePostType', 'POSTALCODE'])"
   ]
  },
  {
   "cell_type": "code",
   "execution_count": null,
   "id": "72a0294b",
   "metadata": {},
   "outputs": [],
   "source": [
    "df_merge_node3 = df_merge_node3[df_merge_node3['MLS_ADDRESS'].notnull()]"
   ]
  },
  {
   "cell_type": "markdown",
   "id": "64ab73c4",
   "metadata": {},
   "source": [
    "- only contains that one address has apt and the other does not have"
   ]
  },
  {
   "cell_type": "code",
   "execution_count": null,
   "id": "f5739483",
   "metadata": {},
   "outputs": [],
   "source": [
    "def is_null(x, y):\n",
    "    if (x == 'nan') and (y == 'nan'):\n",
    "        return True\n",
    "    else:\n",
    "        return False\n",
    "df_merge_node3['Occupancy_x_none'] = df_merge_node3.apply(lambda x: is_null(str(x['OccupancyType_x']), str(x['OccupancyIdentifier_x'])), axis=1)\n",
    "df_merge_node3['Occupancy_y_none'] = df_merge_node3.apply(lambda x: is_null(str(x['OccupancyType_y']), str(x['OccupancyIdentifier_y'])), axis=1)"
   ]
  },
  {
   "cell_type": "code",
   "execution_count": null,
   "id": "827d8f9c",
   "metadata": {},
   "outputs": [],
   "source": [
    "df_merge_node3 = df_merge_node3[df_merge_node3['Occupancy_y_none'] != df_merge_node3['Occupancy_x_none']]"
   ]
  },
  {
   "cell_type": "code",
   "execution_count": null,
   "id": "ca4d3a9b",
   "metadata": {},
   "outputs": [],
   "source": [
    "df_merge_node3_matched = df_merge_node3[df_merge_node3[\"NAME\"] == df_merge_node3[\"OWNERNAME1FULL\"]]"
   ]
  },
  {
   "cell_type": "code",
   "execution_count": null,
   "id": "34978a4d",
   "metadata": {},
   "outputs": [],
   "source": [
    "MLS_matched_address.extend(list(df_merge_node3_matched['MLS_ADDRESS'].unique()))\n",
    "MLS_matched_address = list(set(MLS_matched_address))\n",
    "len(MLS_matched_address)"
   ]
  },
  {
   "cell_type": "code",
   "execution_count": null,
   "id": "37a137e2",
   "metadata": {},
   "outputs": [],
   "source": [
    "DATATREE_matched_address.extend(list(df_merge_node3_matched['DATATREE_ADDRESS'].unique()))\n",
    "DATATREE_matched_address = list(set(DATATREE_matched_address))\n",
    "len(DATATREE_matched_address)"
   ]
  },
  {
   "cell_type": "code",
   "execution_count": null,
   "id": "913db632",
   "metadata": {},
   "outputs": [],
   "source": [
    "third_node_match = len(MLS_matched_address)\n",
    "base = len(df_DATATREE['DATATREE_ADDRESS'].unique())\n",
    "third_node_match_ratio = third_node_match/base\n",
    "third_node_match_ratio"
   ]
  },
  {
   "cell_type": "markdown",
   "id": "4f8e5b3f",
   "metadata": {},
   "source": [
    "#### 4.2.1 Deal with reversed order"
   ]
  },
  {
   "cell_type": "markdown",
   "id": "c4bc015c",
   "metadata": {},
   "source": [
    "- DATATREE"
   ]
  },
  {
   "cell_type": "code",
   "execution_count": null,
   "id": "d38afabd",
   "metadata": {},
   "outputs": [],
   "source": [
    "df_merge_node3_not_matched = df_merge_node3[df_merge_node3[\"NAME\"] != df_merge_node3[\"OWNERNAME1FULL\"]]"
   ]
  },
  {
   "cell_type": "code",
   "execution_count": null,
   "id": "e8c900f6",
   "metadata": {},
   "outputs": [],
   "source": [
    "def is_null_order(x, y, z, name):\n",
    "    if (x is None) and (y is None) and (z is None):\n",
    "        return name\n",
    "    else:\n",
    "        return \" \".join(sorted(name.split()))"
   ]
  },
  {
   "cell_type": "code",
   "execution_count": null,
   "id": "10ddc8b2",
   "metadata": {
    "scrolled": true
   },
   "outputs": [],
   "source": [
    "df_merge_node3_not_matched['OWNERNAME1FULL'] = df_merge_node3_not_matched.apply(lambda x: is_null_order(x['OWNER1LASTNAME'], x['OWNER1FIRSTNAME'], x['OWNER1MIDDLENAME'], x['OWNERNAME1FULL']), axis=1)"
   ]
  },
  {
   "cell_type": "markdown",
   "id": "bb5c95c0",
   "metadata": {},
   "source": [
    "- MLS"
   ]
  },
  {
   "cell_type": "markdown",
   "id": "1c04a0b7",
   "metadata": {},
   "source": [
    "- nltk pos_tag: does not work"
   ]
  },
  {
   "cell_type": "code",
   "execution_count": null,
   "id": "e2e0d1fd",
   "metadata": {},
   "outputs": [],
   "source": [
    "import nltk"
   ]
  },
  {
   "cell_type": "code",
   "execution_count": null,
   "id": "48c6cc3b",
   "metadata": {},
   "outputs": [],
   "source": [
    "name = 'american tower corp'\n",
    "name_list = list(name.split())\n",
    "nltk.pos_tag(name_list)"
   ]
  },
  {
   "cell_type": "code",
   "execution_count": null,
   "id": "535f8950",
   "metadata": {},
   "outputs": [],
   "source": [
    "name = \"norma martinez\"\n",
    "name_list = list(name.split())\n",
    "nltk.pos_tag(name_list)"
   ]
  },
  {
   "cell_type": "markdown",
   "id": "ebf12e04",
   "metadata": {},
   "source": [
    "- spacy: return blank in some organizations and some human names"
   ]
  },
  {
   "cell_type": "code",
   "execution_count": null,
   "id": "f618f0e8",
   "metadata": {},
   "outputs": [],
   "source": [
    "#!pip install spacy\n",
    "#!python3 -m spacy download en_core_web_sm\n",
    "import spacy\n",
    "from spacy import displacy\n",
    "NER = spacy.load(\"en_core_web_sm\")"
   ]
  },
  {
   "cell_type": "code",
   "execution_count": null,
   "id": "bd195a21",
   "metadata": {},
   "outputs": [],
   "source": [
    "raw_text = 'american tower corp'\n",
    "text1= NER(raw_text)\n",
    "for word in text1.ents:\n",
    "    print(word.text,word.label_)"
   ]
  },
  {
   "cell_type": "code",
   "execution_count": null,
   "id": "e4c0b2dc",
   "metadata": {},
   "outputs": [],
   "source": [
    "raw_text = '168 176 e 88 st corp'\n",
    "text1= NER(raw_text)\n",
    "for word in text1.ents:\n",
    "    print(word.text,word.label_)"
   ]
  },
  {
   "cell_type": "code",
   "execution_count": null,
   "id": "5bdcd82c",
   "metadata": {},
   "outputs": [],
   "source": [
    "raw_text = 'fine times inc'\n",
    "text1= NER(raw_text)\n",
    "for word in text1.ents:\n",
    "    print(word.text,word.label_)"
   ]
  },
  {
   "cell_type": "code",
   "execution_count": null,
   "id": "67851889",
   "metadata": {},
   "outputs": [],
   "source": [
    "raw_text = 'day spring baptist church'\n",
    "text1= NER(raw_text)\n",
    "for word in text1.ents:\n",
    "    print(word.text,word.label_)"
   ]
  },
  {
   "cell_type": "code",
   "execution_count": null,
   "id": "8dbb134c",
   "metadata": {},
   "outputs": [],
   "source": [
    "raw_text = 'gerard mccarthy'\n",
    "text1= NER(raw_text)\n",
    "for word in text1.ents:\n",
    "    print(word.text,word.label_)"
   ]
  },
  {
   "cell_type": "code",
   "execution_count": null,
   "id": "04544340",
   "metadata": {},
   "outputs": [],
   "source": [
    "raw_text = 'norma martinez'\n",
    "text1= NER(raw_text)\n",
    "for word in text1.ents:\n",
    "    print(word.text,word.label_)"
   ]
  },
  {
   "cell_type": "code",
   "execution_count": null,
   "id": "1b251338",
   "metadata": {},
   "outputs": [],
   "source": [
    "raw_text = 'martinez norma'\n",
    "text1= NER(raw_text)\n",
    "for word in text1.ents:\n",
    "    print(word.text,word.label_)"
   ]
  },
  {
   "cell_type": "markdown",
   "id": "4fb718a0",
   "metadata": {},
   "source": [
    "- CoreNLPParser(https://github.com/nltk/nltk/wiki/Stanford-CoreNLP-API-in-NLTK): cannot identify reversed order names "
   ]
  },
  {
   "cell_type": "code",
   "execution_count": null,
   "id": "3c2803e0",
   "metadata": {},
   "outputs": [],
   "source": [
    "from nltk.parse import CoreNLPParser"
   ]
  },
  {
   "cell_type": "code",
   "execution_count": null,
   "id": "b3b3b0f9",
   "metadata": {},
   "outputs": [],
   "source": [
    "ner_tagger = CoreNLPParser(url='http://localhost:9000', tagtype='ner')"
   ]
  },
  {
   "cell_type": "code",
   "execution_count": null,
   "id": "1b7c8ae5",
   "metadata": {},
   "outputs": [],
   "source": [
    "list(ner_tagger.tag(('mccarthy gerard'.split())))"
   ]
  },
  {
   "cell_type": "code",
   "execution_count": null,
   "id": "3669ccc6",
   "metadata": {},
   "outputs": [],
   "source": [
    "list(ner_tagger.tag(('gerard mccarthy'.split())))"
   ]
  },
  {
   "cell_type": "code",
   "execution_count": null,
   "id": "5a1ab7e7",
   "metadata": {},
   "outputs": [],
   "source": [
    "def covert_human_name(name):\n",
    "    if name is None:\n",
    "        return name\n",
    "    else:\n",
    "        text =  NER(name)\n",
    "        labels = []\n",
    "        for word in text.ents:\n",
    "            labels.append(word.label_)\n",
    "        if 'PERSON' in labels:\n",
    "            return \" \".join(sorted(name.split()))\n",
    "        else: \n",
    "            return name"
   ]
  },
  {
   "cell_type": "code",
   "execution_count": null,
   "id": "85734f51",
   "metadata": {},
   "outputs": [],
   "source": [
    "def covert_human_name_col(col):\n",
    "    import spacy\n",
    "    from spacy import displacy\n",
    "    NER = spacy.load(\"en_core_web_sm\")\n",
    "    col = col.apply(lambda x: covert_human_name(x))\n",
    "    return col"
   ]
  },
  {
   "cell_type": "code",
   "execution_count": null,
   "id": "bbcbecb4",
   "metadata": {},
   "outputs": [],
   "source": [
    "df_merge_node3_not_matched['NAME'] = covert_human_name_col(df_merge_node3_not_matched['NAME'])"
   ]
  },
  {
   "cell_type": "code",
   "execution_count": null,
   "id": "f030b5d4",
   "metadata": {},
   "outputs": [],
   "source": [
    "df_merge_node3_not_matched[df_merge_node3_not_matched[\"NAME\"] == df_merge_node3_not_matched[\"OWNERNAME1FULL\"]]"
   ]
  },
  {
   "cell_type": "markdown",
   "id": "53c654e0",
   "metadata": {},
   "source": [
    "- Reverse could help us find only 2 more matching addresses"
   ]
  },
  {
   "cell_type": "code",
   "execution_count": null,
   "id": "200a79e4",
   "metadata": {},
   "outputs": [],
   "source": []
  }
 ],
 "metadata": {
  "kernelspec": {
   "display_name": "Python 3 (ipykernel)",
   "language": "python",
   "name": "python3"
  },
  "language_info": {
   "codemirror_mode": {
    "name": "ipython",
    "version": 3
   },
   "file_extension": ".py",
   "mimetype": "text/x-python",
   "name": "python",
   "nbconvert_exporter": "python",
   "pygments_lexer": "ipython3",
   "version": "3.8.2"
  }
 },
 "nbformat": 4,
 "nbformat_minor": 5
}
