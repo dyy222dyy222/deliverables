{
 "cells": [
  {
   "cell_type": "markdown",
   "id": "5aff2898",
   "metadata": {},
   "source": [
    "# Specific to apartment units - NY"
   ]
  },
  {
   "cell_type": "code",
   "execution_count": null,
   "id": "a977b6b6",
   "metadata": {},
   "outputs": [],
   "source": [
    "#!pip install snowflake-connector-python\n",
    "#!pip install snowflake-connector-python[pandas]\n",
    "#!pip install usaddress\n",
    "import snowflake.connector\n",
    "from snowflake.connector import cursor\n",
    "import usaddress\n",
    "import re"
   ]
  },
  {
   "cell_type": "code",
   "execution_count": null,
   "id": "da8d9539",
   "metadata": {},
   "outputs": [],
   "source": [
    "ctx = snowflake.connector.connect(\n",
    "     user = '',\n",
    "     password = '',\n",
    "     account = ''\n",
    " )\n",
    "\n",
    "cursor = ctx.cursor()"
   ]
  },
  {
   "cell_type": "code",
   "execution_count": null,
   "id": "31c596e7",
   "metadata": {},
   "outputs": [],
   "source": [
    "import pandas as pd\n",
    "sql_MLS = \"\"\"\"\"\"\n",
    "df_MLS = pd.read_sql(sql_MLS, con=ctx)"
   ]
  },
  {
   "cell_type": "code",
   "execution_count": null,
   "id": "719abdce",
   "metadata": {},
   "outputs": [],
   "source": [
    "sql_DATATREE = \"\"\"\"\"\"\n",
    "df_DATATREE = pd.read_sql(sql_DATATREE, con=ctx)"
   ]
  },
  {
   "cell_type": "code",
   "execution_count": null,
   "id": "36035f68",
   "metadata": {},
   "outputs": [],
   "source": [
    "df_DATATREE = df_DATATREE.drop_duplicates(['SITUSFULLSTREETADDRESS',\n",
    "                            'SITUSZIP5',\n",
    "                            'SITUSSTATE',\n",
    "                            'SITUSCITY'])\n",
    "df_MLS = df_MLS.drop_duplicates(['CC_PROPERTY_ADDR_DISPLAY_1',\n",
    "                                'CC_PROPERTY_ADDR_POSTAL_CODE',\n",
    "                                'CC_PROPERTY_ADDR_CITY',\n",
    "                                'CC_PROPERTY_ADDR_STATE'])"
   ]
  },
  {
   "cell_type": "code",
   "execution_count": null,
   "id": "a7bf847e",
   "metadata": {},
   "outputs": [],
   "source": [
    "from string import punctuation\n",
    "import re\n",
    "# punctuation -> space\n",
    "remove_punctiuation = str.maketrans(punctuation, ' '*len(punctuation))\n",
    "\n",
    "df_MLS['MLS_ADDRESS_clean'] = df_MLS['CC_PROPERTY_ADDR_DISPLAY_1'].apply(lambda x: x.translate(remove_punctiuation))\n",
    "df_DATATREE['DATATREE_ADDRESS_clean'] = df_DATATREE['SITUSFULLSTREETADDRESS'].apply(lambda x: x.translate(remove_punctiuation))\n",
    "# several spaces -> one space\n",
    "df_MLS['MLS_ADDRESS_clean'] = df_MLS['MLS_ADDRESS_clean'].apply(lambda x: re.sub(' +', ' ', x))\n",
    "df_DATATREE['DATATREE_ADDRESS_clean'] = df_DATATREE['DATATREE_ADDRESS_clean'].apply(lambda x: re.sub(' +', ' ', x))"
   ]
  },
  {
   "cell_type": "code",
   "execution_count": null,
   "id": "d758ca75",
   "metadata": {},
   "outputs": [],
   "source": [
    "import usaddress\n",
    "df1_MLS = df_MLS\n",
    "def get_MLS_addr(df):\n",
    "    global MLS_address\n",
    "    try:\n",
    "        MLS_address = usaddress.tag(df['MLS_ADDRESS_clean'])\n",
    "    except usaddress.RepeatedLabelError as e :\n",
    "#         print('error')\n",
    "        pass\n",
    "    return MLS_address\n",
    "\n",
    "df1_MLS['MLS_ADDRESS_Split'] = df1_MLS.apply(lambda df1_MLS : get_MLS_addr(df1_MLS), axis = 1)\n",
    "test_MLS = df1_MLS.MLS_ADDRESS_Split.to_list()\n",
    "values= []\n",
    "for i in range(len(test_MLS)):\n",
    "    values.append(test_MLS[i][0])\n",
    "splited_MLS = pd.DataFrame(values)\n",
    "df1_MLS.reset_index(inplace=True)\n",
    "MLS_ADDRESS_final = pd.concat([df1_MLS,splited_MLS],axis=1)\n",
    "del MLS_ADDRESS_final['index']\n",
    "MLS_ADDRESS_final"
   ]
  },
  {
   "cell_type": "code",
   "execution_count": null,
   "id": "87fcfdff",
   "metadata": {},
   "outputs": [],
   "source": [
    "# deal with datatree\n",
    "df1_DATATREE = df_DATATREE\n",
    "def get_DATATREE_addr(df):\n",
    "    global DT_ADDRESS\n",
    "    try:\n",
    "        DT_ADDRESS = usaddress.tag(df['DATATREE_ADDRESS_clean'])\n",
    "    except usaddress.RepeatedLabelError as e:\n",
    "        pass\n",
    "    return DT_ADDRESS\n",
    "df1_DATATREE['DATATREE_ADDRESS_Split'] = df1_DATATREE.apply(lambda df1_DATATREE : get_DATATREE_addr(df1_DATATREE), axis = 1)\n",
    "test_DATATREE = df1_DATATREE.DATATREE_ADDRESS_Split.to_list()\n",
    "values= []\n",
    "for i in range(len(test_DATATREE)):\n",
    "    try:\n",
    "        values.append(test_DATATREE[i][0])\n",
    "    except:\n",
    "        pass\n",
    "splited_DATATREE = pd.DataFrame(values)\n",
    "df1_DATATREE.reset_index(inplace=True)\n",
    "DT_ADDRESS_final = pd.concat([df1_DATATREE,splited_DATATREE],axis=1)\n",
    "del DT_ADDRESS_final['index']\n",
    "DT_ADDRESS_final"
   ]
  },
  {
   "cell_type": "code",
   "execution_count": null,
   "id": "35526a12",
   "metadata": {},
   "outputs": [],
   "source": [
    "MLS_more_than_2 = MLS_ADDRESS_final[MLS_ADDRESS_final.groupby(['AddressNumber', 'StreetNamePreDirectional', 'StreetName', 'StreetNamePostType'])['CC_PROPERTY_ADDR_DISPLAY_1'].transform('count') > 2]\n",
    "DATATREE_more_than_2 = DT_ADDRESS_final[DT_ADDRESS_final.groupby(['AddressNumber', 'StreetNamePreDirectional', 'StreetName', 'StreetNamePostType'])['SITUSFULLSTREETADDRESS'].transform('count') > 2]"
   ]
  },
  {
   "cell_type": "code",
   "execution_count": null,
   "id": "53079a08",
   "metadata": {},
   "outputs": [],
   "source": [
    "MLS_more_than_2 = MLS_more_than_2.sample(frac=1)\n",
    "MLS_more_than_2_sample = pd.concat(\n",
    "    [g.head(3) for _, g in MLS_more_than_2.groupby(['AddressNumber', 'StreetNamePreDirectional', 'StreetName', 'StreetNamePostType'], sort=False, as_index=False)][:500],\n",
    "    ignore_index=True \n",
    ")\n",
    "MLS_more_than_2_sample "
   ]
  },
  {
   "cell_type": "code",
   "execution_count": null,
   "id": "4ce6e688",
   "metadata": {},
   "outputs": [],
   "source": [
    "DATATREE_more_than_2 = DATATREE_more_than_2.sample(frac=1)\n",
    "DATATREE_more_than_2_sample = pd.concat(\n",
    "    [g.head(3) for _, g in DATATREE_more_than_2.groupby(['AddressNumber', 'StreetNamePreDirectional', 'StreetName', 'StreetNamePostType'], sort=False, as_index=False)][:500],\n",
    "    ignore_index=True \n",
    ")\n",
    "DATATREE_more_than_2_sample "
   ]
  },
  {
   "cell_type": "code",
   "execution_count": null,
   "id": "45c9b3da",
   "metadata": {},
   "outputs": [],
   "source": [
    "from placekey.api import PlacekeyAPI\n",
    "from ast import literal_eval\n",
    "placekey_api_key = \"n1w1KOroOdSz3BVMMlg8IM4PuflcVP4V\" # fill this in with your personal API key (do not share publicly)\n",
    "pk_api = PlacekeyAPI(placekey_api_key)\n",
    "#adding required placekey api field\n",
    "def get_standard_df(df,column_map: dict):\n",
    "    # rename column name --> need to be consistant with standatdized api field name\n",
    "    # see this link: https://docs.placekey.io/#350ed3a9-68db-4c47-9e20-19b430cb9ef1\n",
    "    df_standard = df.rename(columns=column_map)\n",
    "    \n",
    "    # adding other fields\n",
    "    df_standard['query_id'] = range(1, 1+len(df))\n",
    "    df_standard['iso_country_code'] = \"US\"\n",
    "    return df_standard\n",
    "\n",
    "def get_placekey_df(stad_df, place_keys:tuple):\n",
    "    # stad_df is the df containing standatdized api fields\n",
    "    import json\n",
    "    # convert query_id to str\n",
    "    stad_df = stad_df.astype({\"query_id\": str})\n",
    "    \n",
    "    # dump df to json-format with selected key-value pairs\n",
    "    data_jsoned = json.loads(stad_df.to_json(orient=\"records\"))\n",
    "    dict_filter = lambda x, y: dict([ (i,x[i]) for i in x if i in set(y) ])\n",
    "    result_dict=[dict_filter(i, place_keys) for i in data_jsoned]\n",
    "    \n",
    "    #request placekey api\n",
    "    responses = pk_api.lookup_placekeys(result_dict, verbose=True)\n",
    "    df_placekeys = pd.read_json(json.dumps(responses), dtype={'query_id':str})\n",
    "    \n",
    "    # TODO: need to handle missing / errors\n",
    "\n",
    "    return df_placekeys"
   ]
  },
  {
   "cell_type": "code",
   "execution_count": null,
   "id": "541610c7",
   "metadata": {},
   "outputs": [],
   "source": [
    "column_map = {\"CC_PROPERTY_ADDR_DISPLAY_1\" : \"street_address\", \n",
    "              \"CC_PROPERTY_ADDR_POSTAL_CODE\": \"postal_code\",\n",
    "              \"CC_PROPERTY_ADDR_STATE\": \"region\",\n",
    "              \"CC_PROPERTY_ADDR_CITY\": \"city\"}\n",
    "stad_df = get_standard_df(MLS_more_than_2_sample,column_map)\n",
    "stad_df.reset_index(inplace=True)\n",
    "\n",
    "place_keys = (\"city\",\"iso_country_code\",\"postal_code\",\"street_address\",\"query_id\",\"region\")\n",
    "df_placekey = get_placekey_df(stad_df,place_keys)\n",
    "\n",
    "df_MLS_sample_placekey = pd.concat([df_placekey,MLS_more_than_2_sample],axis=1)"
   ]
  },
  {
   "cell_type": "code",
   "execution_count": null,
   "id": "b25d0a15",
   "metadata": {},
   "outputs": [],
   "source": [
    "df_MLS = df_MLS_sample_placekey.groupby(['AddressNumber', 'StreetNamePreDirectional', 'StreetName', 'StreetNamePostType'])\n",
    "  \n",
    "# call agg method\n",
    "df_MLS = df_MLS.agg({\"placekey\": \"nunique\"})\n",
    "  \n",
    "# call reset_index method\n",
    "df_MLS = df_MLS.reset_index()"
   ]
  },
  {
   "cell_type": "code",
   "execution_count": null,
   "id": "259b94a1",
   "metadata": {},
   "outputs": [],
   "source": [
    "column_map = {\"SITUSFULLSTREETADDRESS\" : \"street_address\", \n",
    "              \"SITUSZIP5\": \"postal_code\",\n",
    "              \"SITUSSTATE\": \"region\",\n",
    "              \"SITUSCITY\": \"city\"}\n",
    "stad_df = get_standard_df(DATATREE_more_than_2_sample,column_map)\n",
    "stad_df.reset_index(inplace=True)\n",
    "\n",
    "place_keys = (\"city\",\"iso_country_code\",\"postal_code\",\"street_address\",\"query_id\",\"region\")\n",
    "df_placekey = get_placekey_df(stad_df,place_keys)\n",
    "\n",
    "df_DATATREE_sample_placekey = pd.concat([df_placekey,DATATREE_more_than_2_sample],axis=1)"
   ]
  },
  {
   "cell_type": "code",
   "execution_count": null,
   "id": "f879f3dd",
   "metadata": {},
   "outputs": [],
   "source": [
    "df_DATATREE = df_DATATREE_sample_placekey.groupby(['AddressNumber', 'StreetNamePreDirectional', 'StreetName', 'StreetNamePostType'])\n",
    "  \n",
    "# call agg method\n",
    "df_DATATREE = df_DATATREE.agg({\"placekey\": \"nunique\"})\n",
    "  \n",
    "# call reset_index method\n",
    "df_DATATREE = df_DATATREE.reset_index()"
   ]
  },
  {
   "cell_type": "markdown",
   "id": "4cb49561",
   "metadata": {},
   "source": [
    "- placekey = 0 -> invalid address\n",
    "- placekey = 1 -> same address as building address\n",
    "- placekey = 2 -> some of the units have unique placekey while others do not\n",
    "- placekey = 3 -> could identify different units"
   ]
  },
  {
   "cell_type": "code",
   "execution_count": null,
   "id": "66aabd89",
   "metadata": {},
   "outputs": [],
   "source": [
    "df_MLS.groupby('placekey').size()/500"
   ]
  },
  {
   "cell_type": "code",
   "execution_count": null,
   "id": "78459e92",
   "metadata": {},
   "outputs": [],
   "source": [
    "df_DATATREE.groupby('placekey').size()/500"
   ]
  },
  {
   "cell_type": "code",
   "execution_count": null,
   "id": "97b0963f",
   "metadata": {},
   "outputs": [],
   "source": []
  }
 ],
 "metadata": {
  "kernelspec": {
   "display_name": "Python 3 (ipykernel)",
   "language": "python",
   "name": "python3"
  },
  "language_info": {
   "codemirror_mode": {
    "name": "ipython",
    "version": 3
   },
   "file_extension": ".py",
   "mimetype": "text/x-python",
   "name": "python",
   "nbconvert_exporter": "python",
   "pygments_lexer": "ipython3",
   "version": "3.8.2"
  }
 },
 "nbformat": 4,
 "nbformat_minor": 5
}
