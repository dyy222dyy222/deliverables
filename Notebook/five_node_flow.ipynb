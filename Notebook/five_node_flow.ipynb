{
  "cells": [
    {
      "cell_type": "markdown",
      "id": "bbeac46b",
      "metadata": {
        "id": "bbeac46b"
      },
      "source": [
        "# 1.Import data"
      ]
    },
    {
      "cell_type": "code",
      "execution_count": null,
      "id": "1b927bb4",
      "metadata": {
        "id": "1b927bb4"
      },
      "outputs": [],
      "source": [
        "import snowflake.connector\n",
        "from snowflake.connector import cursor\n",
        "import usaddress\n",
        "import re\n",
        "import config_final"
      ]
    },
    {
      "cell_type": "code",
      "execution_count": null,
      "id": "4f064e55",
      "metadata": {
        "id": "4f064e55"
      },
      "outputs": [],
      "source": [
        "ctx = snowflake.connector.connect(\n",
        "    user=config_final.user,\n",
        "    password=config_final.password,\n",
        "    account=config_final.account\n",
        ")\n",
        "cursor = ctx.cursor()"
      ]
    },
    {
      "cell_type": "code",
      "execution_count": null,
      "id": "6612107f",
      "metadata": {
        "id": "6612107f"
      },
      "outputs": [],
      "source": [
        "import pandas as pd\n",
        "sql_MLS = \"\"\"\"\"\"\n",
        "df_MLS = pd.read_sql(sql_MLS, con=ctx)"
      ]
    },
    {
      "cell_type": "code",
      "execution_count": null,
      "id": "5266a132",
      "metadata": {
        "id": "5266a132"
      },
      "outputs": [],
      "source": [
        "sql_DATATREE = \"\"\"\"\"\"\n",
        "df_DATATREE = pd.read_sql(sql_DATATREE, con=ctx)"
      ]
    },
    {
      "cell_type": "code",
      "execution_count": null,
      "id": "7c6b7330",
      "metadata": {
        "id": "7c6b7330",
        "outputId": "1ecd8320-fda2-42df-cb6b-fc88c6035fd7"
      },
      "outputs": [],
      "source": [
        "df_MLS.head()"
      ]
    },
    {
      "cell_type": "code",
      "execution_count": null,
      "id": "c87b0036",
      "metadata": {
        "id": "c87b0036",
        "outputId": "8550aac1-7621-48c8-aa6f-c05a91aa8368"
      },
      "outputs": [],
      "source": [
        "df_DATATREE.head()"
      ]
    },
    {
      "cell_type": "code",
      "execution_count": null,
      "id": "bcbf9fe0",
      "metadata": {
        "id": "bcbf9fe0",
        "outputId": "6a85ceef-3083-4787-8f66-85e1ac497dd9"
      },
      "outputs": [],
      "source": [
        "len(df_MLS['MLS_ADDRESS'].unique())/len(df_DATATREE['DATATREE_ADDRESS'].unique())"
      ]
    },
    {
      "cell_type": "markdown",
      "id": "4be20409",
      "metadata": {
        "id": "4be20409"
      },
      "source": [
        "Max matching ratio couldn't exceed 4%"
      ]
    },
    {
      "cell_type": "markdown",
      "id": "eb53b75b",
      "metadata": {
        "id": "eb53b75b"
      },
      "source": [
        "# 2. First Node - Completely match"
      ]
    },
    {
      "cell_type": "code",
      "execution_count": null,
      "id": "4a482dd3",
      "metadata": {
        "id": "4a482dd3"
      },
      "outputs": [],
      "source": [
        "# Drop NaN\n",
        "df_MLS.dropna(subset=['MLS_ADDRESS'], inplace=True)\n",
        "df_DATATREE.dropna(subset=['DATATREE_ADDRESS'], inplace=True)\n"
      ]
    },
    {
      "cell_type": "code",
      "execution_count": null,
      "id": "1ff3c752",
      "metadata": {
        "id": "1ff3c752"
      },
      "outputs": [],
      "source": [
        "# Merge the data\n",
        "df_merge_node1 = pd.merge(df_DATATREE,df_MLS, how = 'left', right_on = ['MLS_ADDRESS', 'POSTALCODE'], \n",
        "                          left_on = ['DATATREE_ADDRESS', 'SITUSZIP5'])\n"
      ]
    },
    {
      "cell_type": "code",
      "execution_count": null,
      "id": "88760163",
      "metadata": {
        "id": "88760163",
        "outputId": "e5ca7808-c9b6-41da-fbd4-8ed9fb51d4ed"
      },
      "outputs": [],
      "source": [
        "# Compute ratio\n",
        "first_node_match = len(df_merge_node1[df_merge_node1['MLS_ADDRESS'].notnull()]['MLS_ADDRESS'].unique())\n",
        "base = len(df_DATATREE['DATATREE_ADDRESS'].unique())\n",
        "first_node_match_ratio = first_node_match/base\n",
        "first_node_match_ratio\n"
      ]
    },
    {
      "cell_type": "markdown",
      "id": "511b5756",
      "metadata": {
        "id": "511b5756"
      },
      "source": [
        "- Create Matched addresses list"
      ]
    },
    {
      "cell_type": "code",
      "execution_count": null,
      "id": "58dce008",
      "metadata": {
        "id": "58dce008",
        "outputId": "c6879674-cca9-4c9e-f1ed-e9a02669c35b"
      },
      "outputs": [],
      "source": [
        "first_node_match"
      ]
    },
    {
      "cell_type": "code",
      "execution_count": null,
      "id": "dbf80aee",
      "metadata": {
        "id": "dbf80aee"
      },
      "outputs": [],
      "source": [
        "MLS_matched_address = []\n",
        "DATATREE_matched_address = []"
      ]
    },
    {
      "cell_type": "code",
      "execution_count": null,
      "id": "50a2f0ec",
      "metadata": {
        "id": "50a2f0ec"
      },
      "outputs": [],
      "source": [
        "first_node_match_list = list(df_merge_node1[df_merge_node1['MLS_ADDRESS'].notnull()]['MLS_ADDRESS'].unique())\n",
        "MLS_matched_address.extend(first_node_match_list)\n",
        "DATATREE_matched_address.extend(first_node_match_list)"
      ]
    },
    {
      "cell_type": "code",
      "execution_count": null,
      "id": "6c2fb816",
      "metadata": {
        "id": "6c2fb816",
        "outputId": "6f706cfe-eb11-43db-8ee8-42ab8740ccae"
      },
      "outputs": [],
      "source": [
        "len(MLS_matched_address)"
      ]
    },
    {
      "cell_type": "code",
      "execution_count": null,
      "id": "113c18ba",
      "metadata": {
        "id": "113c18ba",
        "outputId": "65ba4a93-ff56-4d54-cf67-928d9d54670e"
      },
      "outputs": [],
      "source": [
        "len(DATATREE_matched_address)"
      ]
    },
    {
      "cell_type": "markdown",
      "id": "2e729ee6",
      "metadata": {
        "id": "2e729ee6"
      },
      "source": [
        "# 3. Second Node - Match after transformation"
      ]
    },
    {
      "cell_type": "markdown",
      "id": "31cfe970",
      "metadata": {
        "id": "31cfe970"
      },
      "source": [
        "- Remove punctuation"
      ]
    },
    {
      "cell_type": "code",
      "execution_count": null,
      "id": "25ca821e",
      "metadata": {
        "id": "25ca821e"
      },
      "outputs": [],
      "source": [
        "# Remove punctuations\n",
        "from string import punctuation\n",
        "import re\n",
        "# punctuation -> space\n",
        "remove_punctiuation = str.maketrans(punctuation, ' '*len(punctuation))\n",
        "\n",
        "df_MLS['MLS_ADDRESS'] = df_MLS['MLS_ADDRESS'].apply(lambda x: x.translate(remove_punctiuation))\n",
        "df_DATATREE['DATATREE_ADDRESS'] = df_DATATREE['DATATREE_ADDRESS'].apply(lambda x: x.translate(remove_punctiuation))\n",
        "# several spaces -> one space\n",
        "df_MLS['MLS_ADDRESS'] = df_MLS['MLS_ADDRESS'].apply(lambda x: re.sub(' +', ' ', x))\n",
        "df_DATATREE['DATATREE_ADDRESS'] = df_DATATREE['DATATREE_ADDRESS'].apply(lambda x: re.sub(' +', ' ', x))\n"
      ]
    },
    {
      "cell_type": "markdown",
      "id": "1cce4fb3",
      "metadata": {
        "id": "1cce4fb3"
      },
      "source": [
        "- Create table with splitted addresses"
      ]
    },
    {
      "cell_type": "code",
      "execution_count": null,
      "id": "59d7a432",
      "metadata": {
        "id": "59d7a432"
      },
      "outputs": [],
      "source": [
        "def get_splited_addr(df,col:str,lt=False):\n",
        "    import usaddress\n",
        "    global address\n",
        "    try:\n",
        "        address = usaddress.tag(df[col])\n",
        "    except:\n",
        "        return None\n",
        "    if lt:\n",
        "        return list(address[0])\n",
        "    else:\n",
        "        return address\n",
        "def get_comb_addr(df,splited_col:str):\n",
        "    test = df[splited_col].to_list()\n",
        "    values= []\n",
        "    for i in range(len(test)):\n",
        "        try:\n",
        "            values.append(test[i][0])\n",
        "        except:\n",
        "            values.append({})\n",
        "    splited_df = pd.DataFrame(values)\n",
        "    df.reset_index(inplace=True)\n",
        "    addr_final = pd.concat([df,splited_df],axis=1)\n",
        "    del addr_final['index']\n",
        "    return addr_final"
      ]
    },
    {
      "cell_type": "code",
      "execution_count": null,
      "id": "86299881",
      "metadata": {
        "id": "86299881"
      },
      "outputs": [],
      "source": [
        "df1_MLS = df_MLS[:15000] # only take a sample with the first 15000 rows\n",
        "df1_DATATREE = df_DATATREE[:15000]"
      ]
    },
    {
      "cell_type": "code",
      "execution_count": null,
      "id": "a64c82ec",
      "metadata": {
        "id": "a64c82ec",
        "outputId": "c552d2b5-56f7-4471-9c87-f1bee9fabd72"
      },
      "outputs": [],
      "source": [
        "df1_MLS['MLS_ADDRESS_Split'] = df1_MLS.apply(lambda df1_MLS : get_splited_addr(df1_MLS,'MLS_ADDRESS'), axis = 1)\n",
        "df1_DATATREE['DATATREE_ADDRESS_Split'] = df1_DATATREE.apply(lambda df1_DATATREE : get_splited_addr(df1_DATATREE,'DATATREE_ADDRESS'), axis = 1)\n",
        "MLS_ADDRESS_final = get_comb_addr(df1_MLS,'MLS_ADDRESS_Split')\n",
        "DT_ADDRESS_final = get_comb_addr(df1_DATATREE,'DATATREE_ADDRESS_Split')\n"
      ]
    },
    {
      "cell_type": "code",
      "execution_count": null,
      "id": "7851e036",
      "metadata": {
        "id": "7851e036",
        "outputId": "daa3fb1d-9d32-4c67-f5a3-b2805ccd10e8"
      },
      "outputs": [],
      "source": [
        "MLS_ADDRESS_final.head()"
      ]
    },
    {
      "cell_type": "markdown",
      "id": "c5c542ed",
      "metadata": {
        "id": "c5c542ed"
      },
      "source": [
        "- Address cleaning"
      ]
    },
    {
      "cell_type": "code",
      "execution_count": null,
      "id": "5681dcdd",
      "metadata": {
        "id": "5681dcdd",
        "outputId": "2ce988c7-5728-42eb-f024-395c14ae2c6e"
      },
      "outputs": [],
      "source": [
        "print(DT_ADDRESS_final.columns)\n",
        "abbr_list = ['StreetNamePreDirectional','StreetNamePostType',\n",
        "             'OccupancyType','StreetNamePostDirectional']\n",
        "for col in abbr_list:\n",
        "    print(f'{col}:\\n'+ f'{DT_ADDRESS_final[col].unique()}') "
      ]
    },
    {
      "cell_type": "code",
      "execution_count": null,
      "id": "52840b3d",
      "metadata": {
        "id": "52840b3d",
        "outputId": "cd99ba7c-06a9-43d1-b4c1-a8a7403dd3f6"
      },
      "outputs": [],
      "source": [
        "print(MLS_ADDRESS_final.columns)\n",
        "abbr_list = ['StreetNamePreDirectional','StreetNamePostType',\n",
        "             'OccupancyType','StreetNamePostDirectional']\n",
        "for col in abbr_list:\n",
        "    print(f'{col}:\\n'+ f'{MLS_ADDRESS_final[col].unique()}') "
      ]
    },
    {
      "cell_type": "code",
      "execution_count": null,
      "id": "f6f4e3e5",
      "metadata": {
        "id": "f6f4e3e5"
      },
      "outputs": [],
      "source": [
        "df = pd.read_csv('suffix_abbreviations_converted.csv')\n",
        "StreetNamePostType_dict = dict(zip(df.common_name, df.abbr))"
      ]
    },
    {
      "cell_type": "code",
      "execution_count": null,
      "id": "2991fd0f",
      "metadata": {
        "id": "2991fd0f",
        "outputId": "5aac210a-6b73-4396-f0a3-8984e14bc1ee"
      },
      "outputs": [],
      "source": [
        "StreetNamePostType_dict"
      ]
    },
    {
      "cell_type": "code",
      "execution_count": null,
      "id": "fc925ce4",
      "metadata": {
        "id": "fc925ce4"
      },
      "outputs": [],
      "source": [
        "def get_str_replace(MLS_ADDRESS_final,DT_ADDRESS_final):\n",
        "    #need to change file path\n",
        "    df = pd.read_csv('suffix_abbreviations_converted.csv')\n",
        "    StreetNamePostType_dict = dict(zip(df.common_name, df.abbr))\n",
        "    StreetNameDirectional_dict = {'west': 'w', 'south': 's', 'north': 'n','east': 'e'}\n",
        "\n",
        "    DT_ADDRESS_final.replace({\"StreetNamePreDirectional\": StreetNameDirectional_dict},inplace=True)\n",
        "    DT_ADDRESS_final.replace({\"StreetNamePostType\": StreetNamePostType_dict},inplace=True)\n",
        "\n",
        "    MLS_ADDRESS_final.replace({\"StreetNamePreDirectional\": StreetNameDirectional_dict},inplace=True)\n",
        "    MLS_ADDRESS_final.replace({\"StreetNamePostType\": StreetNamePostType_dict},inplace=True)\n",
        "    return MLS_ADDRESS_final,DT_ADDRESS_final"
      ]
    },
    {
      "cell_type": "code",
      "execution_count": null,
      "id": "a64d867c",
      "metadata": {
        "id": "a64d867c"
      },
      "outputs": [],
      "source": [
        "# convert address format (direction, abbreviation)\n",
        "MLS_ADDRESS_final,DT_ADDRESS_final=get_str_replace(MLS_ADDRESS_final,DT_ADDRESS_final)"
      ]
    },
    {
      "cell_type": "code",
      "execution_count": null,
      "id": "205e4a79",
      "metadata": {
        "id": "205e4a79",
        "outputId": "9a62823e-823d-4057-86cb-10920ea41745"
      },
      "outputs": [],
      "source": [
        "print(MLS_ADDRESS_final['StreetNamePreDirectional'].unique())\n",
        "print(DT_ADDRESS_final['StreetNamePreDirectional'].unique())\n",
        "print(MLS_ADDRESS_final['StreetNamePostType'].unique())\n",
        "print(DT_ADDRESS_final['StreetNamePostType'].unique())"
      ]
    },
    {
      "cell_type": "code",
      "execution_count": null,
      "id": "befa67c8",
      "metadata": {
        "id": "befa67c8",
        "outputId": "a28ee380-e390-43d8-c912-3c9f5dc27fd1"
      },
      "outputs": [],
      "source": [
        "DT_ADDRESS_final[DT_ADDRESS_final['StreetNamePreDirectional'] == '62']"
      ]
    },
    {
      "cell_type": "markdown",
      "id": "71300f98",
      "metadata": {
        "id": "71300f98"
      },
      "source": [
        "- Merge"
      ]
    },
    {
      "cell_type": "code",
      "execution_count": null,
      "id": "3dc5e6ae",
      "metadata": {
        "id": "3dc5e6ae"
      },
      "outputs": [],
      "source": [
        "df_merge_node2 = pd.merge(DT_ADDRESS_final, MLS_ADDRESS_final,\n",
        "                    how = 'left',\n",
        "                    left_on = ['AddressNumber', 'StreetName','StreetNamePreDirectional','StreetNamePostType',\n",
        "               'OccupancyIdentifier','OccupancyType', 'SITUSZIP5'],\n",
        "                    right_on = ['AddressNumber', 'StreetName','StreetNamePreDirectional','StreetNamePostType',\n",
        "               'OccupancyIdentifier','OccupancyType', 'POSTALCODE'])"
      ]
    },
    {
      "cell_type": "code",
      "execution_count": null,
      "id": "0602525f",
      "metadata": {
        "id": "0602525f",
        "outputId": "8967e903-2a4a-477a-b0c2-fc5cf25b28f4"
      },
      "outputs": [],
      "source": [
        "MLS_matched_address.extend(df_merge_node2[df_merge_node2['MLS_ADDRESS'].notnull()]['MLS_ADDRESS'].unique())\n",
        "MLS_matched_address = list(set(MLS_matched_address))\n",
        "len(MLS_matched_address)"
      ]
    },
    {
      "cell_type": "code",
      "execution_count": null,
      "id": "4acc6b1f",
      "metadata": {
        "id": "4acc6b1f",
        "outputId": "2c231426-6a71-4954-fe45-b0e6c65b7eee"
      },
      "outputs": [],
      "source": [
        "DATATREE_matched_address.extend(df_merge_node2[df_merge_node2['MLS_ADDRESS'].notnull()]['DATATREE_ADDRESS'].unique())\n",
        "DATATREE_matched_address = list(set(DATATREE_matched_address))\n",
        "len(DATATREE_matched_address)"
      ]
    },
    {
      "cell_type": "code",
      "execution_count": null,
      "id": "157d2fbc",
      "metadata": {
        "id": "157d2fbc",
        "outputId": "746861d4-c876-4395-9b80-b7b1cde6ff49"
      },
      "outputs": [],
      "source": [
        "second_node_match = len(MLS_matched_address)\n",
        "second_node_match_ratio = second_node_match/base\n",
        "second_node_match_ratio"
      ]
    },
    {
      "cell_type": "code",
      "execution_count": null,
      "id": "81da2f5b",
      "metadata": {
        "id": "81da2f5b"
      },
      "outputs": [],
      "source": [
        "MLS_unmatched_node2 = MLS_ADDRESS_final[MLS_ADDRESS_final['MLS_ADDRESS'].apply(lambda x: x not in MLS_matched_address)]\n",
        "DATATREE_unmatched_node2 = DT_ADDRESS_final[DT_ADDRESS_final['DATATREE_ADDRESS'].apply(lambda x: x not in DATATREE_matched_address)]\n",
        "MLS_unmatched_node2.reset_index(inplace=True)\n",
        "DATATREE_unmatched_node2.reset_index(inplace=True)\n",
        "del MLS_unmatched_node2['index']\n",
        "del DATATREE_unmatched_node2['index']"
      ]
    },
    {
      "cell_type": "code",
      "execution_count": null,
      "id": "d247b915",
      "metadata": {
        "id": "d247b915"
      },
      "outputs": [],
      "source": []
    },
    {
      "cell_type": "markdown",
      "id": "0da64f07",
      "metadata": {
        "id": "0da64f07"
      },
      "source": [
        "# 4. Third Node - Match with names"
      ]
    },
    {
      "cell_type": "markdown",
      "id": "a29264a7",
      "metadata": {
        "id": "a29264a7"
      },
      "source": [
        "### 4.1 Name cleaning"
      ]
    },
    {
      "cell_type": "markdown",
      "id": "ae2ffb46",
      "metadata": {
        "id": "ae2ffb46"
      },
      "source": [
        "#### 4.1.1  remove punctuations"
      ]
    },
    {
      "cell_type": "code",
      "execution_count": null,
      "id": "b5a6fa81",
      "metadata": {
        "id": "b5a6fa81",
        "outputId": "920daa97-7ecc-4e0a-9613-43cdc3e6287d"
      },
      "outputs": [],
      "source": [
        "from string import punctuation\n",
        "import re\n",
        "# punctuation -> space\n",
        "def remove_punct(x):\n",
        "    remove_punctiuation = str.maketrans(punctuation, ' '*len(punctuation))\n",
        "    if x is not None:\n",
        "        x = str(x)\n",
        "        x = x.translate(remove_punctiuation)\n",
        "        return x\n",
        "    else:\n",
        "        return x\n",
        "MLS_unmatched_node2['NAME'] = MLS_unmatched_node2['NAME'].apply(lambda x: remove_punct(x))\n",
        "DATATREE_unmatched_node2['OWNERNAME1FULL'] = DATATREE_unmatched_node2['OWNERNAME1FULL'].apply(lambda x: remove_punct(x))\n",
        "# several spaces -> one space\n",
        "def conver_space(x):\n",
        "    if x is not None:\n",
        "        x = str(x)\n",
        "        x = re.sub(' +', ' ', x)\n",
        "        return x.strip()\n",
        "    else:\n",
        "        return x\n",
        "MLS_unmatched_node2['NAME'] = MLS_unmatched_node2['NAME'].apply(lambda x: conver_space(x))\n",
        "DATATREE_unmatched_node2['OWNERNAME1FULL'] = DATATREE_unmatched_node2['OWNERNAME1FULL'].apply(lambda x: conver_space(x))\n"
      ]
    },
    {
      "cell_type": "markdown",
      "id": "1e1aaccd",
      "metadata": {
        "id": "1e1aaccd"
      },
      "source": [
        "#### 4.1.2 Deal with corporation related names"
      ]
    },
    {
      "cell_type": "markdown",
      "id": "599466ea",
      "metadata": {
        "id": "599466ea"
      },
      "source": [
        "- Compute the frequency of the words"
      ]
    },
    {
      "cell_type": "code",
      "execution_count": null,
      "id": "2ff68133",
      "metadata": {
        "id": "2ff68133"
      },
      "outputs": [],
      "source": [
        "import nltk\n",
        "import matplotlib.pyplot as plt\n",
        "import numpy as np\n",
        "from nltk.corpus import stopwords\n",
        "\n",
        "def plot_top_stopwords_barchart(text):\n",
        "    stop=set(stopwords.words('english'))\n",
        "    \n",
        "    new = text.str.split()\n",
        "    new = new.values.tolist()\n",
        "    new = list(filter(None,new))\n",
        "\n",
        "    corpus=[word for i in new for word in i]\n",
        "    corpus=list(filter(lambda x: len(x) > 1,corpus))#longer than 1\n",
        "    \n",
        "    \n",
        "    from collections import defaultdict\n",
        "    dic=defaultdict(int)\n",
        "    for word in corpus:\n",
        "        if word in stop:\n",
        "            dic[word]+=1\n",
        "            \n",
        "    top=sorted(dic.items(), key=lambda x:x[1],reverse=True)[:10] \n",
        "    x,y=zip(*top)\n",
        "    plt.bar(x,y)"
      ]
    },
    {
      "cell_type": "code",
      "execution_count": null,
      "id": "488a5fc1",
      "metadata": {
        "id": "488a5fc1"
      },
      "outputs": [],
      "source": [
        "import seaborn as sns\n",
        "from nltk.corpus import stopwords\n",
        "from collections import  Counter\n",
        "\n",
        "def plot_top_non_stopwords_barchart(text):\n",
        "    stop=set(stopwords.words('english'))\n",
        "    \n",
        "    new= text.str.split()\n",
        "    new=new.values.tolist()\n",
        "    new = list(filter(None,new))\n",
        "\n",
        "    corpus=[word for i in new for word in i]\n",
        "    corpus=list(filter(lambda x: len(x) > 1,corpus))#longer than 1\n",
        "\n",
        "    counter=Counter(corpus)\n",
        "    most=counter.most_common()\n",
        "    x, y=[], []\n",
        "    for word,count in most[:50]:\n",
        "        if (word not in stop):\n",
        "            x.append(word)\n",
        "            y.append(count)\n",
        "    plt.rcParams['figure.figsize']=10,10\n",
        "    sns.barplot(x=y,y=x)"
      ]
    },
    {
      "cell_type": "code",
      "execution_count": null,
      "id": "b2b9830d",
      "metadata": {
        "id": "b2b9830d",
        "outputId": "9ea38a92-f6af-433d-9d36-4c9a34142ff6"
      },
      "outputs": [],
      "source": [
        "plot_top_non_stopwords_barchart(DT_ADDRESS_final['OWNERNAME1FULL'])"
      ]
    },
    {
      "cell_type": "code",
      "execution_count": null,
      "id": "601348e6",
      "metadata": {
        "id": "601348e6",
        "outputId": "cd7261d0-f79b-4270-81b0-9f51280952c0"
      },
      "outputs": [],
      "source": [
        "plot_top_non_stopwords_barchart(MLS_ADDRESS_final['NAME'])"
      ]
    },
    {
      "cell_type": "code",
      "execution_count": null,
      "id": "1d11ad8a",
      "metadata": {
        "id": "1d11ad8a"
      },
      "outputs": [],
      "source": [
        "possible_word_list_DT = ['corp', 'llc', 'realty', 'trust', 'inc', 'associates', 'co', 'holdings', 'owner',\n",
        "                      'properties', 'trustee', 'housing', 'family', 'owners', 'development']\n",
        "possible_word_list_MLS = ['corp', 'owners', 'llc', 'inc', 'owner', 'realty', 'co', 'tenants', 'agent', 'condo',\n",
        "                         'house', 'homes', 'housing', 'record', 'estate', 'servicing', 'cor', 'condonminium',\n",
        "                         'owned', 'portfolio', 'owne', 'trust']\n",
        "other = ['ltd']"
      ]
    },
    {
      "cell_type": "markdown",
      "id": "18a248ea",
      "metadata": {
        "id": "18a248ea"
      },
      "source": [
        "- Replace the words related to corporations"
      ]
    },
    {
      "cell_type": "code",
      "execution_count": null,
      "id": "9502fed5",
      "metadata": {
        "id": "9502fed5",
        "outputId": "b68ddb64-2c85-44e8-fe18-4b67741a964e"
      },
      "outputs": [],
      "source": [
        "# Use the words to find possible replacement in sheets\n",
        "# Incorpate - inc is kind of complicated, so no replacement\n",
        "replace_name_dict_complicated = {'limited liability company': 'llc', \n",
        "                                 'company limited partnership': 'company ltd partnership', \n",
        "                                 'co limited partnership': 'co ltd partnership', 'company ltd': 'co ltd',\n",
        "                                 'associates': 'assoc', 'limited liability partnerships': 'llp',\n",
        "                                 'properties': 'prop', 'association': 'assn', 'estate': 'est',\n",
        "                                 'condonminium': 'condo'}\n",
        "\n",
        "MLS_unmatched_node2.replace({\"NAME\": replace_name_dict_complicated},inplace=True)\n",
        "DATATREE_unmatched_node2.replace({\"OWNERNAME1FULL\": replace_name_dict_complicated},inplace=True)"
      ]
    },
    {
      "cell_type": "code",
      "execution_count": null,
      "id": "b882d8c4",
      "metadata": {
        "id": "b882d8c4"
      },
      "outputs": [],
      "source": [
        "replace_name_dict_tail = {'incorporated': 'inc', 'corporation': 'corp', 'authority': 'a'}\n",
        "def replace_corp(x, replace_dict):\n",
        "    if x is None:\n",
        "        return x\n",
        "    import re\n",
        "    for key, value in replace_dict.items():\n",
        "        key = '(.*) ' + key + '$'\n",
        "        if re.match(key, x):\n",
        "            return re.search(key, x).group(1) + ' ' + value\n",
        "    return x"
      ]
    },
    {
      "cell_type": "code",
      "execution_count": null,
      "id": "9b98ceb5",
      "metadata": {
        "id": "9b98ceb5",
        "outputId": "0207fb98-4ff9-4eec-982d-d5ee2a7ef73a"
      },
      "outputs": [],
      "source": [
        "MLS_unmatched_node2['NAME'] = MLS_unmatched_node2['NAME'].apply(lambda x: replace_corp(x, replace_name_dict_tail))\n",
        "DATATREE_unmatched_node2['OWNERNAME1FULL'] = DATATREE_unmatched_node2['OWNERNAME1FULL'].apply(lambda  x: replace_corp(str(x), replace_name_dict_tail))"
      ]
    },
    {
      "cell_type": "markdown",
      "id": "4bd92691",
      "metadata": {
        "id": "4bd92691"
      },
      "source": [
        "#### 4.1.3 Order the names"
      ]
    },
    {
      "cell_type": "code",
      "execution_count": null,
      "id": "63b9fe4f",
      "metadata": {
        "id": "63b9fe4f"
      },
      "outputs": [],
      "source": [
        "def create_pseudo_name(df_col):\n",
        "    \"\"\"\n",
        "    :param df_col: the name col\n",
        "    :return:\n",
        "    \"\"\"\n",
        "    assert isinstance(df_col, pd.Series), \"It is not a pd.Series\"\n",
        "    df_col = df_col.apply(lambda x: \" \".join(sorted(x.split())) if isinstance(x, str) and len(x.split()) <= 3 else x)\n",
        "\n",
        "    return df_col"
      ]
    },
    {
      "cell_type": "code",
      "execution_count": null,
      "id": "571e6f94",
      "metadata": {
        "id": "571e6f94",
        "outputId": "3d7d3ddd-1a81-4bab-d83b-e6fffa94543f"
      },
      "outputs": [],
      "source": [
        "MLS_unmatched_node2['NAME'] = create_pseudo_name(MLS_unmatched_node2['NAME'])\n",
        "DATATREE_unmatched_node2['OWNERNAME1FULL'] = create_pseudo_name(DATATREE_unmatched_node2['OWNERNAME1FULL'])"
      ]
    },
    {
      "cell_type": "markdown",
      "id": "663088aa",
      "metadata": {
        "id": "663088aa"
      },
      "source": [
        "### 4.2 Match table to using addresses whose owners only own one address in the DATATREE table"
      ]
    },
    {
      "cell_type": "markdown",
      "id": "26fdedfe",
      "metadata": {
        "id": "26fdedfe"
      },
      "source": [
        "- Find the addresses whose owners only own one address in the DATATREE table"
      ]
    },
    {
      "cell_type": "code",
      "execution_count": null,
      "id": "6d0331b8",
      "metadata": {
        "id": "6d0331b8"
      },
      "outputs": [],
      "source": [
        "only_once = DATATREE_unmatched_node2[['DATATREE_ADDRESS','OWNERNAME1FULL']].groupby('OWNERNAME1FULL').count()\n",
        "only_once = only_once[only_once['DATATREE_ADDRESS']==1]\n",
        "remaining = only_once[only_once['DATATREE_ADDRESS']> 1]\n",
        "once_list = list(only_once['DATATREE_ADDRESS'].index)\n",
        "DATATREE_only_once = DATATREE_unmatched_node2[DATATREE_unmatched_node2['OWNERNAME1FULL'].isin(once_list)]"
      ]
    },
    {
      "cell_type": "code",
      "execution_count": null,
      "id": "ddfd74ad",
      "metadata": {
        "id": "ddfd74ad"
      },
      "outputs": [],
      "source": [
        "df_merge_node3 = pd.merge(DATATREE_only_once, MLS_unmatched_node2, how = 'left', \n",
        "                            left_on = ['AddressNumber', 'StreetName', 'StreetNamePreDirectional', 'StreetNamePostType', 'SITUSZIP5'], \n",
        "                            right_on = ['AddressNumber', 'StreetName','StreetNamePreDirectional','StreetNamePostType', 'POSTALCODE'])"
      ]
    },
    {
      "cell_type": "code",
      "execution_count": null,
      "id": "72a0294b",
      "metadata": {
        "id": "72a0294b"
      },
      "outputs": [],
      "source": [
        "df_merge_node3 = df_merge_node3[df_merge_node3['MLS_ADDRESS'].notnull()]"
      ]
    },
    {
      "cell_type": "markdown",
      "id": "64ab73c4",
      "metadata": {
        "id": "64ab73c4"
      },
      "source": [
        "- only contains that one address has apt and the other does not have"
      ]
    },
    {
      "cell_type": "code",
      "execution_count": null,
      "id": "f5739483",
      "metadata": {
        "id": "f5739483"
      },
      "outputs": [],
      "source": [
        "def is_null(x, y):\n",
        "    if (x == 'nan') and (y == 'nan'):\n",
        "        return True\n",
        "    else:\n",
        "        return False\n",
        "df_merge_node3['Occupancy_x_none'] = df_merge_node3.apply(lambda x: is_null(str(x['OccupancyType_x']), str(x['OccupancyIdentifier_x'])), axis=1)\n",
        "df_merge_node3['Occupancy_y_none'] = df_merge_node3.apply(lambda x: is_null(str(x['OccupancyType_y']), str(x['OccupancyIdentifier_y'])), axis=1)"
      ]
    },
    {
      "cell_type": "code",
      "execution_count": null,
      "id": "827d8f9c",
      "metadata": {
        "id": "827d8f9c"
      },
      "outputs": [],
      "source": [
        "df_merge_node3 = df_merge_node3[df_merge_node3['Occupancy_y_none'] != df_merge_node3['Occupancy_x_none']]"
      ]
    },
    {
      "cell_type": "markdown",
      "id": "3c1a7abc",
      "metadata": {
        "id": "3c1a7abc"
      },
      "source": [
        "- Compute the fuzz ratios"
      ]
    },
    {
      "cell_type": "code",
      "execution_count": null,
      "id": "65a71d4b",
      "metadata": {
        "id": "65a71d4b"
      },
      "outputs": [],
      "source": [
        "# !pip install thefuzz"
      ]
    },
    {
      "cell_type": "code",
      "execution_count": null,
      "id": "441356bd",
      "metadata": {
        "id": "441356bd",
        "outputId": "f9423955-56ed-40c7-bbbf-5df70fbb7d60"
      },
      "outputs": [],
      "source": [
        "from thefuzz import fuzz\n",
        "df_merge_node3['NAME_FUZZY_1'] = df_merge_node3.apply(lambda x: fuzz.ratio(str(x['NAME']), str(x['OWNERNAME1FULL'])), axis=1)\n",
        "df_merge_node3['NAME_FUZZY_sort_1'] = df_merge_node3.apply(lambda x: fuzz.token_sort_ratio(str(x['NAME']), str(x['OWNERNAME1FULL'])), axis=1)"
      ]
    },
    {
      "cell_type": "code",
      "execution_count": null,
      "id": "4f41d390",
      "metadata": {
        "id": "4f41d390",
        "outputId": "33125813-7ab6-44be-e309-fd44a5bd533d"
      },
      "outputs": [],
      "source": [
        "df_merge_node3[df_merge_node3[\"NAME\"] == df_merge_node3[\"OWNERNAME1FULL\"]][['MLS_ADDRESS', 'DATATREE_ADDRESS','NAME', 'OWNERNAME1FULL']]"
      ]
    },
    {
      "cell_type": "markdown",
      "id": "fb825c7f",
      "metadata": {
        "id": "fb825c7f"
      },
      "source": [
        "- Add address with same names to matched list"
      ]
    },
    {
      "cell_type": "code",
      "execution_count": null,
      "id": "ca4d3a9b",
      "metadata": {
        "id": "ca4d3a9b"
      },
      "outputs": [],
      "source": [
        "df_merge_node3_matched = df_merge_node3[df_merge_node3[\"NAME\"] == df_merge_node3[\"OWNERNAME1FULL\"]]"
      ]
    },
    {
      "cell_type": "code",
      "execution_count": null,
      "id": "34978a4d",
      "metadata": {
        "id": "34978a4d",
        "outputId": "a32f5f9e-4315-45eb-bc57-e6aed0108351"
      },
      "outputs": [],
      "source": [
        "MLS_matched_address.extend(list(df_merge_node3_matched['MLS_ADDRESS'].unique()))\n",
        "MLS_matched_address = list(set(MLS_matched_address))\n",
        "len(MLS_matched_address)"
      ]
    },
    {
      "cell_type": "code",
      "execution_count": null,
      "id": "37a137e2",
      "metadata": {
        "id": "37a137e2",
        "outputId": "fb3bce2c-f7e7-4fa5-f0be-91adb7bace88"
      },
      "outputs": [],
      "source": [
        "DATATREE_matched_address.extend(list(df_merge_node3_matched['DATATREE_ADDRESS'].unique()))\n",
        "DATATREE_matched_address = list(set(DATATREE_matched_address))\n",
        "len(DATATREE_matched_address)"
      ]
    },
    {
      "cell_type": "code",
      "execution_count": null,
      "id": "913db632",
      "metadata": {
        "id": "913db632",
        "outputId": "856e4440-4ed4-4e15-812c-e435a416fa33"
      },
      "outputs": [],
      "source": [
        "third_node_match = len(MLS_matched_address)\n",
        "base = len(df_DATATREE['DATATREE_ADDRESS'].unique())\n",
        "third_node_match_ratio = third_node_match/base\n",
        "third_node_match_ratio"
      ]
    },
    {
      "cell_type": "markdown",
      "id": "f0cf4c8c",
      "metadata": {
        "id": "f0cf4c8c"
      },
      "source": [
        "- Study fuzzy ratios: there are misspelled names but it's hard to find the threshold"
      ]
    },
    {
      "cell_type": "code",
      "execution_count": null,
      "id": "ac99ad50",
      "metadata": {
        "id": "ac99ad50"
      },
      "outputs": [],
      "source": [
        "df_merge_node3 = df_merge_node3[df_merge_node3['MLS_ADDRESS'].notnull()]"
      ]
    },
    {
      "cell_type": "code",
      "execution_count": null,
      "id": "eecc7d7e",
      "metadata": {
        "id": "eecc7d7e",
        "outputId": "cd7fff6d-4195-4621-df1f-6cd8ee8d8f25"
      },
      "outputs": [],
      "source": [
        "df_merge_node3[(df_merge_node3[\"NAME_FUZZY_1\"] > 75) & (df_merge_node3[\"NAME_FUZZY_1\"] < 100)].sort_values(by=\"NAME_FUZZY_1\" , ascending=False)[['MLS_ADDRESS', 'DATATREE_ADDRESS',\n",
        "                                                                                                       'NAME', 'OWNERNAME1FULL']]"
      ]
    },
    {
      "cell_type": "code",
      "execution_count": null,
      "id": "f7aa48f8",
      "metadata": {
        "id": "f7aa48f8",
        "outputId": "f52d7275-d2cc-45fa-dfb7-8639891d72a7"
      },
      "outputs": [],
      "source": [
        "df_merge_node3[df_merge_node3[\"NAME_FUZZY_1\"] < 75].sort_values(by=\"NAME_FUZZY_1\" , ascending=False)[['MLS_ADDRESS', 'DATATREE_ADDRESS',\n",
        "                                                                                                       'NAME', 'OWNERNAME1FULL']].head(20)"
      ]
    },
    {
      "cell_type": "markdown",
      "id": "afeb7477",
      "metadata": {
        "id": "afeb7477"
      },
      "source": [
        "- Don't use fuzzy ratios here won't affect much"
      ]
    },
    {
      "cell_type": "code",
      "execution_count": null,
      "id": "fa7b5d47",
      "metadata": {
        "id": "fa7b5d47",
        "outputId": "d1b7f8e2-0696-4a6f-986c-5d33f9fd1559"
      },
      "outputs": [],
      "source": [
        "len(df_merge_node3[(df_merge_node3[\"NAME_FUZZY_1\"] > 75) & (df_merge_node3[\"NAME_FUZZY_1\"] < 100)]['MLS_ADDRESS'].unique())"
      ]
    },
    {
      "cell_type": "markdown",
      "id": "d59ca0c7",
      "metadata": {
        "id": "d59ca0c7"
      },
      "source": [
        "# 4. Fourth Node - Match with rooms combined with name fuzzy ratios"
      ]
    },
    {
      "cell_type": "code",
      "execution_count": null,
      "id": "f8a73919",
      "metadata": {
        "id": "f8a73919"
      },
      "outputs": [],
      "source": [
        "import pandas as pd\n",
        "sql_MLS = \"\"\"\"\"\"\n",
        "df_MLS_room = pd.read_sql(sql_MLS, con=ctx)"
      ]
    },
    {
      "cell_type": "code",
      "execution_count": null,
      "id": "5f8abe86",
      "metadata": {
        "id": "5f8abe86"
      },
      "outputs": [],
      "source": [
        "sql_DATATREE = \"\"\"\"\"\"\n",
        "df_DATATREE_room = pd.read_sql(sql_DATATREE, con=ctx)"
      ]
    },
    {
      "cell_type": "code",
      "execution_count": null,
      "id": "17123284",
      "metadata": {
        "id": "17123284"
      },
      "outputs": [],
      "source": [
        "df_MLS_room.dropna(subset=['MLS_ADDRESS'], inplace=True)\n",
        "df_DATATREE_room.dropna(subset=['DATATREE_ADDRESS'], inplace=True)"
      ]
    },
    {
      "cell_type": "code",
      "execution_count": null,
      "id": "ec57002d",
      "metadata": {
        "id": "ec57002d"
      },
      "outputs": [],
      "source": [
        "MLS_unmatched_node3 = df_MLS_room[df_MLS_room['MLS_ADDRESS'].apply(lambda x: x not in MLS_matched_address)]\n",
        "DATATREE_unmatched_node3 = df_DATATREE_room[df_DATATREE_room['DATATREE_ADDRESS'].apply(lambda x: x not in DATATREE_matched_address)]"
      ]
    },
    {
      "cell_type": "code",
      "execution_count": null,
      "id": "07934174",
      "metadata": {
        "id": "07934174",
        "outputId": "66ad500d-3158-465e-f7d9-b82b3bfabb78"
      },
      "outputs": [],
      "source": [
        "MLS_unmatched_node3[['ROOMS', 'BEDROOMS', 'FULL_BATHS', 'HALF_BATHS']].value_counts()"
      ]
    },
    {
      "cell_type": "markdown",
      "id": "bde8bcd5",
      "metadata": {
        "id": "bde8bcd5"
      },
      "source": [
        "- In datatree, almost all of the records are with 0 bedrooms, bathfull, bathspartialnbr; only use totalrooms to match"
      ]
    },
    {
      "cell_type": "code",
      "execution_count": null,
      "id": "10306cbf",
      "metadata": {
        "id": "10306cbf",
        "outputId": "ac4c4469-f90a-4521-9b4f-f787b8debf60"
      },
      "outputs": [],
      "source": [
        "DATATREE_unmatched_node3[['BEDROOMS', 'TOTALROOMS', 'BATHFULL', 'BATHSPARTIALNBR']].value_counts()"
      ]
    },
    {
      "cell_type": "code",
      "execution_count": null,
      "id": "bffda4f5",
      "metadata": {
        "id": "bffda4f5"
      },
      "outputs": [],
      "source": [
        "MLS_unmatched_node3.reset_index(inplace=True)\n",
        "DATATREE_unmatched_node3.reset_index(inplace=True)\n",
        "del MLS_unmatched_node3['index']\n",
        "del DATATREE_unmatched_node3['index']"
      ]
    },
    {
      "cell_type": "code",
      "execution_count": null,
      "id": "9cbe32ae",
      "metadata": {
        "id": "9cbe32ae",
        "outputId": "14ba0492-7933-44cd-8762-ee7a22dfb5a5"
      },
      "outputs": [],
      "source": [
        "df1_MLS['MLS_ADDRESS_Split'] = df1_MLS.apply(lambda df1_MLS : get_splited_addr(df1_MLS,'MLS_ADDRESS'), axis = 1)\n",
        "df1_DATATREE['DATATREE_ADDRESS_Split'] = df1_DATATREE.apply(lambda df1_DATATREE : get_splited_addr(df1_DATATREE,'DATATREE_ADDRESS'), axis = 1)\n",
        "MLS_ADDRESS_final = get_comb_addr(df1_MLS,'MLS_ADDRESS_Split')\n",
        "DT_ADDRESS_final = get_comb_addr(df1_DATATREE,'DATATREE_ADDRESS_Split')"
      ]
    },
    {
      "cell_type": "code",
      "execution_count": null,
      "id": "18941299",
      "metadata": {
        "id": "18941299"
      },
      "outputs": [],
      "source": [
        "df_merge_node4 = pd.merge(DT_ADDRESS_final, MLS_ADDRESS_final, how = 'left', \n",
        "                            left_on = ['AddressNumber', 'StreetName', 'StreetNamePreDirectional', 'StreetNamePostType', 'SITUSZIP5'], \n",
        "                            right_on = ['AddressNumber', 'StreetName','StreetNamePreDirectional','StreetNamePostType', 'POSTALCODE'])"
      ]
    },
    {
      "cell_type": "code",
      "execution_count": null,
      "id": "e92001b1",
      "metadata": {
        "id": "e92001b1",
        "outputId": "09df1a9c-2846-4a38-8131-89d2be4a564a"
      },
      "outputs": [],
      "source": [
        "df_merge_node4"
      ]
    },
    {
      "cell_type": "code",
      "execution_count": null,
      "id": "fbf4594c",
      "metadata": {
        "id": "fbf4594c"
      },
      "outputs": [],
      "source": [
        "def is_null(x, y):\n",
        "    if (x == 'nan') and (y == 'nan'):\n",
        "        return True\n",
        "    else:\n",
        "        return False\n",
        "df_merge_node4['Occupancy_x_none'] = df_merge_node4.apply(lambda x: is_null(str(x['OccupancyType_x']), str(x['OccupancyIdentifier_x'])), axis=1)\n",
        "df_merge_node4['Occupancy_y_none'] = df_merge_node4.apply(lambda x: is_null(str(x['OccupancyType_y']), str(x['OccupancyIdentifier_y'])), axis=1)"
      ]
    },
    {
      "cell_type": "code",
      "execution_count": null,
      "id": "cb3506ce",
      "metadata": {
        "id": "cb3506ce"
      },
      "outputs": [],
      "source": [
        "df_merge_node4 = df_merge_node4[df_merge_node4['Occupancy_y_none'] != df_merge_node4['Occupancy_x_none']]"
      ]
    },
    {
      "cell_type": "code",
      "execution_count": null,
      "id": "ef4cbfbe",
      "metadata": {
        "id": "ef4cbfbe"
      },
      "outputs": [],
      "source": [
        "df_merge_node4 = df_merge_node4[df_merge_node4['MLS_ADDRESS'].notnull()]"
      ]
    },
    {
      "cell_type": "markdown",
      "id": "bd9d76fc",
      "metadata": {
        "id": "bd9d76fc"
      },
      "source": [
        "- Clean the names"
      ]
    },
    {
      "cell_type": "code",
      "execution_count": null,
      "id": "47ce96a9",
      "metadata": {
        "id": "47ce96a9"
      },
      "outputs": [],
      "source": [
        "from settings import *\n",
        "from Util import *\n",
        "df_merge_node4['NAME'] =df_merge_node4['NAME'].apply(lambda x: remove_punct(x))\n",
        "df_merge_node4['OWNERNAME1FULL'] = df_merge_node4['OWNERNAME1FULL'].apply(lambda x: remove_punct(x))\n",
        "df_merge_node4['NAME'] =df_merge_node4['NAME'].apply(lambda x: conver_space(x))\n",
        "df_merge_node4['OWNERNAME1FULL'] = df_merge_node4['OWNERNAME1FULL'].apply(lambda x: conver_space(x))\n",
        "df_merge_node4.replace({\"NAME\": replace_name_dict_complicated},inplace=True)\n",
        "df_merge_node4.replace({\"OWNERNAME1FULL\": replace_name_dict_complicated},inplace=True)\n",
        "df_merge_node4['NAME'] = df_merge_node4['NAME'].apply(lambda x: replace_corp(x, replace_name_dict_tail))\n",
        "df_merge_node4['OWNERNAME1FULL'] = df_merge_node4['OWNERNAME1FULL'].apply(lambda  x: replace_corp(str(x), replace_name_dict_tail))"
      ]
    },
    {
      "cell_type": "markdown",
      "id": "0f9d009d",
      "metadata": {
        "id": "0f9d009d"
      },
      "source": [
        "- Compute the fuzz ratios"
      ]
    },
    {
      "cell_type": "code",
      "execution_count": null,
      "id": "50981b6a",
      "metadata": {
        "id": "50981b6a"
      },
      "outputs": [],
      "source": [
        "df_merge_node4['NAME_FUZZY_1'] = df_merge_node4.apply(lambda x: fuzz.ratio(str(x['NAME']), str(x['OWNERNAME1FULL'])), axis=1)\n",
        "df_merge_node4['NAME_FUZZY_sort_1'] = df_merge_node4.apply(lambda x: fuzz.token_sort_ratio(str(x['NAME']), str(x['OWNERNAME1FULL'])), axis=1)"
      ]
    },
    {
      "cell_type": "code",
      "execution_count": null,
      "id": "da32cfd4",
      "metadata": {
        "id": "da32cfd4",
        "outputId": "7038e325-8de5-4afc-a49b-ee8663f6d009"
      },
      "outputs": [],
      "source": [
        "df_merge_node4.columns"
      ]
    },
    {
      "cell_type": "code",
      "execution_count": null,
      "id": "4cf9dfbc",
      "metadata": {
        "id": "4cf9dfbc"
      },
      "outputs": [],
      "source": [
        "# df_merge_node4[df_merge_node4['TOTALROOMS'] == df_merge_node4['ROOMS']].sort_values(by = 'NAME_FUZZY_1',\n",
        "#                                                                                    ascending = False)[['MLS_ADDRESS', 'DATATREE_ADDRESS',\n",
        "#                                                                                                        'NAME', 'OWNERNAME1FULL']].head(20)"
      ]
    },
    {
      "cell_type": "markdown",
      "id": "d839ada6",
      "metadata": {
        "id": "d839ada6"
      },
      "source": [
        "- Difficult to confirm whether the address is the same"
      ]
    },
    {
      "cell_type": "markdown",
      "id": "0ec41853",
      "metadata": {
        "id": "0ec41853"
      },
      "source": [
        "# 5. Fifth Node - Match with sales information"
      ]
    },
    {
      "cell_type": "code",
      "execution_count": null,
      "id": "8e7be93c",
      "metadata": {
        "id": "8e7be93c"
      },
      "outputs": [],
      "source": [
        "import pandas as pd\n",
        "sql_MLS = \"\"\"\"\"\"\n",
        "df_MLS_sale = pd.read_sql(sql_MLS, con=ctx)\n"
      ]
    },
    {
      "cell_type": "code",
      "execution_count": null,
      "id": "b32be204",
      "metadata": {
        "id": "b32be204"
      },
      "outputs": [],
      "source": [
        "sql_DATATREE = \"\"\"\"\"\"\n",
        "df_DATATREE_sale = pd.read_sql(sql_DATATREE, con=ctx)\n"
      ]
    },
    {
      "cell_type": "code",
      "execution_count": null,
      "id": "87bed1e7",
      "metadata": {
        "id": "87bed1e7"
      },
      "outputs": [],
      "source": [
        "df_MLS_sale.dropna(subset=['MLS_ADDRESS'], inplace=True)\n",
        "df_DATATREE_sale.dropna(subset=['DATATREE_ADDRESS'], inplace=True)"
      ]
    },
    {
      "cell_type": "code",
      "execution_count": null,
      "id": "3a32613c",
      "metadata": {
        "id": "3a32613c",
        "outputId": "ba716cd3-e011-457e-9c85-93278628826c"
      },
      "outputs": [],
      "source": [
        "print(df_MLS_sale.STATUS.unique())\n",
        "print(df_MLS_sale.SALE_TYPE.unique())\n",
        "df_MLS_sale1 = df_MLS_sale.copy()\n",
        "# filter out \"sale\" type and \"non-lease\" type\n",
        "df_MLS_sale1_filtered = df_MLS_sale1[(df_MLS_sale1['STATUS']=='sale')&(df_MLS_sale1['SALE_TYPE']!='lease')]\n",
        "df_MLS_sale1_filtered"
      ]
    },
    {
      "cell_type": "code",
      "execution_count": null,
      "id": "b91514aa",
      "metadata": {
        "id": "b91514aa",
        "outputId": "a3d7f60e-c91a-4c41-cfe6-263fcb3fd328"
      },
      "outputs": [],
      "source": [
        "MLS_unmatched_node5 = df_MLS_sale1_filtered[df_MLS_sale1_filtered['MLS_ADDRESS'].apply(lambda x: x not in MLS_matched_address)]\n",
        "DATATREE_unmatched_node5 = df_DATATREE_sale[df_DATATREE_sale['DATATREE_ADDRESS'].apply(lambda x: x not in df_DATATREE_sale)]\n",
        "\n",
        "# only 1515 rows are what we're looking for \n",
        "print(df_MLS_sale.shape)\n",
        "print(df_MLS_sale1_filtered.shape)\n"
      ]
    },
    {
      "cell_type": "code",
      "execution_count": null,
      "id": "6196860d",
      "metadata": {
        "id": "6196860d"
      },
      "outputs": [],
      "source": [
        "MLS_unmatched_node5.reset_index(inplace=True)\n",
        "DATATREE_unmatched_node5.reset_index(inplace=True)"
      ]
    },
    {
      "cell_type": "code",
      "execution_count": null,
      "id": "663e0101",
      "metadata": {
        "id": "663e0101",
        "outputId": "f5dbf994-45b3-48b4-ae54-14eb40d98cdf"
      },
      "outputs": [],
      "source": [
        "df1_MLS = MLS_unmatched_node5\n",
        "df1_DATATREE = DATATREE_unmatched_node5\n",
        "\n",
        "df1_MLS['MLS_ADDRESS_Split'] = df1_MLS.apply(lambda df1_MLS : get_splited_addr(df1_MLS,'MLS_ADDRESS'), axis = 1)\n",
        "df1_DATATREE['DATATREE_ADDRESS_Split'] = df1_DATATREE.apply(lambda df1_DATATREE : get_splited_addr(df1_DATATREE,'DATATREE_ADDRESS'), axis = 1)\n",
        "MLS_ADDRESS_final = get_comb_addr(df1_MLS,'MLS_ADDRESS_Split')\n",
        "DT_ADDRESS_final = get_comb_addr(df1_DATATREE,'DATATREE_ADDRESS_Split')\n"
      ]
    },
    {
      "cell_type": "code",
      "execution_count": null,
      "id": "d791b9e4",
      "metadata": {
        "id": "d791b9e4"
      },
      "outputs": [],
      "source": [
        "DT_ADDRESS_final = DT_ADDRESS_final.astype(str)\n",
        "MLS_ADDRESS_final = MLS_ADDRESS_final.astype(str)"
      ]
    },
    {
      "cell_type": "code",
      "execution_count": null,
      "id": "7f5e2060",
      "metadata": {
        "id": "7f5e2060"
      },
      "outputs": [],
      "source": [
        "# merge with current recorded date and A-date\n",
        "df_merge_node5_recent = pd.merge(DT_ADDRESS_final, MLS_ADDRESS_final, how = 'left', \n",
        "                            left_on = ['AddressNumber', 'StreetName', 'StreetNamePreDirectional', 'StreetNamePostType', 'SITUSZIP5','CURRENTSALERECORDINGDATE'], \n",
        "                            right_on = ['AddressNumber', 'StreetName','StreetNamePreDirectional','StreetNamePostType','POSTALCODE','A_DATE'])\n"
      ]
    },
    {
      "cell_type": "code",
      "execution_count": null,
      "id": "45684954",
      "metadata": {
        "id": "45684954"
      },
      "outputs": [],
      "source": [
        "# match with recent date\n",
        "df_merge_node5_recent['Occupancy_x_none'] = df_merge_node5_recent.apply(lambda x: is_null(str(x['OccupancyType_x']), str(x['OccupancyIdentifier_x'])), axis=1)\n",
        "df_merge_node5_recent['Occupancy_y_none'] = df_merge_node5_recent.apply(lambda x: is_null(str(x['OccupancyType_y']), str(x['OccupancyIdentifier_y'])), axis=1)\n"
      ]
    },
    {
      "cell_type": "code",
      "execution_count": null,
      "id": "fec4607d",
      "metadata": {
        "id": "fec4607d"
      },
      "outputs": [],
      "source": [
        "df_merge_node5_recent = df_merge_node5_recent[df_merge_node5_recent['Occupancy_y_none'] != df_merge_node5_recent['Occupancy_x_none']]\n"
      ]
    },
    {
      "cell_type": "code",
      "execution_count": null,
      "id": "cb1adc6c",
      "metadata": {
        "id": "cb1adc6c"
      },
      "outputs": [],
      "source": [
        "df_merge_node5_recent = df_merge_node5_recent[df_merge_node5_recent['MLS_ADDRESS'].notnull()]\n"
      ]
    },
    {
      "cell_type": "code",
      "execution_count": null,
      "id": "415483af",
      "metadata": {
        "id": "415483af",
        "outputId": "5b3d2a74-23c4-4473-93c4-90ae5d89e3e1"
      },
      "outputs": [],
      "source": [
        "df_merge_node5_recent"
      ]
    },
    {
      "cell_type": "code",
      "execution_count": null,
      "id": "ba172a81",
      "metadata": {
        "id": "ba172a81"
      },
      "outputs": [],
      "source": [
        "# TODO: landusecode--get distribution, figure out extreme cases -- figure out why missing?"
      ]
    },
    {
      "cell_type": "markdown",
      "id": "5dde6fdb",
      "metadata": {
        "id": "5dde6fdb"
      },
      "source": [
        "MLS:\n",
        "* MOST_RECENT_SALE: Supplemental data point for analytics delivery. This is the last known sale for the property (not specifically from MLS)\n",
        "* MOST_RECENT_SALE_DATE: Supplemental data point for analytics delivery. Date of the last known sale for the property  (not specifically from MLS) \n",
        "* PRICE:The price associated with the status, such as sale price or listing price."
      ]
    },
    {
      "cell_type": "markdown",
      "id": "7e05cc8e",
      "metadata": {
        "id": "7e05cc8e"
      },
      "source": [
        "Assessor:\n",
        "* CURRENTSALERECORDINGDATE: Date the transaction was recorded by the county/jurisdiction.\n",
        "* CURRENTSALESPRICE:Sale price of the recorded transaction\n",
        "* PREVSALECONTRACTDATE:Date the transaction was recorded by the county/jurisdiction.\n",
        "* PREVSALESPRICE:Sale price of the recorded transaction\n"
      ]
    },
    {
      "cell_type": "code",
      "execution_count": null,
      "id": "a2540b3b",
      "metadata": {
        "id": "a2540b3b",
        "outputId": "5e8b11fd-b6b8-441c-8d20-b3d2cd94505e"
      },
      "outputs": [],
      "source": [
        "print(df_MLS_sale.shape)\n",
        "df_MLS_sale.isna().sum()"
      ]
    },
    {
      "cell_type": "code",
      "execution_count": null,
      "id": "c19053cc",
      "metadata": {
        "id": "c19053cc",
        "outputId": "2ba1f3b0-620d-4014-e525-eb272822d331"
      },
      "outputs": [],
      "source": [
        "print(df_DATATREE_sale.shape)\n",
        "df_DATATREE_sale.isna().sum()"
      ]
    },
    {
      "cell_type": "code",
      "execution_count": null,
      "id": "72f70c46",
      "metadata": {
        "id": "72f70c46",
        "outputId": "5b9b8623-807c-490b-83db-91593b16e199"
      },
      "outputs": [],
      "source": [
        "df_MLS_sale[~df_MLS_sale['A_DATE'].isna()]"
      ]
    },
    {
      "cell_type": "code",
      "execution_count": null,
      "id": "3c34f0a1",
      "metadata": {
        "id": "3c34f0a1"
      },
      "outputs": [],
      "source": []
    },
    {
      "cell_type": "markdown",
      "id": "b9e99968",
      "metadata": {
        "id": "b9e99968"
      },
      "source": [
        "let's have another experiment! try to merge using different columns"
      ]
    },
    {
      "cell_type": "code",
      "execution_count": null,
      "id": "9b948aa7",
      "metadata": {
        "id": "9b948aa7"
      },
      "outputs": [],
      "source": [
        "# just repeat previous cells\n",
        "sql_MLS = \"\"\"\"\"\"\n",
        "df_MLS_sale = pd.read_sql(sql_MLS, con=ctx)\n",
        "sql_DATATREE = \"\"\"\"\"\"\n",
        "df_DATATREE_sale = pd.read_sql(sql_DATATREE, con=ctx)\n",
        "\n",
        "df_MLS_sale.dropna(subset=['MLS_ADDRESS'], inplace=True)\n",
        "df_DATATREE_sale.dropna(subset=['DATATREE_ADDRESS'], inplace=True)\n",
        "df_MLS_sale1_filtered = df_MLS_sale[(df_MLS_sale['STATUS']=='sale')&(df_MLS_sale['SALE_TYPE']!='lease')]\n",
        "MLS_unmatched_node5 = df_MLS_sale1_filtered[df_MLS_sale1_filtered['MLS_ADDRESS'].apply(lambda x: x not in MLS_matched_address)]\n",
        "DATATREE_unmatched_node5 = df_DATATREE_sale[df_DATATREE_sale['DATATREE_ADDRESS'].apply(lambda x: x not in df_DATATREE_sale)]\n"
      ]
    },
    {
      "cell_type": "code",
      "execution_count": null,
      "id": "16c00cf3",
      "metadata": {
        "id": "16c00cf3"
      },
      "outputs": [],
      "source": [
        "MLS_unmatched_node5.reset_index(inplace=True)\n",
        "DATATREE_unmatched_node5.reset_index(inplace=True)"
      ]
    },
    {
      "cell_type": "code",
      "execution_count": null,
      "id": "27ed0a56",
      "metadata": {
        "id": "27ed0a56",
        "outputId": "0712b8f5-673d-4b55-98ef-b70ef44e1941"
      },
      "outputs": [],
      "source": [
        "df1_DATATREE = DATATREE_unmatched_node5\n",
        "df1_MLS = MLS_unmatched_node5\n",
        "df1_MLS['MLS_ADDRESS_Split'] = df1_MLS.apply(lambda df1_MLS : get_splited_addr(df1_MLS,'MLS_ADDRESS'), axis = 1)\n",
        "df1_DATATREE['DATATREE_ADDRESS_Split'] = df1_DATATREE.apply(lambda df1_DATATREE : get_splited_addr(df1_DATATREE,'DATATREE_ADDRESS'), axis = 1)\n",
        "MLS_ADDRESS_final = get_comb_addr(df1_MLS,'MLS_ADDRESS_Split')\n",
        "DT_ADDRESS_final = get_comb_addr(df1_DATATREE,'DATATREE_ADDRESS_Split')\n"
      ]
    },
    {
      "cell_type": "code",
      "execution_count": null,
      "id": "63d14fbe",
      "metadata": {
        "id": "63d14fbe"
      },
      "outputs": [],
      "source": [
        "DT_ADDRESS_final = DT_ADDRESS_final.astype(str)\n",
        "MLS_ADDRESS_final = MLS_ADDRESS_final.astype(str)"
      ]
    },
    {
      "cell_type": "code",
      "execution_count": null,
      "id": "ae35bdc2",
      "metadata": {
        "id": "ae35bdc2",
        "outputId": "b1fec094-af94-4824-ec55-4478fd84b4ea"
      },
      "outputs": [],
      "source": [
        "MLS_ADDRESS_final.MOST_RECENT_SALE_DATE"
      ]
    },
    {
      "cell_type": "code",
      "execution_count": null,
      "id": "6257cc38",
      "metadata": {
        "id": "6257cc38"
      },
      "outputs": [],
      "source": [
        "# merge with current recorded date and sales date\n",
        "df_merge_node5_recent = pd.merge(DT_ADDRESS_final, MLS_ADDRESS_final, how = 'left', \n",
        "                            left_on = ['AddressNumber', 'StreetName', 'StreetNamePreDirectional', 'StreetNamePostType', 'SITUSZIP5','CURRENTSALERECORDINGDATE'], \n",
        "                            right_on = ['AddressNumber', 'StreetName','StreetNamePreDirectional','StreetNamePostType','POSTALCODE','MOST_RECENT_SALE_DATE'])\n"
      ]
    },
    {
      "cell_type": "code",
      "execution_count": null,
      "id": "8f1f6fa4",
      "metadata": {
        "id": "8f1f6fa4"
      },
      "outputs": [],
      "source": [
        "# match with recent date\n",
        "\n",
        "df_merge_node5_recent['Occupancy_x_none'] = df_merge_node5_recent.apply(lambda x: is_null(str(x['OccupancyType_x']), str(x['OccupancyIdentifier_x'])), axis=1)\n",
        "df_merge_node5_recent['Occupancy_y_none'] = df_merge_node5_recent.apply(lambda x: is_null(str(x['OccupancyType_y']), str(x['OccupancyIdentifier_y'])), axis=1)\n"
      ]
    },
    {
      "cell_type": "code",
      "execution_count": null,
      "id": "dca691d9",
      "metadata": {
        "id": "dca691d9"
      },
      "outputs": [],
      "source": [
        "df_merge_node5_recent = df_merge_node5_recent[df_merge_node5_recent['Occupancy_y_none'] != df_merge_node5_recent['Occupancy_x_none']]\n"
      ]
    },
    {
      "cell_type": "code",
      "execution_count": null,
      "id": "d581535c",
      "metadata": {
        "id": "d581535c"
      },
      "outputs": [],
      "source": [
        "df_merge_node5_recent = df_merge_node5_recent[df_merge_node5_recent['Occupancy_y_none'] != df_merge_node5_recent['Occupancy_x_none']]\n",
        "df_merge_node5_recent = df_merge_node5_recent[df_merge_node5_recent['MLS_ADDRESS'].notnull()]\n"
      ]
    },
    {
      "cell_type": "code",
      "execution_count": null,
      "id": "719e1816",
      "metadata": {
        "id": "719e1816",
        "outputId": "f0ff61c8-3ab7-4102-a593-fe416d751e89"
      },
      "outputs": [],
      "source": [
        "df_merge_node5_recent"
      ]
    },
    {
      "cell_type": "code",
      "execution_count": null,
      "id": "bbb930cb",
      "metadata": {
        "id": "bbb930cb"
      },
      "outputs": [],
      "source": [
        "# match with previous date\n",
        "df_merge_node5_pre = pd.merge(DT_ADDRESS_final, MLS_ADDRESS_final, how = 'left', \n",
        "                            left_on = ['AddressNumber', 'StreetName', 'StreetNamePreDirectional', 'StreetNamePostType', 'PREVSALERECORDINGDATE'], \n",
        "                            right_on = ['AddressNumber', 'StreetName','StreetNamePreDirectional','StreetNamePostType', 'MOST_RECENT_SALE_DATE'])\n"
      ]
    },
    {
      "cell_type": "code",
      "execution_count": null,
      "id": "b84de883",
      "metadata": {
        "id": "b84de883"
      },
      "outputs": [],
      "source": [
        "\n",
        "df_merge_node5_pre['Occupancy_x_none'] = df_merge_node5_pre.apply(lambda x: is_null(str(x['OccupancyType_x']), str(x['OccupancyIdentifier_x'])), axis=1)\n",
        "df_merge_node5_pre['Occupancy_y_none'] = df_merge_node5_pre.apply(lambda x: is_null(str(x['OccupancyType_y']), str(x['OccupancyIdentifier_y'])), axis=1)\n",
        "df_merge_node5_pre = df_merge_node5_pre[df_merge_node5_pre['Occupancy_y_none'] != df_merge_node5_pre['Occupancy_x_none']]\n",
        "df_merge_node5_pre = df_merge_node5_pre[df_merge_node5_pre['MLS_ADDRESS'].notnull()]\n",
        "\n"
      ]
    },
    {
      "cell_type": "code",
      "execution_count": null,
      "id": "c0f8b21c",
      "metadata": {
        "id": "c0f8b21c",
        "outputId": "cc9ce76d-22a5-4000-e79d-b8109cc2f934"
      },
      "outputs": [],
      "source": [
        "df_merge_node5_pre.head(3)"
      ]
    },
    {
      "cell_type": "code",
      "execution_count": null,
      "id": "65484365",
      "metadata": {
        "id": "65484365"
      },
      "outputs": [],
      "source": [
        "# price matching\n",
        "df_merge_node5_price = pd.merge(DT_ADDRESS_final, MLS_ADDRESS_final, how = 'left', \n",
        "                            left_on = ['AddressNumber', 'StreetName', 'StreetNamePreDirectional', 'StreetNamePostType','SITUSZIP5', 'CURRENTSALESPRICE'], \n",
        "                            right_on = ['AddressNumber', 'StreetName','StreetNamePreDirectional','StreetNamePostType', 'POSTALCODE','PRICE'])\n"
      ]
    },
    {
      "cell_type": "code",
      "execution_count": null,
      "id": "d044959d",
      "metadata": {
        "id": "d044959d"
      },
      "outputs": [],
      "source": [
        "# match with recent date\n",
        "\n",
        "df_merge_node5_price['Occupancy_x_none'] = df_merge_node5_price.apply(lambda x: is_null(str(x['OccupancyType_x']), str(x['OccupancyIdentifier_x'])), axis=1)\n",
        "df_merge_node5_price['Occupancy_y_none'] = df_merge_node5_price.apply(lambda x: is_null(str(x['OccupancyType_y']), str(x['OccupancyIdentifier_y'])), axis=1)\n"
      ]
    },
    {
      "cell_type": "code",
      "execution_count": null,
      "id": "221bdc0e",
      "metadata": {
        "id": "221bdc0e"
      },
      "outputs": [],
      "source": [
        "df_merge_node5_price = df_merge_node5_price[df_merge_node5_price['Occupancy_y_none'] != df_merge_node5_price['Occupancy_x_none']]\n",
        "df_merge_node5_price = df_merge_node5_price[df_merge_node5_price['MLS_ADDRESS'].notnull()]\n"
      ]
    },
    {
      "cell_type": "code",
      "execution_count": null,
      "id": "1d0b0b7b",
      "metadata": {
        "id": "1d0b0b7b",
        "outputId": "989f7132-441a-4272-8707-22a8c207a952"
      },
      "outputs": [],
      "source": [
        "df_merge_node5_price.columns"
      ]
    },
    {
      "cell_type": "code",
      "execution_count": null,
      "id": "fb7ed2fd",
      "metadata": {
        "id": "fb7ed2fd"
      },
      "outputs": [],
      "source": []
    },
    {
      "cell_type": "code",
      "execution_count": null,
      "id": "86bbe6cd",
      "metadata": {
        "id": "86bbe6cd"
      },
      "outputs": [],
      "source": []
    }
  ],
  "metadata": {
    "colab": {
      "name": "five_node_flow.ipynb",
      "provenance": []
    },
    "kernelspec": {
      "display_name": "Python 3 (ipykernel)",
      "language": "python",
      "name": "python3"
    },
    "language_info": {
      "codemirror_mode": {
        "name": "ipython",
        "version": 3
      },
      "file_extension": ".py",
      "mimetype": "text/x-python",
      "name": "python",
      "nbconvert_exporter": "python",
      "pygments_lexer": "ipython3",
      "version": "3.9.7"
    }
  },
  "nbformat": 4,
  "nbformat_minor": 5
}
