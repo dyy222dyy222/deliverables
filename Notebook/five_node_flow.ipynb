{
  "cells": [
    {
      "cell_type": "markdown",
      "id": "bbeac46b",
      "metadata": {
        "id": "bbeac46b"
      },
      "source": [
        "# 1.Import data"
      ]
    },
    {
      "cell_type": "code",
      "execution_count": null,
      "id": "1b927bb4",
      "metadata": {
        "id": "1b927bb4"
      },
      "outputs": [],
      "source": [
        "import snowflake.connector\n",
        "from snowflake.connector import cursor\n",
        "import usaddress\n",
        "import re\n",
        "import config_final"
      ]
    },
    {
      "cell_type": "code",
      "execution_count": null,
      "id": "4f064e55",
      "metadata": {
        "id": "4f064e55"
      },
      "outputs": [],
      "source": [
        "ctx = snowflake.connector.connect(\n",
        "    user=config_final.user,\n",
        "    password=config_final.password,\n",
        "    account=config_final.account\n",
        ")\n",
        "cursor = ctx.cursor()"
      ]
    },
    {
      "cell_type": "code",
      "execution_count": null,
      "id": "6612107f",
      "metadata": {
        "id": "6612107f"
      },
      "outputs": [],
      "source": [
        "import pandas as pd\n",
        "sql_MLS = \"\"\"SELECT (CASE WHEN CC_PROPERTY_ADDR_DISPLAY_1 IS NULL THEN ADDRESS ELSE CC_PROPERTY_ADDR_DISPLAY_1 END) AS MLS_ADDRESS,\n",
        "                    OWNER_FULL_NAME AS NAME,\n",
        "                    CC_PROPERTY_ADDR_POSTAL_CODE AS POSTALCODE\n",
        "            FROM ATTOM.MLS\n",
        "            WHERE CC_PROPERTY_ADDR_CITY = 'new york'\"\"\"\n",
        "df_MLS = pd.read_sql(sql_MLS, con=ctx)"
      ]
    },
    {
      "cell_type": "code",
      "execution_count": null,
      "id": "5266a132",
      "metadata": {
        "id": "5266a132"
      },
      "outputs": [],
      "source": [
        "sql_DATATREE = \"\"\"SELECT SITUSFULLSTREETADDRESS AS DATATREE_ADDRESS,\n",
        "                         OWNERNAME1FULL,\n",
        "                         OWNERNAME2FULL,\n",
        "                         SITUSZIP5\n",
        "                  FROM DATATREE.ASSESSOR\n",
        "                  WHERE SITUSCITY = 'new york'\"\"\"\n",
        "df_DATATREE = pd.read_sql(sql_DATATREE, con=ctx)"
      ]
    },
    {
      "cell_type": "code",
      "execution_count": null,
      "id": "7c6b7330",
      "metadata": {
        "id": "7c6b7330",
        "outputId": "1ecd8320-fda2-42df-cb6b-fc88c6035fd7"
      },
      "outputs": [
        {
          "data": {
            "text/html": [
              "<div>\n",
              "<style scoped>\n",
              "    .dataframe tbody tr th:only-of-type {\n",
              "        vertical-align: middle;\n",
              "    }\n",
              "\n",
              "    .dataframe tbody tr th {\n",
              "        vertical-align: top;\n",
              "    }\n",
              "\n",
              "    .dataframe thead th {\n",
              "        text-align: right;\n",
              "    }\n",
              "</style>\n",
              "<table border=\"1\" class=\"dataframe\">\n",
              "  <thead>\n",
              "    <tr style=\"text-align: right;\">\n",
              "      <th></th>\n",
              "      <th>MLS_ADDRESS</th>\n",
              "      <th>NAME</th>\n",
              "      <th>POSTALCODE</th>\n",
              "    </tr>\n",
              "  </thead>\n",
              "  <tbody>\n",
              "    <tr>\n",
              "      <th>0</th>\n",
              "      <td>20 west st apt 17a</td>\n",
              "      <td>hudson homes</td>\n",
              "      <td>10004</td>\n",
              "    </tr>\n",
              "    <tr>\n",
              "      <th>1</th>\n",
              "      <td>240 riverside blvd apt 9b</td>\n",
              "      <td>withheld</td>\n",
              "      <td>10069</td>\n",
              "    </tr>\n",
              "    <tr>\n",
              "      <th>2</th>\n",
              "      <td>522 w 29th st apt 5b</td>\n",
              "      <td>withheld</td>\n",
              "      <td>10001</td>\n",
              "    </tr>\n",
              "    <tr>\n",
              "      <th>3</th>\n",
              "      <td>25 5th ave apt 14c</td>\n",
              "      <td>None</td>\n",
              "      <td>10003</td>\n",
              "    </tr>\n",
              "    <tr>\n",
              "      <th>4</th>\n",
              "      <td>1 irving pl apt v9d</td>\n",
              "      <td>None</td>\n",
              "      <td>10003</td>\n",
              "    </tr>\n",
              "  </tbody>\n",
              "</table>\n",
              "</div>"
            ],
            "text/plain": [
              "                 MLS_ADDRESS          NAME POSTALCODE\n",
              "0         20 west st apt 17a  hudson homes      10004\n",
              "1  240 riverside blvd apt 9b      withheld      10069\n",
              "2       522 w 29th st apt 5b      withheld      10001\n",
              "3         25 5th ave apt 14c          None      10003\n",
              "4        1 irving pl apt v9d          None      10003"
            ]
          },
          "execution_count": 5,
          "metadata": {},
          "output_type": "execute_result"
        }
      ],
      "source": [
        "df_MLS.head()"
      ]
    },
    {
      "cell_type": "code",
      "execution_count": null,
      "id": "c87b0036",
      "metadata": {
        "id": "c87b0036",
        "outputId": "8550aac1-7621-48c8-aa6f-c05a91aa8368"
      },
      "outputs": [
        {
          "data": {
            "text/html": [
              "<div>\n",
              "<style scoped>\n",
              "    .dataframe tbody tr th:only-of-type {\n",
              "        vertical-align: middle;\n",
              "    }\n",
              "\n",
              "    .dataframe tbody tr th {\n",
              "        vertical-align: top;\n",
              "    }\n",
              "\n",
              "    .dataframe thead th {\n",
              "        text-align: right;\n",
              "    }\n",
              "</style>\n",
              "<table border=\"1\" class=\"dataframe\">\n",
              "  <thead>\n",
              "    <tr style=\"text-align: right;\">\n",
              "      <th></th>\n",
              "      <th>DATATREE_ADDRESS</th>\n",
              "      <th>OWNERNAME1FULL</th>\n",
              "      <th>OWNERNAME2FULL</th>\n",
              "      <th>SITUSZIP5</th>\n",
              "    </tr>\n",
              "  </thead>\n",
              "  <tbody>\n",
              "    <tr>\n",
              "      <th>0</th>\n",
              "      <td>305 e 4th st apt 5</td>\n",
              "      <td>karas darko</td>\n",
              "      <td>mount jane</td>\n",
              "      <td>10009</td>\n",
              "    </tr>\n",
              "    <tr>\n",
              "      <th>1</th>\n",
              "      <td>463 lexington ave</td>\n",
              "      <td>delmar 36 ar llc</td>\n",
              "      <td>sgn 246 llc</td>\n",
              "      <td>10017</td>\n",
              "    </tr>\n",
              "    <tr>\n",
              "      <th>2</th>\n",
              "      <td>300 e 33rd st apt 3p</td>\n",
              "      <td>khan mohammed aslam</td>\n",
              "      <td>pfefferblit susanna</td>\n",
              "      <td>10016</td>\n",
              "    </tr>\n",
              "    <tr>\n",
              "      <th>3</th>\n",
              "      <td>170 e 87th st apt e16a</td>\n",
              "      <td>famfa oil ltd</td>\n",
              "      <td>None</td>\n",
              "      <td>10128</td>\n",
              "    </tr>\n",
              "    <tr>\n",
              "      <th>4</th>\n",
              "      <td>18 w 90th st</td>\n",
              "      <td>urbs nova cooperative inc</td>\n",
              "      <td>None</td>\n",
              "      <td>10024</td>\n",
              "    </tr>\n",
              "  </tbody>\n",
              "</table>\n",
              "</div>"
            ],
            "text/plain": [
              "         DATATREE_ADDRESS             OWNERNAME1FULL       OWNERNAME2FULL  \\\n",
              "0      305 e 4th st apt 5                karas darko           mount jane   \n",
              "1       463 lexington ave           delmar 36 ar llc          sgn 246 llc   \n",
              "2    300 e 33rd st apt 3p        khan mohammed aslam  pfefferblit susanna   \n",
              "3  170 e 87th st apt e16a              famfa oil ltd                 None   \n",
              "4            18 w 90th st  urbs nova cooperative inc                 None   \n",
              "\n",
              "  SITUSZIP5  \n",
              "0     10009  \n",
              "1     10017  \n",
              "2     10016  \n",
              "3     10128  \n",
              "4     10024  "
            ]
          },
          "execution_count": 6,
          "metadata": {},
          "output_type": "execute_result"
        }
      ],
      "source": [
        "df_DATATREE.head()"
      ]
    },
    {
      "cell_type": "code",
      "execution_count": null,
      "id": "bcbf9fe0",
      "metadata": {
        "id": "bcbf9fe0",
        "outputId": "6a85ceef-3083-4787-8f66-85e1ac497dd9"
      },
      "outputs": [
        {
          "data": {
            "text/plain": [
              "0.04129401290637929"
            ]
          },
          "execution_count": 7,
          "metadata": {},
          "output_type": "execute_result"
        }
      ],
      "source": [
        "len(df_MLS['MLS_ADDRESS'].unique())/len(df_DATATREE['DATATREE_ADDRESS'].unique())"
      ]
    },
    {
      "cell_type": "markdown",
      "id": "4be20409",
      "metadata": {
        "id": "4be20409"
      },
      "source": [
        "Max matching ratio couldn't exceed 4%"
      ]
    },
    {
      "cell_type": "markdown",
      "id": "eb53b75b",
      "metadata": {
        "id": "eb53b75b"
      },
      "source": [
        "# 2. First Node - Completely match"
      ]
    },
    {
      "cell_type": "code",
      "execution_count": null,
      "id": "4a482dd3",
      "metadata": {
        "id": "4a482dd3"
      },
      "outputs": [],
      "source": [
        "# Drop NaN\n",
        "df_MLS.dropna(subset=['MLS_ADDRESS'], inplace=True)\n",
        "df_DATATREE.dropna(subset=['DATATREE_ADDRESS'], inplace=True)\n"
      ]
    },
    {
      "cell_type": "code",
      "execution_count": null,
      "id": "1ff3c752",
      "metadata": {
        "id": "1ff3c752"
      },
      "outputs": [],
      "source": [
        "# Merge the data\n",
        "df_merge_node1 = pd.merge(df_DATATREE,df_MLS, how = 'left', right_on = ['MLS_ADDRESS', 'POSTALCODE'], \n",
        "                          left_on = ['DATATREE_ADDRESS', 'SITUSZIP5'])\n"
      ]
    },
    {
      "cell_type": "code",
      "execution_count": null,
      "id": "88760163",
      "metadata": {
        "id": "88760163",
        "outputId": "e5ca7808-c9b6-41da-fbd4-8ed9fb51d4ed"
      },
      "outputs": [
        {
          "data": {
            "text/plain": [
              "0.03178306978368077"
            ]
          },
          "execution_count": 10,
          "metadata": {},
          "output_type": "execute_result"
        }
      ],
      "source": [
        "# Compute ratio\n",
        "first_node_match = len(df_merge_node1[df_merge_node1['MLS_ADDRESS'].notnull()]['MLS_ADDRESS'].unique())\n",
        "base = len(df_DATATREE['DATATREE_ADDRESS'].unique())\n",
        "first_node_match_ratio = first_node_match/base\n",
        "first_node_match_ratio\n"
      ]
    },
    {
      "cell_type": "markdown",
      "id": "511b5756",
      "metadata": {
        "id": "511b5756"
      },
      "source": [
        "- Create Matched addresses list"
      ]
    },
    {
      "cell_type": "code",
      "execution_count": null,
      "id": "58dce008",
      "metadata": {
        "id": "58dce008",
        "outputId": "c6879674-cca9-4c9e-f1ed-e9a02669c35b"
      },
      "outputs": [
        {
          "data": {
            "text/plain": [
              "10924"
            ]
          },
          "execution_count": 11,
          "metadata": {},
          "output_type": "execute_result"
        }
      ],
      "source": [
        "first_node_match"
      ]
    },
    {
      "cell_type": "code",
      "execution_count": null,
      "id": "dbf80aee",
      "metadata": {
        "id": "dbf80aee"
      },
      "outputs": [],
      "source": [
        "MLS_matched_address = []\n",
        "DATATREE_matched_address = []"
      ]
    },
    {
      "cell_type": "code",
      "execution_count": null,
      "id": "50a2f0ec",
      "metadata": {
        "id": "50a2f0ec"
      },
      "outputs": [],
      "source": [
        "first_node_match_list = list(df_merge_node1[df_merge_node1['MLS_ADDRESS'].notnull()]['MLS_ADDRESS'].unique())\n",
        "MLS_matched_address.extend(first_node_match_list)\n",
        "DATATREE_matched_address.extend(first_node_match_list)"
      ]
    },
    {
      "cell_type": "code",
      "execution_count": null,
      "id": "6c2fb816",
      "metadata": {
        "id": "6c2fb816",
        "outputId": "6f706cfe-eb11-43db-8ee8-42ab8740ccae"
      },
      "outputs": [
        {
          "data": {
            "text/plain": [
              "10924"
            ]
          },
          "execution_count": 14,
          "metadata": {},
          "output_type": "execute_result"
        }
      ],
      "source": [
        "len(MLS_matched_address)"
      ]
    },
    {
      "cell_type": "code",
      "execution_count": null,
      "id": "113c18ba",
      "metadata": {
        "id": "113c18ba",
        "outputId": "65ba4a93-ff56-4d54-cf67-928d9d54670e"
      },
      "outputs": [
        {
          "data": {
            "text/plain": [
              "10924"
            ]
          },
          "execution_count": 15,
          "metadata": {},
          "output_type": "execute_result"
        }
      ],
      "source": [
        "len(DATATREE_matched_address)"
      ]
    },
    {
      "cell_type": "markdown",
      "id": "2e729ee6",
      "metadata": {
        "id": "2e729ee6"
      },
      "source": [
        "# 3. Second Node - Match after transformation"
      ]
    },
    {
      "cell_type": "markdown",
      "id": "31cfe970",
      "metadata": {
        "id": "31cfe970"
      },
      "source": [
        "- Remove punctuation"
      ]
    },
    {
      "cell_type": "code",
      "execution_count": null,
      "id": "25ca821e",
      "metadata": {
        "id": "25ca821e"
      },
      "outputs": [],
      "source": [
        "# Remove punctuations\n",
        "from string import punctuation\n",
        "import re\n",
        "# punctuation -> space\n",
        "remove_punctiuation = str.maketrans(punctuation, ' '*len(punctuation))\n",
        "\n",
        "df_MLS['MLS_ADDRESS'] = df_MLS['MLS_ADDRESS'].apply(lambda x: x.translate(remove_punctiuation))\n",
        "df_DATATREE['DATATREE_ADDRESS'] = df_DATATREE['DATATREE_ADDRESS'].apply(lambda x: x.translate(remove_punctiuation))\n",
        "# several spaces -> one space\n",
        "df_MLS['MLS_ADDRESS'] = df_MLS['MLS_ADDRESS'].apply(lambda x: re.sub(' +', ' ', x))\n",
        "df_DATATREE['DATATREE_ADDRESS'] = df_DATATREE['DATATREE_ADDRESS'].apply(lambda x: re.sub(' +', ' ', x))\n"
      ]
    },
    {
      "cell_type": "markdown",
      "id": "1cce4fb3",
      "metadata": {
        "id": "1cce4fb3"
      },
      "source": [
        "- Create table with splitted addresses"
      ]
    },
    {
      "cell_type": "code",
      "execution_count": null,
      "id": "59d7a432",
      "metadata": {
        "id": "59d7a432"
      },
      "outputs": [],
      "source": [
        "def get_splited_addr(df,col:str,lt=False):\n",
        "    import usaddress\n",
        "    global address\n",
        "    try:\n",
        "        address = usaddress.tag(df[col])\n",
        "    except:\n",
        "        return None\n",
        "    if lt:\n",
        "        return list(address[0])\n",
        "    else:\n",
        "        return address\n",
        "def get_comb_addr(df,splited_col:str):\n",
        "    test = df[splited_col].to_list()\n",
        "    values= []\n",
        "    for i in range(len(test)):\n",
        "        try:\n",
        "            values.append(test[i][0])\n",
        "        except:\n",
        "            values.append({})\n",
        "    splited_df = pd.DataFrame(values)\n",
        "    df.reset_index(inplace=True)\n",
        "    addr_final = pd.concat([df,splited_df],axis=1)\n",
        "    del addr_final['index']\n",
        "    return addr_final"
      ]
    },
    {
      "cell_type": "code",
      "execution_count": null,
      "id": "86299881",
      "metadata": {
        "id": "86299881"
      },
      "outputs": [],
      "source": [
        "df1_MLS = df_MLS[:15000] # only take a sample with the first 15000 rows\n",
        "df1_DATATREE = df_DATATREE[:15000]"
      ]
    },
    {
      "cell_type": "code",
      "execution_count": null,
      "id": "a64c82ec",
      "metadata": {
        "id": "a64c82ec",
        "outputId": "c552d2b5-56f7-4471-9c87-f1bee9fabd72"
      },
      "outputs": [
        {
          "name": "stderr",
          "output_type": "stream",
          "text": [
            "/var/folders/z9/pk08smpj33v7qgj53df0jtmm0000gn/T/ipykernel_9626/437142071.py:1: SettingWithCopyWarning: \n",
            "A value is trying to be set on a copy of a slice from a DataFrame.\n",
            "Try using .loc[row_indexer,col_indexer] = value instead\n",
            "\n",
            "See the caveats in the documentation: https://pandas.pydata.org/pandas-docs/stable/user_guide/indexing.html#returning-a-view-versus-a-copy\n",
            "  df1_MLS['MLS_ADDRESS_Split'] = df1_MLS.apply(lambda df1_MLS : get_splited_addr(df1_MLS,'MLS_ADDRESS'), axis = 1)\n",
            "/var/folders/z9/pk08smpj33v7qgj53df0jtmm0000gn/T/ipykernel_9626/437142071.py:2: SettingWithCopyWarning: \n",
            "A value is trying to be set on a copy of a slice from a DataFrame.\n",
            "Try using .loc[row_indexer,col_indexer] = value instead\n",
            "\n",
            "See the caveats in the documentation: https://pandas.pydata.org/pandas-docs/stable/user_guide/indexing.html#returning-a-view-versus-a-copy\n",
            "  df1_DATATREE['DATATREE_ADDRESS_Split'] = df1_DATATREE.apply(lambda df1_DATATREE : get_splited_addr(df1_DATATREE,'DATATREE_ADDRESS'), axis = 1)\n"
          ]
        }
      ],
      "source": [
        "df1_MLS['MLS_ADDRESS_Split'] = df1_MLS.apply(lambda df1_MLS : get_splited_addr(df1_MLS,'MLS_ADDRESS'), axis = 1)\n",
        "df1_DATATREE['DATATREE_ADDRESS_Split'] = df1_DATATREE.apply(lambda df1_DATATREE : get_splited_addr(df1_DATATREE,'DATATREE_ADDRESS'), axis = 1)\n",
        "MLS_ADDRESS_final = get_comb_addr(df1_MLS,'MLS_ADDRESS_Split')\n",
        "DT_ADDRESS_final = get_comb_addr(df1_DATATREE,'DATATREE_ADDRESS_Split')\n"
      ]
    },
    {
      "cell_type": "code",
      "execution_count": null,
      "id": "7851e036",
      "metadata": {
        "id": "7851e036",
        "outputId": "daa3fb1d-9d32-4c67-f5a3-b2805ccd10e8"
      },
      "outputs": [
        {
          "data": {
            "text/html": [
              "<div>\n",
              "<style scoped>\n",
              "    .dataframe tbody tr th:only-of-type {\n",
              "        vertical-align: middle;\n",
              "    }\n",
              "\n",
              "    .dataframe tbody tr th {\n",
              "        vertical-align: top;\n",
              "    }\n",
              "\n",
              "    .dataframe thead th {\n",
              "        text-align: right;\n",
              "    }\n",
              "</style>\n",
              "<table border=\"1\" class=\"dataframe\">\n",
              "  <thead>\n",
              "    <tr style=\"text-align: right;\">\n",
              "      <th></th>\n",
              "      <th>MLS_ADDRESS</th>\n",
              "      <th>NAME</th>\n",
              "      <th>POSTALCODE</th>\n",
              "      <th>MLS_ADDRESS_Split</th>\n",
              "      <th>AddressNumber</th>\n",
              "      <th>StreetName</th>\n",
              "      <th>StreetNamePostType</th>\n",
              "      <th>OccupancyType</th>\n",
              "      <th>OccupancyIdentifier</th>\n",
              "      <th>StreetNamePreDirectional</th>\n",
              "      <th>StreetNamePostDirectional</th>\n",
              "      <th>StreetNamePreType</th>\n",
              "      <th>PlaceName</th>\n",
              "      <th>StateName</th>\n",
              "      <th>ZipCode</th>\n",
              "      <th>BuildingName</th>\n",
              "      <th>USPSBoxGroupType</th>\n",
              "    </tr>\n",
              "  </thead>\n",
              "  <tbody>\n",
              "    <tr>\n",
              "      <th>0</th>\n",
              "      <td>20 west st apt 17a</td>\n",
              "      <td>hudson homes</td>\n",
              "      <td>10004</td>\n",
              "      <td>({'AddressNumber': '20', 'StreetName': 'west',...</td>\n",
              "      <td>20</td>\n",
              "      <td>west</td>\n",
              "      <td>st</td>\n",
              "      <td>apt</td>\n",
              "      <td>17a</td>\n",
              "      <td>NaN</td>\n",
              "      <td>NaN</td>\n",
              "      <td>NaN</td>\n",
              "      <td>NaN</td>\n",
              "      <td>NaN</td>\n",
              "      <td>NaN</td>\n",
              "      <td>NaN</td>\n",
              "      <td>NaN</td>\n",
              "    </tr>\n",
              "    <tr>\n",
              "      <th>1</th>\n",
              "      <td>240 riverside blvd apt 9b</td>\n",
              "      <td>withheld</td>\n",
              "      <td>10069</td>\n",
              "      <td>({'AddressNumber': '240', 'StreetName': 'river...</td>\n",
              "      <td>240</td>\n",
              "      <td>riverside</td>\n",
              "      <td>blvd</td>\n",
              "      <td>apt</td>\n",
              "      <td>9b</td>\n",
              "      <td>NaN</td>\n",
              "      <td>NaN</td>\n",
              "      <td>NaN</td>\n",
              "      <td>NaN</td>\n",
              "      <td>NaN</td>\n",
              "      <td>NaN</td>\n",
              "      <td>NaN</td>\n",
              "      <td>NaN</td>\n",
              "    </tr>\n",
              "    <tr>\n",
              "      <th>2</th>\n",
              "      <td>522 w 29th st apt 5b</td>\n",
              "      <td>withheld</td>\n",
              "      <td>10001</td>\n",
              "      <td>({'AddressNumber': '522', 'StreetNamePreDirect...</td>\n",
              "      <td>522</td>\n",
              "      <td>29th</td>\n",
              "      <td>st</td>\n",
              "      <td>apt</td>\n",
              "      <td>5b</td>\n",
              "      <td>w</td>\n",
              "      <td>NaN</td>\n",
              "      <td>NaN</td>\n",
              "      <td>NaN</td>\n",
              "      <td>NaN</td>\n",
              "      <td>NaN</td>\n",
              "      <td>NaN</td>\n",
              "      <td>NaN</td>\n",
              "    </tr>\n",
              "    <tr>\n",
              "      <th>3</th>\n",
              "      <td>25 5th ave apt 14c</td>\n",
              "      <td>None</td>\n",
              "      <td>10003</td>\n",
              "      <td>({'AddressNumber': '25', 'StreetName': '5th', ...</td>\n",
              "      <td>25</td>\n",
              "      <td>5th</td>\n",
              "      <td>ave</td>\n",
              "      <td>apt</td>\n",
              "      <td>14c</td>\n",
              "      <td>NaN</td>\n",
              "      <td>NaN</td>\n",
              "      <td>NaN</td>\n",
              "      <td>NaN</td>\n",
              "      <td>NaN</td>\n",
              "      <td>NaN</td>\n",
              "      <td>NaN</td>\n",
              "      <td>NaN</td>\n",
              "    </tr>\n",
              "    <tr>\n",
              "      <th>4</th>\n",
              "      <td>1 irving pl apt v9d</td>\n",
              "      <td>None</td>\n",
              "      <td>10003</td>\n",
              "      <td>({'AddressNumber': '1', 'StreetName': 'irving'...</td>\n",
              "      <td>1</td>\n",
              "      <td>irving</td>\n",
              "      <td>pl</td>\n",
              "      <td>apt</td>\n",
              "      <td>v9d</td>\n",
              "      <td>NaN</td>\n",
              "      <td>NaN</td>\n",
              "      <td>NaN</td>\n",
              "      <td>NaN</td>\n",
              "      <td>NaN</td>\n",
              "      <td>NaN</td>\n",
              "      <td>NaN</td>\n",
              "      <td>NaN</td>\n",
              "    </tr>\n",
              "  </tbody>\n",
              "</table>\n",
              "</div>"
            ],
            "text/plain": [
              "                 MLS_ADDRESS          NAME POSTALCODE  \\\n",
              "0         20 west st apt 17a  hudson homes      10004   \n",
              "1  240 riverside blvd apt 9b      withheld      10069   \n",
              "2       522 w 29th st apt 5b      withheld      10001   \n",
              "3         25 5th ave apt 14c          None      10003   \n",
              "4        1 irving pl apt v9d          None      10003   \n",
              "\n",
              "                                   MLS_ADDRESS_Split AddressNumber StreetName  \\\n",
              "0  ({'AddressNumber': '20', 'StreetName': 'west',...            20       west   \n",
              "1  ({'AddressNumber': '240', 'StreetName': 'river...           240  riverside   \n",
              "2  ({'AddressNumber': '522', 'StreetNamePreDirect...           522       29th   \n",
              "3  ({'AddressNumber': '25', 'StreetName': '5th', ...            25        5th   \n",
              "4  ({'AddressNumber': '1', 'StreetName': 'irving'...             1     irving   \n",
              "\n",
              "  StreetNamePostType OccupancyType OccupancyIdentifier  \\\n",
              "0                 st           apt                 17a   \n",
              "1               blvd           apt                  9b   \n",
              "2                 st           apt                  5b   \n",
              "3                ave           apt                 14c   \n",
              "4                 pl           apt                 v9d   \n",
              "\n",
              "  StreetNamePreDirectional StreetNamePostDirectional StreetNamePreType  \\\n",
              "0                      NaN                       NaN               NaN   \n",
              "1                      NaN                       NaN               NaN   \n",
              "2                        w                       NaN               NaN   \n",
              "3                      NaN                       NaN               NaN   \n",
              "4                      NaN                       NaN               NaN   \n",
              "\n",
              "  PlaceName StateName ZipCode BuildingName USPSBoxGroupType  \n",
              "0       NaN       NaN     NaN          NaN              NaN  \n",
              "1       NaN       NaN     NaN          NaN              NaN  \n",
              "2       NaN       NaN     NaN          NaN              NaN  \n",
              "3       NaN       NaN     NaN          NaN              NaN  \n",
              "4       NaN       NaN     NaN          NaN              NaN  "
            ]
          },
          "execution_count": 20,
          "metadata": {},
          "output_type": "execute_result"
        }
      ],
      "source": [
        "MLS_ADDRESS_final.head()"
      ]
    },
    {
      "cell_type": "markdown",
      "id": "c5c542ed",
      "metadata": {
        "id": "c5c542ed"
      },
      "source": [
        "- Address cleaning"
      ]
    },
    {
      "cell_type": "code",
      "execution_count": null,
      "id": "5681dcdd",
      "metadata": {
        "id": "5681dcdd",
        "outputId": "2ce988c7-5728-42eb-f024-395c14ae2c6e"
      },
      "outputs": [
        {
          "name": "stdout",
          "output_type": "stream",
          "text": [
            "Index(['DATATREE_ADDRESS', 'OWNERNAME1FULL', 'OWNERNAME2FULL', 'SITUSZIP5',\n",
            "       'DATATREE_ADDRESS_Split', 'AddressNumber', 'StreetNamePreDirectional',\n",
            "       'StreetName', 'StreetNamePostType', 'OccupancyType',\n",
            "       'OccupancyIdentifier', 'StreetNamePostDirectional', 'StreetNamePreType',\n",
            "       'PlaceName', 'StateName', 'ZipCode', 'SubaddressIdentifier',\n",
            "       'StreetNamePreModifier'],\n",
            "      dtype='object')\n",
            "StreetNamePreDirectional:\n",
            "['e' nan 'w' 'n' 'south' 's' 'west']\n",
            "StreetNamePostType:\n",
            "['st' 'ave' 'blvd' nan 'plz' 'pl' 'dr' 'park' 'row' 'hl' 'ter' 'sq' 'ln'\n",
            " 'cir' 'avenue' 'garden' 'sta' 'ct' 'vlg' 'br' 'btf' 'phj']\n",
            "OccupancyType:\n",
            "['apt' nan 'ste' 'rm' 'lbby' 'fl' 'ph' 'ofc' 'st' 'oor' 'pla' 'unit' 'ret']\n",
            "StreetNamePostDirectional:\n",
            "[nan 's' 'w' 'e' 'n' 'south' 'west']\n"
          ]
        }
      ],
      "source": [
        "print(DT_ADDRESS_final.columns)\n",
        "abbr_list = ['StreetNamePreDirectional','StreetNamePostType',\n",
        "             'OccupancyType','StreetNamePostDirectional']\n",
        "for col in abbr_list:\n",
        "    print(f'{col}:\\n'+ f'{DT_ADDRESS_final[col].unique()}') "
      ]
    },
    {
      "cell_type": "code",
      "execution_count": null,
      "id": "52840b3d",
      "metadata": {
        "id": "52840b3d",
        "outputId": "cd99ba7c-06a9-43d1-b4c1-a8a7403dd3f6"
      },
      "outputs": [
        {
          "name": "stdout",
          "output_type": "stream",
          "text": [
            "Index(['MLS_ADDRESS', 'NAME', 'POSTALCODE', 'MLS_ADDRESS_Split',\n",
            "       'AddressNumber', 'StreetName', 'StreetNamePostType', 'OccupancyType',\n",
            "       'OccupancyIdentifier', 'StreetNamePreDirectional',\n",
            "       'StreetNamePostDirectional', 'StreetNamePreType', 'PlaceName',\n",
            "       'StateName', 'ZipCode', 'BuildingName', 'USPSBoxGroupType'],\n",
            "      dtype='object')\n",
            "StreetNamePreDirectional:\n",
            "[nan 'w' 'e' 'west' 's' 'n' 'east' 'w w']\n",
            "StreetNamePostType:\n",
            "['st' 'blvd' 'ave' 'pl' 'park' nan 'plz' 'dr' 'row' 'ter' 'ln' 'avenue'\n",
            " 'phh' 'ct' 'street' 'cres' 'cir' 'gdn' 'sq' 'rd']\n",
            "OccupancyType:\n",
            "['apt' nan 'fl' 'unit' 'ph' 'ste' 'rm' 'frnt' 'ofc' 'roof']\n",
            "StreetNamePostDirectional:\n",
            "[nan 'n' 'w' 's' 'e' 'west']\n"
          ]
        }
      ],
      "source": [
        "print(MLS_ADDRESS_final.columns)\n",
        "abbr_list = ['StreetNamePreDirectional','StreetNamePostType',\n",
        "             'OccupancyType','StreetNamePostDirectional']\n",
        "for col in abbr_list:\n",
        "    print(f'{col}:\\n'+ f'{MLS_ADDRESS_final[col].unique()}') "
      ]
    },
    {
      "cell_type": "code",
      "execution_count": null,
      "id": "f6f4e3e5",
      "metadata": {
        "id": "f6f4e3e5"
      },
      "outputs": [],
      "source": [
        "df = pd.read_csv('suffix_abbreviations_converted.csv')\n",
        "StreetNamePostType_dict = dict(zip(df.common_name, df.abbr))"
      ]
    },
    {
      "cell_type": "code",
      "execution_count": null,
      "id": "2991fd0f",
      "metadata": {
        "id": "2991fd0f",
        "outputId": "5aac210a-6b73-4396-f0a3-8984e14bc1ee"
      },
      "outputs": [
        {
          "data": {
            "text/plain": [
              "{'allee': 'aly',\n",
              " 'alley': 'aly',\n",
              " 'ally': 'aly',\n",
              " 'aly': 'aly',\n",
              " 'anex': 'anx',\n",
              " 'annex': 'anx',\n",
              " 'annx': 'anx',\n",
              " 'anx': 'anx',\n",
              " 'arc': 'arc',\n",
              " 'arcade': 'arc',\n",
              " 'av': 'ave',\n",
              " 'ave': 'ave',\n",
              " 'aven': 'ave',\n",
              " 'avenu': 'ave',\n",
              " 'avenue': 'ave',\n",
              " 'avn': 'ave',\n",
              " 'avnue': 'ave',\n",
              " 'bayoo': 'byu',\n",
              " 'bayou': 'byu',\n",
              " 'bch': 'bch',\n",
              " 'beach': 'bch',\n",
              " 'bend': 'bnd',\n",
              " 'bnd': 'bnd',\n",
              " 'blf': 'blf',\n",
              " 'bluf': 'blf',\n",
              " 'bluff': 'blf',\n",
              " 'bluffs': 'blfs',\n",
              " 'bot': 'btm',\n",
              " 'btm': 'btm',\n",
              " 'bottm': 'btm',\n",
              " 'bottom': 'btm',\n",
              " 'blvd': 'blvd',\n",
              " 'boul': 'blvd',\n",
              " 'boulevard': 'blvd',\n",
              " 'boulv': 'blvd',\n",
              " 'br': 'br',\n",
              " 'brnch': 'br',\n",
              " 'branch': 'br',\n",
              " 'brdge': 'brg',\n",
              " 'brg': 'brg',\n",
              " 'bridge': 'brg',\n",
              " 'brk': 'brk',\n",
              " 'brook': 'brk',\n",
              " 'brooks': 'brks',\n",
              " 'burg': 'bg',\n",
              " 'burgs': 'bgs',\n",
              " 'byp': 'byp',\n",
              " 'bypa': 'byp',\n",
              " 'bypas': 'byp',\n",
              " 'bypass': 'byp',\n",
              " 'byps': 'byp',\n",
              " 'camp': 'cp',\n",
              " 'cp': 'cp',\n",
              " 'cmp': 'cp',\n",
              " 'canyn': 'cyn',\n",
              " 'canyon': 'cyn',\n",
              " 'cnyn': 'cyn',\n",
              " 'cape': 'cpe',\n",
              " 'cpe': 'cpe',\n",
              " 'causeway': 'cswy',\n",
              " 'causwa': 'cswy',\n",
              " 'cswy': 'cswy',\n",
              " 'cen': 'ctr',\n",
              " 'cent': 'ctr',\n",
              " 'center': 'ctr',\n",
              " 'centr': 'ctr',\n",
              " 'centre': 'ctr',\n",
              " 'cnter': 'ctr',\n",
              " 'cntr': 'ctr',\n",
              " 'ctr': 'ctr',\n",
              " 'centers': 'ctrs',\n",
              " 'cir': 'cir',\n",
              " 'circ': 'cir',\n",
              " 'circl': 'cir',\n",
              " 'circle': 'cir',\n",
              " 'crcl': 'cir',\n",
              " 'crcle': 'cir',\n",
              " 'circles': 'cirs',\n",
              " 'clf': 'clf',\n",
              " 'cliff': 'clf',\n",
              " 'clfs': 'clfs',\n",
              " 'cliffs': 'clfs',\n",
              " 'clb': 'clb',\n",
              " 'club': 'clb',\n",
              " 'common': 'cmn',\n",
              " 'commons': 'cmns',\n",
              " 'cor': 'cor',\n",
              " 'corner': 'cor',\n",
              " 'corners': 'cors',\n",
              " 'cors': 'cors',\n",
              " 'course': 'crse',\n",
              " 'crse': 'crse',\n",
              " 'court': 'ct',\n",
              " 'ct': 'ct',\n",
              " 'courts': 'cts',\n",
              " 'cts': 'cts',\n",
              " 'cove': 'cv',\n",
              " 'cv': 'cv',\n",
              " 'coves': 'cvs',\n",
              " 'creek': 'crk',\n",
              " 'crk': 'crk',\n",
              " 'crescent': 'cres',\n",
              " 'cres': 'cres',\n",
              " 'crsent': 'cres',\n",
              " 'crsnt': 'cres',\n",
              " 'crest': 'crst',\n",
              " 'crossing': 'xing',\n",
              " 'crssng': 'xing',\n",
              " 'xing': 'xing',\n",
              " 'crossroad': 'xrd',\n",
              " 'crossroads': 'xrds',\n",
              " 'curve': 'curv',\n",
              " 'dale': 'dl',\n",
              " 'dl': 'dl',\n",
              " 'dam': 'dm',\n",
              " 'dm': 'dm',\n",
              " 'div': 'dv',\n",
              " 'divide': 'dv',\n",
              " 'dv': 'dv',\n",
              " 'dvd': 'dv',\n",
              " 'dr': 'dr',\n",
              " 'driv': 'dr',\n",
              " 'drive': 'dr',\n",
              " 'drv': 'dr',\n",
              " 'drives': 'drs',\n",
              " 'est': 'est',\n",
              " 'estate': 'est',\n",
              " 'estates': 'ests',\n",
              " 'ests': 'ests',\n",
              " 'exp': 'expy',\n",
              " 'expr': 'expy',\n",
              " 'express': 'expy',\n",
              " 'expressway': 'expy',\n",
              " 'expw': 'expy',\n",
              " 'expy': 'expy',\n",
              " 'ext': 'ext',\n",
              " 'extension': 'ext',\n",
              " 'extn': 'ext',\n",
              " 'extnsn': 'ext',\n",
              " 'exts': 'exts',\n",
              " 'fall': 'fall',\n",
              " 'falls': 'fls',\n",
              " 'fls': 'fls',\n",
              " 'ferry': 'fry',\n",
              " 'frry': 'fry',\n",
              " 'fry': 'fry',\n",
              " 'field': 'fld',\n",
              " 'fld': 'fld',\n",
              " 'fields': 'flds',\n",
              " 'flds': 'flds',\n",
              " 'flat': 'flt',\n",
              " 'flt': 'flt',\n",
              " 'flats': 'flts',\n",
              " 'flts': 'flts',\n",
              " 'ford': 'frd',\n",
              " 'frd': 'frd',\n",
              " 'fords': 'frds',\n",
              " 'forest': 'frst',\n",
              " 'forests': 'frst',\n",
              " 'frst': 'frst',\n",
              " 'forg': 'frg',\n",
              " 'forge': 'frg',\n",
              " 'frg': 'frg',\n",
              " 'forges': 'frgs',\n",
              " 'fork': 'frk',\n",
              " 'frk': 'frk',\n",
              " 'forks': 'frks',\n",
              " 'frks': 'frks',\n",
              " 'fort': 'ft',\n",
              " 'frt': 'ft',\n",
              " 'ft': 'ft',\n",
              " 'freeway': 'fwy',\n",
              " 'freewy': 'fwy',\n",
              " 'frway': 'fwy',\n",
              " 'frwy': 'fwy',\n",
              " 'fwy': 'fwy',\n",
              " 'garden': 'gdn',\n",
              " 'gardn': 'gdn',\n",
              " 'grden': 'gdn',\n",
              " 'grdn': 'gdn',\n",
              " 'gardens': 'gdns',\n",
              " 'gdns': 'gdns',\n",
              " 'grdns': 'gdns',\n",
              " 'gateway': 'gtwy',\n",
              " 'gatewy': 'gtwy',\n",
              " 'gatway': 'gtwy',\n",
              " 'gtway': 'gtwy',\n",
              " 'gtwy': 'gtwy',\n",
              " 'glen': 'gln',\n",
              " 'gln': 'gln',\n",
              " 'glens': 'glns',\n",
              " 'green': 'grn',\n",
              " 'grn': 'grn',\n",
              " 'greens': 'grns',\n",
              " 'grov': 'grv',\n",
              " 'grove': 'grv',\n",
              " 'grv': 'grv',\n",
              " 'groves': 'grvs',\n",
              " 'harb': 'hbr',\n",
              " 'harbor': 'hbr',\n",
              " 'harbr': 'hbr',\n",
              " 'hbr': 'hbr',\n",
              " 'hrbor': 'hbr',\n",
              " 'harbors': 'hbrs',\n",
              " 'haven': 'hvn',\n",
              " 'hvn': 'hvn',\n",
              " 'ht': 'hts',\n",
              " 'hts': 'hts',\n",
              " 'highway': 'hwy',\n",
              " 'highwy': 'hwy',\n",
              " 'hiway': 'hwy',\n",
              " 'hiwy': 'hwy',\n",
              " 'hway': 'hwy',\n",
              " 'hwy': 'hwy',\n",
              " 'hill': 'hl',\n",
              " 'hl': 'hl',\n",
              " 'hills': 'hls',\n",
              " 'hls': 'hls',\n",
              " 'hllw': 'holw',\n",
              " 'hollow': 'holw',\n",
              " 'hollows': 'holw',\n",
              " 'holw': 'holw',\n",
              " 'holws': 'holw',\n",
              " 'inlt': 'inlt',\n",
              " 'is': 'is',\n",
              " 'island': 'is',\n",
              " 'islnd': 'is',\n",
              " 'islands': 'iss',\n",
              " 'islnds': 'iss',\n",
              " 'iss': 'iss',\n",
              " 'isle': 'isle',\n",
              " 'isles': 'isle',\n",
              " 'jct': 'jct',\n",
              " 'jction': 'jct',\n",
              " 'jctn': 'jct',\n",
              " 'junction': 'jct',\n",
              " 'junctn': 'jct',\n",
              " 'juncton': 'jct',\n",
              " 'jctns': 'jcts',\n",
              " 'jcts': 'jcts',\n",
              " 'junctions': 'jcts',\n",
              " 'key': 'ky',\n",
              " 'ky': 'ky',\n",
              " 'keys': 'kys',\n",
              " 'kys': 'kys',\n",
              " 'knl': 'knl',\n",
              " 'knol': 'knl',\n",
              " 'knoll': 'knl',\n",
              " 'knls': 'knls',\n",
              " 'knolls': 'knls',\n",
              " 'lk': 'lk',\n",
              " 'lake': 'lk',\n",
              " 'lks': 'lks',\n",
              " 'lakes': 'lks',\n",
              " 'land': 'land',\n",
              " 'landing': 'lndg',\n",
              " 'lndg': 'lndg',\n",
              " 'lndng': 'lndg',\n",
              " 'lane': 'ln',\n",
              " 'ln': 'ln',\n",
              " 'lgt': 'lgt',\n",
              " 'light': 'lgt',\n",
              " 'lights': 'lgts',\n",
              " 'lf': 'lf',\n",
              " 'loaf': 'lf',\n",
              " 'lck': 'lck',\n",
              " 'lock': 'lck',\n",
              " 'lcks': 'lcks',\n",
              " 'locks': 'lcks',\n",
              " 'ldg': 'ldg',\n",
              " 'ldge': 'ldg',\n",
              " 'lodg': 'ldg',\n",
              " 'lodge': 'ldg',\n",
              " 'loop': 'loop',\n",
              " 'loops': 'loop',\n",
              " 'mall': 'mall',\n",
              " 'mnr': 'mnr',\n",
              " 'manor': 'mnr',\n",
              " 'manors': 'mnrs',\n",
              " 'mnrs': 'mnrs',\n",
              " 'meadow': 'mdw',\n",
              " 'mdw': 'mdws',\n",
              " 'mdws': 'mdws',\n",
              " 'meadows': 'mdws',\n",
              " 'medows': 'mdws',\n",
              " 'mews': 'mews',\n",
              " 'mill': 'ml',\n",
              " 'mills': 'mls',\n",
              " 'missn': 'msn',\n",
              " 'mssn': 'msn',\n",
              " 'motorway': 'mtwy',\n",
              " 'mnt': 'mt',\n",
              " 'mt': 'mt',\n",
              " 'mount': 'mt',\n",
              " 'mntain': 'mtn',\n",
              " 'mntn': 'mtn',\n",
              " 'mountain': 'mtn',\n",
              " 'mountin': 'mtn',\n",
              " 'mtin': 'mtn',\n",
              " 'mtn': 'mtn',\n",
              " 'mntns': 'mtns',\n",
              " 'mountains': 'mtns',\n",
              " 'nck': 'nck',\n",
              " 'neck': 'nck',\n",
              " 'orch': 'orch',\n",
              " 'orchard': 'orch',\n",
              " 'orchrd': 'orch',\n",
              " 'oval': 'oval',\n",
              " 'ovl': 'oval',\n",
              " 'overpass': 'opas',\n",
              " 'park': 'park',\n",
              " 'prk': 'park',\n",
              " 'parks': 'park',\n",
              " 'parkway': 'pkwy',\n",
              " 'parkwy': 'pkwy',\n",
              " 'pkway': 'pkwy',\n",
              " 'pkwy': 'pkwy',\n",
              " 'pky': 'pkwy',\n",
              " 'parkways': 'pkwy',\n",
              " 'pkwys': 'pkwy',\n",
              " 'pass': 'pass',\n",
              " 'passage': 'psge',\n",
              " 'path': 'path',\n",
              " 'paths': 'path',\n",
              " 'pike': 'pike',\n",
              " 'pikes': 'pike',\n",
              " 'pine': 'pne',\n",
              " 'pines': 'pnes',\n",
              " 'pnes': 'pnes',\n",
              " 'pl': 'pl',\n",
              " 'plain': 'pln',\n",
              " 'pln': 'pln',\n",
              " 'plains': 'plns',\n",
              " 'plns': 'plns',\n",
              " 'plaza': 'plz',\n",
              " 'plz': 'plz',\n",
              " 'plza': 'plz',\n",
              " 'point': 'pt',\n",
              " 'pt': 'pt',\n",
              " 'points': 'pts',\n",
              " 'pts': 'pts',\n",
              " 'port': 'prt',\n",
              " 'prt': 'prt',\n",
              " 'ports': 'prts',\n",
              " 'prts': 'prts',\n",
              " 'pr': 'pr',\n",
              " 'prairie': 'pr',\n",
              " 'prr': 'pr',\n",
              " 'rad': 'radl',\n",
              " 'radial': 'radl',\n",
              " 'radiel': 'radl',\n",
              " 'radl': 'radl',\n",
              " 'ramp': 'ramp',\n",
              " 'ranch': 'rnch',\n",
              " 'ranches': 'rnch',\n",
              " 'rnch': 'rnch',\n",
              " 'rnchs': 'rnch',\n",
              " 'rapid': 'rpd',\n",
              " 'rpd': 'rpd',\n",
              " 'rapids': 'rpds',\n",
              " 'rpds': 'rpds',\n",
              " 'rest': 'rst',\n",
              " 'rst': 'rst',\n",
              " 'rdg': 'rdg',\n",
              " 'rdge': 'rdg',\n",
              " 'ridge': 'rdg',\n",
              " 'rdgs': 'rdgs',\n",
              " 'ridges': 'rdgs',\n",
              " 'riv': 'riv',\n",
              " 'river': 'riv',\n",
              " 'rvr': 'riv',\n",
              " 'rivr': 'riv',\n",
              " 'rd': 'rd',\n",
              " 'road': 'rd',\n",
              " 'roads': 'rds',\n",
              " 'rds': 'rds',\n",
              " 'route': 'rte',\n",
              " 'row': 'row',\n",
              " 'rue': 'rue',\n",
              " 'run': 'run',\n",
              " 'shl': 'shl',\n",
              " 'shoal': 'shl',\n",
              " 'shls': 'shls',\n",
              " 'shoals': 'shls',\n",
              " 'shoar': 'shr',\n",
              " 'shore': 'shr',\n",
              " 'shr': 'shr',\n",
              " 'shoars': 'shrs',\n",
              " 'shores': 'shrs',\n",
              " 'shrs': 'shrs',\n",
              " 'skyway': 'skwy',\n",
              " 'spg': 'spg',\n",
              " 'spng': 'spg',\n",
              " 'spring': 'spg',\n",
              " 'sprng': 'spg',\n",
              " 'spgs': 'spgs',\n",
              " 'spngs': 'spgs',\n",
              " 'springs': 'spgs',\n",
              " 'sprngs': 'spgs',\n",
              " 'spur': 'spur',\n",
              " 'spurs': 'spur',\n",
              " 'sq': 'sq',\n",
              " 'sqr': 'sq',\n",
              " 'sqre': 'sq',\n",
              " 'squ': 'sq',\n",
              " 'square': 'sq',\n",
              " 'sqrs': 'sqs',\n",
              " 'squares': 'sqs',\n",
              " 'sta': 'sta',\n",
              " 'station': 'sta',\n",
              " 'statn': 'sta',\n",
              " 'stn': 'sta',\n",
              " 'stra': 'stra',\n",
              " 'strav': 'stra',\n",
              " 'straven': 'stra',\n",
              " 'stravenue': 'stra',\n",
              " 'stravn': 'stra',\n",
              " 'strvn': 'stra',\n",
              " 'strvnue': 'stra',\n",
              " 'stream': 'strm',\n",
              " 'streme': 'strm',\n",
              " 'strm': 'strm',\n",
              " 'street': 'st',\n",
              " 'strt': 'st',\n",
              " 'st': 'st',\n",
              " 'str': 'st',\n",
              " 'streets': 'sts',\n",
              " 'smt': 'smt',\n",
              " 'sumit': 'smt',\n",
              " 'sumitt': 'smt',\n",
              " 'summit': 'smt',\n",
              " 'ter': 'ter',\n",
              " 'terr': 'ter',\n",
              " 'terrace': 'ter',\n",
              " 'throughway': 'trwy',\n",
              " 'trace': 'trce',\n",
              " 'traces': 'trce',\n",
              " 'trce': 'trce',\n",
              " 'track': 'trak',\n",
              " 'tracks': 'trak',\n",
              " 'trak': 'trak',\n",
              " 'trk': 'trak',\n",
              " 'trks': 'trak',\n",
              " 'trafficway': 'trfy',\n",
              " 'trail': 'trl',\n",
              " 'trails': 'trl',\n",
              " 'trl': 'trl',\n",
              " 'trls': 'trl',\n",
              " 'trailer': 'trlr',\n",
              " 'trlr': 'trlr',\n",
              " 'trlrs': 'trlr',\n",
              " 'tunel': 'tunl',\n",
              " 'tunl': 'tunl',\n",
              " 'tunls': 'tunl',\n",
              " 'tunnel': 'tunl',\n",
              " 'tunnels': 'tunl',\n",
              " 'tunnl': 'tunl',\n",
              " 'trnpk': 'tpke',\n",
              " 'turnpike': 'tpke',\n",
              " 'turnpk': 'tpke',\n",
              " 'underpass': 'upas',\n",
              " 'un': 'un',\n",
              " 'union': 'un',\n",
              " 'unions': 'uns',\n",
              " 'valley': 'vly',\n",
              " 'vally': 'vly',\n",
              " 'vlly': 'vly',\n",
              " 'vly': 'vly',\n",
              " 'valleys': 'vlys',\n",
              " 'vlys': 'vlys',\n",
              " 'vdct': 'via',\n",
              " 'via': 'via',\n",
              " 'viadct': 'via',\n",
              " 'viaduct': 'via',\n",
              " 'view': 'vw',\n",
              " 'vw': 'vw',\n",
              " 'views': 'vws',\n",
              " 'vws': 'vws',\n",
              " 'vill': 'vlg',\n",
              " 'villag': 'vlg',\n",
              " 'village': 'vlg',\n",
              " 'villg': 'vlg',\n",
              " 'villiage': 'vlg',\n",
              " 'vlg': 'vlg',\n",
              " 'villages': 'vlgs',\n",
              " 'vlgs': 'vlgs',\n",
              " 'ville': 'vl',\n",
              " 'vl': 'vl',\n",
              " 'vis': 'vis',\n",
              " 'vist': 'vis',\n",
              " 'vista': 'vis',\n",
              " 'vst': 'vis',\n",
              " 'vsta': 'vis',\n",
              " 'walk': 'walk',\n",
              " 'walks': 'walk',\n",
              " 'wall': 'wall',\n",
              " 'wy': 'way',\n",
              " 'way': 'way',\n",
              " 'ways': 'ways',\n",
              " 'well': 'wl',\n",
              " 'wells': 'wls',\n",
              " 'wls': 'wls'}"
            ]
          },
          "execution_count": 24,
          "metadata": {},
          "output_type": "execute_result"
        }
      ],
      "source": [
        "StreetNamePostType_dict"
      ]
    },
    {
      "cell_type": "code",
      "execution_count": null,
      "id": "fc925ce4",
      "metadata": {
        "id": "fc925ce4"
      },
      "outputs": [],
      "source": [
        "def get_str_replace(MLS_ADDRESS_final,DT_ADDRESS_final):\n",
        "    #need to change file path\n",
        "    df = pd.read_csv('/Users/yiweihou/Downloads/Roc360/suffix_abbreviations_converted.csv')\n",
        "    StreetNamePostType_dict = dict(zip(df.common_name, df.abbr))\n",
        "    StreetNameDirectional_dict = {'west': 'w', 'south': 's', 'north': 'n','east': 'e'}\n",
        "\n",
        "    DT_ADDRESS_final.replace({\"StreetNamePreDirectional\": StreetNameDirectional_dict},inplace=True)\n",
        "    DT_ADDRESS_final.replace({\"StreetNamePostType\": StreetNamePostType_dict},inplace=True)\n",
        "\n",
        "    MLS_ADDRESS_final.replace({\"StreetNamePreDirectional\": StreetNameDirectional_dict},inplace=True)\n",
        "    MLS_ADDRESS_final.replace({\"StreetNamePostType\": StreetNamePostType_dict},inplace=True)\n",
        "    return MLS_ADDRESS_final,DT_ADDRESS_final"
      ]
    },
    {
      "cell_type": "code",
      "execution_count": null,
      "id": "a64d867c",
      "metadata": {
        "id": "a64d867c"
      },
      "outputs": [],
      "source": [
        "# convert address format (direction, abbreviation)\n",
        "MLS_ADDRESS_final,DT_ADDRESS_final=get_str_replace(MLS_ADDRESS_final,DT_ADDRESS_final)"
      ]
    },
    {
      "cell_type": "code",
      "execution_count": null,
      "id": "205e4a79",
      "metadata": {
        "id": "205e4a79",
        "outputId": "9a62823e-823d-4057-86cb-10920ea41745"
      },
      "outputs": [
        {
          "name": "stdout",
          "output_type": "stream",
          "text": [
            "[nan 'w' 'e' 's' 'n' 'w w']\n",
            "['e' nan 'w' 'n' 's']\n",
            "['st' 'blvd' 'ave' 'pl' 'park' nan 'plz' 'dr' 'row' 'ter' 'ln' 'phh' 'ct'\n",
            " 'cres' 'cir' 'gdn' 'sq' 'rd']\n",
            "['st' 'ave' 'blvd' nan 'plz' 'pl' 'dr' 'park' 'row' 'hl' 'ter' 'sq' 'ln'\n",
            " 'cir' 'gdn' 'sta' 'ct' 'vlg' 'br' 'btf' 'phj']\n"
          ]
        }
      ],
      "source": [
        "print(MLS_ADDRESS_final['StreetNamePreDirectional'].unique())\n",
        "print(DT_ADDRESS_final['StreetNamePreDirectional'].unique())\n",
        "print(MLS_ADDRESS_final['StreetNamePostType'].unique())\n",
        "print(DT_ADDRESS_final['StreetNamePostType'].unique())"
      ]
    },
    {
      "cell_type": "code",
      "execution_count": null,
      "id": "befa67c8",
      "metadata": {
        "id": "befa67c8",
        "outputId": "a28ee380-e390-43d8-c912-3c9f5dc27fd1"
      },
      "outputs": [
        {
          "data": {
            "text/html": [
              "<div>\n",
              "<style scoped>\n",
              "    .dataframe tbody tr th:only-of-type {\n",
              "        vertical-align: middle;\n",
              "    }\n",
              "\n",
              "    .dataframe tbody tr th {\n",
              "        vertical-align: top;\n",
              "    }\n",
              "\n",
              "    .dataframe thead th {\n",
              "        text-align: right;\n",
              "    }\n",
              "</style>\n",
              "<table border=\"1\" class=\"dataframe\">\n",
              "  <thead>\n",
              "    <tr style=\"text-align: right;\">\n",
              "      <th></th>\n",
              "      <th>DATATREE_ADDRESS</th>\n",
              "      <th>OWNERNAME1FULL</th>\n",
              "      <th>OWNERNAME2FULL</th>\n",
              "      <th>SITUSZIP5</th>\n",
              "      <th>DATATREE_ADDRESS_Split</th>\n",
              "      <th>AddressNumber</th>\n",
              "      <th>StreetNamePreDirectional</th>\n",
              "      <th>StreetName</th>\n",
              "      <th>StreetNamePostType</th>\n",
              "      <th>OccupancyType</th>\n",
              "      <th>OccupancyIdentifier</th>\n",
              "      <th>StreetNamePostDirectional</th>\n",
              "      <th>StreetNamePreType</th>\n",
              "      <th>PlaceName</th>\n",
              "      <th>StateName</th>\n",
              "      <th>ZipCode</th>\n",
              "      <th>SubaddressIdentifier</th>\n",
              "      <th>StreetNamePreModifier</th>\n",
              "    </tr>\n",
              "  </thead>\n",
              "  <tbody>\n",
              "  </tbody>\n",
              "</table>\n",
              "</div>"
            ],
            "text/plain": [
              "Empty DataFrame\n",
              "Columns: [DATATREE_ADDRESS, OWNERNAME1FULL, OWNERNAME2FULL, SITUSZIP5, DATATREE_ADDRESS_Split, AddressNumber, StreetNamePreDirectional, StreetName, StreetNamePostType, OccupancyType, OccupancyIdentifier, StreetNamePostDirectional, StreetNamePreType, PlaceName, StateName, ZipCode, SubaddressIdentifier, StreetNamePreModifier]\n",
              "Index: []"
            ]
          },
          "execution_count": 28,
          "metadata": {},
          "output_type": "execute_result"
        }
      ],
      "source": [
        "DT_ADDRESS_final[DT_ADDRESS_final['StreetNamePreDirectional'] == '62']"
      ]
    },
    {
      "cell_type": "markdown",
      "id": "71300f98",
      "metadata": {
        "id": "71300f98"
      },
      "source": [
        "- Merge"
      ]
    },
    {
      "cell_type": "code",
      "execution_count": null,
      "id": "3dc5e6ae",
      "metadata": {
        "id": "3dc5e6ae"
      },
      "outputs": [],
      "source": [
        "df_merge_node2 = pd.merge(DT_ADDRESS_final, MLS_ADDRESS_final,\n",
        "                    how = 'left',\n",
        "                    left_on = ['AddressNumber', 'StreetName','StreetNamePreDirectional','StreetNamePostType',\n",
        "               'OccupancyIdentifier','OccupancyType', 'SITUSZIP5'],\n",
        "                    right_on = ['AddressNumber', 'StreetName','StreetNamePreDirectional','StreetNamePostType',\n",
        "               'OccupancyIdentifier','OccupancyType', 'POSTALCODE'])"
      ]
    },
    {
      "cell_type": "code",
      "execution_count": null,
      "id": "0602525f",
      "metadata": {
        "id": "0602525f",
        "outputId": "8967e903-2a4a-477a-b0c2-fc5cf25b28f4"
      },
      "outputs": [
        {
          "data": {
            "text/plain": [
              "10947"
            ]
          },
          "execution_count": 30,
          "metadata": {},
          "output_type": "execute_result"
        }
      ],
      "source": [
        "MLS_matched_address.extend(df_merge_node2[df_merge_node2['MLS_ADDRESS'].notnull()]['MLS_ADDRESS'].unique())\n",
        "MLS_matched_address = list(set(MLS_matched_address))\n",
        "len(MLS_matched_address)"
      ]
    },
    {
      "cell_type": "code",
      "execution_count": null,
      "id": "4acc6b1f",
      "metadata": {
        "id": "4acc6b1f",
        "outputId": "2c231426-6a71-4954-fe45-b0e6c65b7eee"
      },
      "outputs": [
        {
          "data": {
            "text/plain": [
              "10958"
            ]
          },
          "execution_count": 31,
          "metadata": {},
          "output_type": "execute_result"
        }
      ],
      "source": [
        "DATATREE_matched_address.extend(df_merge_node2[df_merge_node2['MLS_ADDRESS'].notnull()]['DATATREE_ADDRESS'].unique())\n",
        "DATATREE_matched_address = list(set(DATATREE_matched_address))\n",
        "len(DATATREE_matched_address)"
      ]
    },
    {
      "cell_type": "code",
      "execution_count": null,
      "id": "157d2fbc",
      "metadata": {
        "id": "157d2fbc",
        "outputId": "746861d4-c876-4395-9b80-b7b1cde6ff49"
      },
      "outputs": [
        {
          "data": {
            "text/plain": [
              "0.03184998763474491"
            ]
          },
          "execution_count": 32,
          "metadata": {},
          "output_type": "execute_result"
        }
      ],
      "source": [
        "second_node_match = len(MLS_matched_address)\n",
        "second_node_match_ratio = second_node_match/base\n",
        "second_node_match_ratio"
      ]
    },
    {
      "cell_type": "code",
      "execution_count": null,
      "id": "81da2f5b",
      "metadata": {
        "id": "81da2f5b"
      },
      "outputs": [],
      "source": [
        "MLS_unmatched_node2 = MLS_ADDRESS_final[MLS_ADDRESS_final['MLS_ADDRESS'].apply(lambda x: x not in MLS_matched_address)]\n",
        "DATATREE_unmatched_node2 = DT_ADDRESS_final[DT_ADDRESS_final['DATATREE_ADDRESS'].apply(lambda x: x not in DATATREE_matched_address)]\n",
        "MLS_unmatched_node2.reset_index(inplace=True)\n",
        "DATATREE_unmatched_node2.reset_index(inplace=True)\n",
        "del MLS_unmatched_node2['index']\n",
        "del DATATREE_unmatched_node2['index']"
      ]
    },
    {
      "cell_type": "code",
      "execution_count": null,
      "id": "d247b915",
      "metadata": {
        "id": "d247b915"
      },
      "outputs": [],
      "source": []
    },
    {
      "cell_type": "markdown",
      "id": "0da64f07",
      "metadata": {
        "id": "0da64f07"
      },
      "source": [
        "# 4. Third Node - Match with names"
      ]
    },
    {
      "cell_type": "markdown",
      "id": "a29264a7",
      "metadata": {
        "id": "a29264a7"
      },
      "source": [
        "### 4.1 Name cleaning"
      ]
    },
    {
      "cell_type": "markdown",
      "id": "ae2ffb46",
      "metadata": {
        "id": "ae2ffb46"
      },
      "source": [
        "#### 4.1.1  remove punctuations"
      ]
    },
    {
      "cell_type": "code",
      "execution_count": null,
      "id": "b5a6fa81",
      "metadata": {
        "id": "b5a6fa81",
        "outputId": "920daa97-7ecc-4e0a-9613-43cdc3e6287d"
      },
      "outputs": [
        {
          "name": "stderr",
          "output_type": "stream",
          "text": [
            "/var/folders/z9/pk08smpj33v7qgj53df0jtmm0000gn/T/ipykernel_9626/4080080342.py:12: SettingWithCopyWarning: \n",
            "A value is trying to be set on a copy of a slice from a DataFrame.\n",
            "Try using .loc[row_indexer,col_indexer] = value instead\n",
            "\n",
            "See the caveats in the documentation: https://pandas.pydata.org/pandas-docs/stable/user_guide/indexing.html#returning-a-view-versus-a-copy\n",
            "  MLS_unmatched_node2['NAME'] = MLS_unmatched_node2['NAME'].apply(lambda x: remove_punct(x))\n",
            "/var/folders/z9/pk08smpj33v7qgj53df0jtmm0000gn/T/ipykernel_9626/4080080342.py:13: SettingWithCopyWarning: \n",
            "A value is trying to be set on a copy of a slice from a DataFrame.\n",
            "Try using .loc[row_indexer,col_indexer] = value instead\n",
            "\n",
            "See the caveats in the documentation: https://pandas.pydata.org/pandas-docs/stable/user_guide/indexing.html#returning-a-view-versus-a-copy\n",
            "  DATATREE_unmatched_node2['OWNERNAME1FULL'] = DATATREE_unmatched_node2['OWNERNAME1FULL'].apply(lambda x: remove_punct(x))\n",
            "/var/folders/z9/pk08smpj33v7qgj53df0jtmm0000gn/T/ipykernel_9626/4080080342.py:22: SettingWithCopyWarning: \n",
            "A value is trying to be set on a copy of a slice from a DataFrame.\n",
            "Try using .loc[row_indexer,col_indexer] = value instead\n",
            "\n",
            "See the caveats in the documentation: https://pandas.pydata.org/pandas-docs/stable/user_guide/indexing.html#returning-a-view-versus-a-copy\n",
            "  MLS_unmatched_node2['NAME'] = MLS_unmatched_node2['NAME'].apply(lambda x: conver_space(x))\n",
            "/var/folders/z9/pk08smpj33v7qgj53df0jtmm0000gn/T/ipykernel_9626/4080080342.py:23: SettingWithCopyWarning: \n",
            "A value is trying to be set on a copy of a slice from a DataFrame.\n",
            "Try using .loc[row_indexer,col_indexer] = value instead\n",
            "\n",
            "See the caveats in the documentation: https://pandas.pydata.org/pandas-docs/stable/user_guide/indexing.html#returning-a-view-versus-a-copy\n",
            "  DATATREE_unmatched_node2['OWNERNAME1FULL'] = DATATREE_unmatched_node2['OWNERNAME1FULL'].apply(lambda x: conver_space(x))\n"
          ]
        }
      ],
      "source": [
        "from string import punctuation\n",
        "import re\n",
        "# punctuation -> space\n",
        "def remove_punct(x):\n",
        "    remove_punctiuation = str.maketrans(punctuation, ' '*len(punctuation))\n",
        "    if x is not None:\n",
        "        x = str(x)\n",
        "        x = x.translate(remove_punctiuation)\n",
        "        return x\n",
        "    else:\n",
        "        return x\n",
        "MLS_unmatched_node2['NAME'] = MLS_unmatched_node2['NAME'].apply(lambda x: remove_punct(x))\n",
        "DATATREE_unmatched_node2['OWNERNAME1FULL'] = DATATREE_unmatched_node2['OWNERNAME1FULL'].apply(lambda x: remove_punct(x))\n",
        "# several spaces -> one space\n",
        "def conver_space(x):\n",
        "    if x is not None:\n",
        "        x = str(x)\n",
        "        x = re.sub(' +', ' ', x)\n",
        "        return x.strip()\n",
        "    else:\n",
        "        return x\n",
        "MLS_unmatched_node2['NAME'] = MLS_unmatched_node2['NAME'].apply(lambda x: conver_space(x))\n",
        "DATATREE_unmatched_node2['OWNERNAME1FULL'] = DATATREE_unmatched_node2['OWNERNAME1FULL'].apply(lambda x: conver_space(x))\n"
      ]
    },
    {
      "cell_type": "markdown",
      "id": "1e1aaccd",
      "metadata": {
        "id": "1e1aaccd"
      },
      "source": [
        "#### 4.1.2 Deal with corporation related names"
      ]
    },
    {
      "cell_type": "markdown",
      "id": "599466ea",
      "metadata": {
        "id": "599466ea"
      },
      "source": [
        "- Compute the frequency of the words"
      ]
    },
    {
      "cell_type": "code",
      "execution_count": null,
      "id": "2ff68133",
      "metadata": {
        "id": "2ff68133"
      },
      "outputs": [],
      "source": [
        "import nltk\n",
        "import matplotlib.pyplot as plt\n",
        "import numpy as np\n",
        "from nltk.corpus import stopwords\n",
        "\n",
        "def plot_top_stopwords_barchart(text):\n",
        "    stop=set(stopwords.words('english'))\n",
        "    \n",
        "    new = text.str.split()\n",
        "    new = new.values.tolist()\n",
        "    new = list(filter(None,new))\n",
        "\n",
        "    corpus=[word for i in new for word in i]\n",
        "    corpus=list(filter(lambda x: len(x) > 1,corpus))#longer than 1\n",
        "    \n",
        "    \n",
        "    from collections import defaultdict\n",
        "    dic=defaultdict(int)\n",
        "    for word in corpus:\n",
        "        if word in stop:\n",
        "            dic[word]+=1\n",
        "            \n",
        "    top=sorted(dic.items(), key=lambda x:x[1],reverse=True)[:10] \n",
        "    x,y=zip(*top)\n",
        "    plt.bar(x,y)"
      ]
    },
    {
      "cell_type": "code",
      "execution_count": null,
      "id": "488a5fc1",
      "metadata": {
        "id": "488a5fc1"
      },
      "outputs": [],
      "source": [
        "import seaborn as sns\n",
        "from nltk.corpus import stopwords\n",
        "from collections import  Counter\n",
        "\n",
        "def plot_top_non_stopwords_barchart(text):\n",
        "    stop=set(stopwords.words('english'))\n",
        "    \n",
        "    new= text.str.split()\n",
        "    new=new.values.tolist()\n",
        "    new = list(filter(None,new))\n",
        "\n",
        "    corpus=[word for i in new for word in i]\n",
        "    corpus=list(filter(lambda x: len(x) > 1,corpus))#longer than 1\n",
        "\n",
        "    counter=Counter(corpus)\n",
        "    most=counter.most_common()\n",
        "    x, y=[], []\n",
        "    for word,count in most[:50]:\n",
        "        if (word not in stop):\n",
        "            x.append(word)\n",
        "            y.append(count)\n",
        "    plt.rcParams['figure.figsize']=10,10\n",
        "    sns.barplot(x=y,y=x)"
      ]
    },
    {
      "cell_type": "code",
      "execution_count": null,
      "id": "b2b9830d",
      "metadata": {
        "id": "b2b9830d",
        "outputId": "9ea38a92-f6af-433d-9d36-4c9a34142ff6"
      },
      "outputs": [
        {
          "data": {
            "image/png": "[encoded data removed]",
            "text/plain": [
              "<Figure size 720x720 with 1 Axes>"
            ]
          },
          "metadata": {
            "needs_background": "light"
          },
          "output_type": "display_data"
        }
      ],
      "source": [
        "plot_top_non_stopwords_barchart(DT_ADDRESS_final['OWNERNAME1FULL'])"
      ]
    },
    {
      "cell_type": "code",
      "execution_count": null,
      "id": "601348e6",
      "metadata": {
        "id": "601348e6",
        "outputId": "cd7261d0-f79b-4270-81b0-9f51280952c0"
      },
      "outputs": [
        {
          "data": {
            "image/png": "[encoded data removed]",
            "text/plain": [
              "<Figure size 720x720 with 1 Axes>"
            ]
          },
          "metadata": {
            "needs_background": "light"
          },
          "output_type": "display_data"
        }
      ],
      "source": [
        "plot_top_non_stopwords_barchart(MLS_ADDRESS_final['NAME'])"
      ]
    },
    {
      "cell_type": "code",
      "execution_count": null,
      "id": "1d11ad8a",
      "metadata": {
        "id": "1d11ad8a"
      },
      "outputs": [],
      "source": [
        "possible_word_list_DT = ['corp', 'llc', 'realty', 'trust', 'inc', 'associates', 'co', 'holdings', 'owner',\n",
        "                      'properties', 'trustee', 'housing', 'family', 'owners', 'development']\n",
        "possible_word_list_MLS = ['corp', 'owners', 'llc', 'inc', 'owner', 'realty', 'co', 'tenants', 'agent', 'condo',\n",
        "                         'house', 'homes', 'housing', 'record', 'estate', 'servicing', 'cor', 'condonminium',\n",
        "                         'owned', 'portfolio', 'owne', 'trust']\n",
        "other = ['ltd']"
      ]
    },
    {
      "cell_type": "markdown",
      "id": "18a248ea",
      "metadata": {
        "id": "18a248ea"
      },
      "source": [
        "- Replace the words related to corporations"
      ]
    },
    {
      "cell_type": "code",
      "execution_count": null,
      "id": "9502fed5",
      "metadata": {
        "id": "9502fed5",
        "outputId": "b68ddb64-2c85-44e8-fe18-4b67741a964e"
      },
      "outputs": [
        {
          "name": "stderr",
          "output_type": "stream",
          "text": [
            "/Users/yiweihou/opt/anaconda3/lib/python3.9/site-packages/pandas/core/indexing.py:1951: SettingWithCopyWarning: \n",
            "A value is trying to be set on a copy of a slice from a DataFrame.\n",
            "Try using .loc[row_indexer,col_indexer] = value instead\n",
            "\n",
            "See the caveats in the documentation: https://pandas.pydata.org/pandas-docs/stable/user_guide/indexing.html#returning-a-view-versus-a-copy\n",
            "  self.obj[selected_item_labels] = value\n"
          ]
        }
      ],
      "source": [
        "# Use the words to find possible replacement in sheets\n",
        "# Incorpate - inc is kind of complicated, so no replacement\n",
        "replace_name_dict_complicated = {'limited liability company': 'llc', \n",
        "                                 'company limited partnership': 'company ltd partnership', \n",
        "                                 'co limited partnership': 'co ltd partnership', 'company ltd': 'co ltd',\n",
        "                                 'associates': 'assoc', 'limited liability partnerships': 'llp',\n",
        "                                 'properties': 'prop', 'association': 'assn', 'estate': 'est',\n",
        "                                 'condonminium': 'condo'}\n",
        "\n",
        "MLS_unmatched_node2.replace({\"NAME\": replace_name_dict_complicated},inplace=True)\n",
        "DATATREE_unmatched_node2.replace({\"OWNERNAME1FULL\": replace_name_dict_complicated},inplace=True)"
      ]
    },
    {
      "cell_type": "code",
      "execution_count": null,
      "id": "b882d8c4",
      "metadata": {
        "id": "b882d8c4"
      },
      "outputs": [],
      "source": [
        "replace_name_dict_tail = {'incorporated': 'inc', 'corporation': 'corp', 'authority': 'a'}\n",
        "def replace_corp(x, replace_dict):\n",
        "    if x is None:\n",
        "        return x\n",
        "    import re\n",
        "    for key, value in replace_dict.items():\n",
        "        key = '(.*) ' + key + '$'\n",
        "        if re.match(key, x):\n",
        "            return re.search(key, x).group(1) + ' ' + value\n",
        "    return x"
      ]
    },
    {
      "cell_type": "code",
      "execution_count": null,
      "id": "9b98ceb5",
      "metadata": {
        "id": "9b98ceb5",
        "outputId": "0207fb98-4ff9-4eec-982d-d5ee2a7ef73a"
      },
      "outputs": [
        {
          "name": "stderr",
          "output_type": "stream",
          "text": [
            "/var/folders/z9/pk08smpj33v7qgj53df0jtmm0000gn/T/ipykernel_9626/2626558335.py:1: SettingWithCopyWarning: \n",
            "A value is trying to be set on a copy of a slice from a DataFrame.\n",
            "Try using .loc[row_indexer,col_indexer] = value instead\n",
            "\n",
            "See the caveats in the documentation: https://pandas.pydata.org/pandas-docs/stable/user_guide/indexing.html#returning-a-view-versus-a-copy\n",
            "  MLS_unmatched_node2['NAME'] = MLS_unmatched_node2['NAME'].apply(lambda x: replace_corp(x, replace_name_dict_tail))\n",
            "/var/folders/z9/pk08smpj33v7qgj53df0jtmm0000gn/T/ipykernel_9626/2626558335.py:2: SettingWithCopyWarning: \n",
            "A value is trying to be set on a copy of a slice from a DataFrame.\n",
            "Try using .loc[row_indexer,col_indexer] = value instead\n",
            "\n",
            "See the caveats in the documentation: https://pandas.pydata.org/pandas-docs/stable/user_guide/indexing.html#returning-a-view-versus-a-copy\n",
            "  DATATREE_unmatched_node2['OWNERNAME1FULL'] = DATATREE_unmatched_node2['OWNERNAME1FULL'].apply(lambda  x: replace_corp(str(x), replace_name_dict_tail))\n"
          ]
        }
      ],
      "source": [
        "MLS_unmatched_node2['NAME'] = MLS_unmatched_node2['NAME'].apply(lambda x: replace_corp(x, replace_name_dict_tail))\n",
        "DATATREE_unmatched_node2['OWNERNAME1FULL'] = DATATREE_unmatched_node2['OWNERNAME1FULL'].apply(lambda  x: replace_corp(str(x), replace_name_dict_tail))"
      ]
    },
    {
      "cell_type": "markdown",
      "id": "4bd92691",
      "metadata": {
        "id": "4bd92691"
      },
      "source": [
        "#### 4.1.3 Order the names"
      ]
    },
    {
      "cell_type": "code",
      "execution_count": null,
      "id": "63b9fe4f",
      "metadata": {
        "id": "63b9fe4f"
      },
      "outputs": [],
      "source": [
        "def create_pseudo_name(df_col):\n",
        "    \"\"\"\n",
        "    :param df_col: the name col\n",
        "    :return:\n",
        "    \"\"\"\n",
        "    assert isinstance(df_col, pd.Series), \"It is not a pd.Series\"\n",
        "    df_col = df_col.apply(lambda x: \" \".join(sorted(x.split())) if isinstance(x, str) and len(x.split()) <= 3 else x)\n",
        "\n",
        "    return df_col"
      ]
    },
    {
      "cell_type": "code",
      "execution_count": null,
      "id": "571e6f94",
      "metadata": {
        "id": "571e6f94",
        "outputId": "3d7d3ddd-1a81-4bab-d83b-e6fffa94543f"
      },
      "outputs": [
        {
          "name": "stderr",
          "output_type": "stream",
          "text": [
            "/var/folders/z9/pk08smpj33v7qgj53df0jtmm0000gn/T/ipykernel_9626/2049998946.py:1: SettingWithCopyWarning: \n",
            "A value is trying to be set on a copy of a slice from a DataFrame.\n",
            "Try using .loc[row_indexer,col_indexer] = value instead\n",
            "\n",
            "See the caveats in the documentation: https://pandas.pydata.org/pandas-docs/stable/user_guide/indexing.html#returning-a-view-versus-a-copy\n",
            "  MLS_unmatched_node2['NAME'] = create_pseudo_name(MLS_unmatched_node2['NAME'])\n",
            "/var/folders/z9/pk08smpj33v7qgj53df0jtmm0000gn/T/ipykernel_9626/2049998946.py:2: SettingWithCopyWarning: \n",
            "A value is trying to be set on a copy of a slice from a DataFrame.\n",
            "Try using .loc[row_indexer,col_indexer] = value instead\n",
            "\n",
            "See the caveats in the documentation: https://pandas.pydata.org/pandas-docs/stable/user_guide/indexing.html#returning-a-view-versus-a-copy\n",
            "  DATATREE_unmatched_node2['OWNERNAME1FULL'] = create_pseudo_name(DATATREE_unmatched_node2['OWNERNAME1FULL'])\n"
          ]
        }
      ],
      "source": [
        "MLS_unmatched_node2['NAME'] = create_pseudo_name(MLS_unmatched_node2['NAME'])\n",
        "DATATREE_unmatched_node2['OWNERNAME1FULL'] = create_pseudo_name(DATATREE_unmatched_node2['OWNERNAME1FULL'])"
      ]
    },
    {
      "cell_type": "markdown",
      "id": "663088aa",
      "metadata": {
        "id": "663088aa"
      },
      "source": [
        "### 4.2 Match table to using addresses whose owners only own one address in the DATATREE table"
      ]
    },
    {
      "cell_type": "markdown",
      "id": "26fdedfe",
      "metadata": {
        "id": "26fdedfe"
      },
      "source": [
        "- Find the addresses whose owners only own one address in the DATATREE table"
      ]
    },
    {
      "cell_type": "code",
      "execution_count": null,
      "id": "6d0331b8",
      "metadata": {
        "id": "6d0331b8"
      },
      "outputs": [],
      "source": [
        "only_once = DATATREE_unmatched_node2[['DATATREE_ADDRESS','OWNERNAME1FULL']].groupby('OWNERNAME1FULL').count()\n",
        "only_once = only_once[only_once['DATATREE_ADDRESS']==1]\n",
        "remaining = only_once[only_once['DATATREE_ADDRESS']> 1]\n",
        "once_list = list(only_once['DATATREE_ADDRESS'].index)\n",
        "DATATREE_only_once = DATATREE_unmatched_node2[DATATREE_unmatched_node2['OWNERNAME1FULL'].isin(once_list)]"
      ]
    },
    {
      "cell_type": "code",
      "execution_count": null,
      "id": "ddfd74ad",
      "metadata": {
        "id": "ddfd74ad"
      },
      "outputs": [],
      "source": [
        "df_merge_node3 = pd.merge(DATATREE_only_once, MLS_unmatched_node2, how = 'left', \n",
        "                            left_on = ['AddressNumber', 'StreetName', 'StreetNamePreDirectional', 'StreetNamePostType', 'SITUSZIP5'], \n",
        "                            right_on = ['AddressNumber', 'StreetName','StreetNamePreDirectional','StreetNamePostType', 'POSTALCODE'])"
      ]
    },
    {
      "cell_type": "code",
      "execution_count": null,
      "id": "72a0294b",
      "metadata": {
        "id": "72a0294b"
      },
      "outputs": [],
      "source": [
        "df_merge_node3 = df_merge_node3[df_merge_node3['MLS_ADDRESS'].notnull()]"
      ]
    },
    {
      "cell_type": "markdown",
      "id": "64ab73c4",
      "metadata": {
        "id": "64ab73c4"
      },
      "source": [
        "- only contains that one address has apt and the other does not have"
      ]
    },
    {
      "cell_type": "code",
      "execution_count": null,
      "id": "f5739483",
      "metadata": {
        "id": "f5739483"
      },
      "outputs": [],
      "source": [
        "def is_null(x, y):\n",
        "    if (x == 'nan') and (y == 'nan'):\n",
        "        return True\n",
        "    else:\n",
        "        return False\n",
        "df_merge_node3['Occupancy_x_none'] = df_merge_node3.apply(lambda x: is_null(str(x['OccupancyType_x']), str(x['OccupancyIdentifier_x'])), axis=1)\n",
        "df_merge_node3['Occupancy_y_none'] = df_merge_node3.apply(lambda x: is_null(str(x['OccupancyType_y']), str(x['OccupancyIdentifier_y'])), axis=1)"
      ]
    },
    {
      "cell_type": "code",
      "execution_count": null,
      "id": "827d8f9c",
      "metadata": {
        "id": "827d8f9c"
      },
      "outputs": [],
      "source": [
        "df_merge_node3 = df_merge_node3[df_merge_node3['Occupancy_y_none'] != df_merge_node3['Occupancy_x_none']]"
      ]
    },
    {
      "cell_type": "markdown",
      "id": "3c1a7abc",
      "metadata": {
        "id": "3c1a7abc"
      },
      "source": [
        "- Compute the fuzz ratios"
      ]
    },
    {
      "cell_type": "code",
      "execution_count": null,
      "id": "65a71d4b",
      "metadata": {
        "id": "65a71d4b"
      },
      "outputs": [],
      "source": [
        "# !pip install thefuzz"
      ]
    },
    {
      "cell_type": "code",
      "execution_count": null,
      "id": "441356bd",
      "metadata": {
        "id": "441356bd",
        "outputId": "f9423955-56ed-40c7-bbbf-5df70fbb7d60"
      },
      "outputs": [
        {
          "name": "stderr",
          "output_type": "stream",
          "text": [
            "/Users/yiweihou/opt/anaconda3/lib/python3.9/site-packages/thefuzz/fuzz.py:11: UserWarning: Using slow pure-python SequenceMatcher. Install python-Levenshtein to remove this warning\n",
            "  warnings.warn('Using slow pure-python SequenceMatcher. Install python-Levenshtein to remove this warning')\n"
          ]
        }
      ],
      "source": [
        "from thefuzz import fuzz\n",
        "df_merge_node3['NAME_FUZZY_1'] = df_merge_node3.apply(lambda x: fuzz.ratio(str(x['NAME']), str(x['OWNERNAME1FULL'])), axis=1)\n",
        "df_merge_node3['NAME_FUZZY_sort_1'] = df_merge_node3.apply(lambda x: fuzz.token_sort_ratio(str(x['NAME']), str(x['OWNERNAME1FULL'])), axis=1)"
      ]
    },
    {
      "cell_type": "code",
      "execution_count": null,
      "id": "4f41d390",
      "metadata": {
        "id": "4f41d390",
        "outputId": "33125813-7ab6-44be-e309-fd44a5bd533d"
      },
      "outputs": [
        {
          "data": {
            "text/html": [
              "<div>\n",
              "<style scoped>\n",
              "    .dataframe tbody tr th:only-of-type {\n",
              "        vertical-align: middle;\n",
              "    }\n",
              "\n",
              "    .dataframe tbody tr th {\n",
              "        vertical-align: top;\n",
              "    }\n",
              "\n",
              "    .dataframe thead th {\n",
              "        text-align: right;\n",
              "    }\n",
              "</style>\n",
              "<table border=\"1\" class=\"dataframe\">\n",
              "  <thead>\n",
              "    <tr style=\"text-align: right;\">\n",
              "      <th></th>\n",
              "      <th>MLS_ADDRESS</th>\n",
              "      <th>DATATREE_ADDRESS</th>\n",
              "      <th>NAME</th>\n",
              "      <th>OWNERNAME1FULL</th>\n",
              "    </tr>\n",
              "  </thead>\n",
              "  <tbody>\n",
              "    <tr>\n",
              "      <th>12258</th>\n",
              "      <td>215 e 73rd st 9d</td>\n",
              "      <td>215 e 73rd st</td>\n",
              "      <td>215 e 73rd owner corp</td>\n",
              "      <td>215 e 73rd owner corp</td>\n",
              "    </tr>\n",
              "    <tr>\n",
              "      <th>12259</th>\n",
              "      <td>215 e 73rd st 8e</td>\n",
              "      <td>215 e 73rd st</td>\n",
              "      <td>215 e 73rd owner corp</td>\n",
              "      <td>215 e 73rd owner corp</td>\n",
              "    </tr>\n",
              "    <tr>\n",
              "      <th>12260</th>\n",
              "      <td>215 e 73rd st 5g</td>\n",
              "      <td>215 e 73rd st</td>\n",
              "      <td>215 e 73rd owner corp</td>\n",
              "      <td>215 e 73rd owner corp</td>\n",
              "    </tr>\n",
              "    <tr>\n",
              "      <th>12261</th>\n",
              "      <td>215 e 73rd st 6a</td>\n",
              "      <td>215 e 73rd st</td>\n",
              "      <td>215 e 73rd owner corp</td>\n",
              "      <td>215 e 73rd owner corp</td>\n",
              "    </tr>\n",
              "  </tbody>\n",
              "</table>\n",
              "</div>"
            ],
            "text/plain": [
              "            MLS_ADDRESS DATATREE_ADDRESS                   NAME  \\\n",
              "12258  215 e 73rd st 9d    215 e 73rd st  215 e 73rd owner corp   \n",
              "12259  215 e 73rd st 8e    215 e 73rd st  215 e 73rd owner corp   \n",
              "12260  215 e 73rd st 5g    215 e 73rd st  215 e 73rd owner corp   \n",
              "12261  215 e 73rd st 6a    215 e 73rd st  215 e 73rd owner corp   \n",
              "\n",
              "              OWNERNAME1FULL  \n",
              "12258  215 e 73rd owner corp  \n",
              "12259  215 e 73rd owner corp  \n",
              "12260  215 e 73rd owner corp  \n",
              "12261  215 e 73rd owner corp  "
            ]
          },
          "execution_count": 52,
          "metadata": {},
          "output_type": "execute_result"
        }
      ],
      "source": [
        "df_merge_node3[df_merge_node3[\"NAME\"] == df_merge_node3[\"OWNERNAME1FULL\"]][['MLS_ADDRESS', 'DATATREE_ADDRESS','NAME', 'OWNERNAME1FULL']]"
      ]
    },
    {
      "cell_type": "markdown",
      "id": "fb825c7f",
      "metadata": {
        "id": "fb825c7f"
      },
      "source": [
        "- Add address with same names to matched list"
      ]
    },
    {
      "cell_type": "code",
      "execution_count": null,
      "id": "ca4d3a9b",
      "metadata": {
        "id": "ca4d3a9b"
      },
      "outputs": [],
      "source": [
        "df_merge_node3_matched = df_merge_node3[df_merge_node3[\"NAME\"] == df_merge_node3[\"OWNERNAME1FULL\"]]"
      ]
    },
    {
      "cell_type": "code",
      "execution_count": null,
      "id": "34978a4d",
      "metadata": {
        "id": "34978a4d",
        "outputId": "a32f5f9e-4315-45eb-bc57-e6aed0108351"
      },
      "outputs": [
        {
          "data": {
            "text/plain": [
              "10951"
            ]
          },
          "execution_count": 54,
          "metadata": {},
          "output_type": "execute_result"
        }
      ],
      "source": [
        "MLS_matched_address.extend(list(df_merge_node3_matched['MLS_ADDRESS'].unique()))\n",
        "MLS_matched_address = list(set(MLS_matched_address))\n",
        "len(MLS_matched_address)"
      ]
    },
    {
      "cell_type": "code",
      "execution_count": null,
      "id": "37a137e2",
      "metadata": {
        "id": "37a137e2",
        "outputId": "fb3bce2c-f7e7-4fa5-f0be-91adb7bace88"
      },
      "outputs": [
        {
          "data": {
            "text/plain": [
              "10959"
            ]
          },
          "execution_count": 55,
          "metadata": {},
          "output_type": "execute_result"
        }
      ],
      "source": [
        "DATATREE_matched_address.extend(list(df_merge_node3_matched['DATATREE_ADDRESS'].unique()))\n",
        "DATATREE_matched_address = list(set(DATATREE_matched_address))\n",
        "len(DATATREE_matched_address)"
      ]
    },
    {
      "cell_type": "code",
      "execution_count": null,
      "id": "913db632",
      "metadata": {
        "id": "913db632",
        "outputId": "856e4440-4ed4-4e15-812c-e435a416fa33"
      },
      "outputs": [
        {
          "data": {
            "text/plain": [
              "0.0318620890311318"
            ]
          },
          "execution_count": 56,
          "metadata": {},
          "output_type": "execute_result"
        }
      ],
      "source": [
        "third_node_match = len(MLS_matched_address)\n",
        "base = len(df_DATATREE['DATATREE_ADDRESS'].unique())\n",
        "third_node_match_ratio = third_node_match/base\n",
        "third_node_match_ratio"
      ]
    },
    {
      "cell_type": "markdown",
      "id": "f0cf4c8c",
      "metadata": {
        "id": "f0cf4c8c"
      },
      "source": [
        "- Study fuzzy ratios: there are misspelled names but it's hard to find the threshold"
      ]
    },
    {
      "cell_type": "code",
      "execution_count": null,
      "id": "ac99ad50",
      "metadata": {
        "id": "ac99ad50"
      },
      "outputs": [],
      "source": [
        "df_merge_node3 = df_merge_node3[df_merge_node3['MLS_ADDRESS'].notnull()]"
      ]
    },
    {
      "cell_type": "code",
      "execution_count": null,
      "id": "eecc7d7e",
      "metadata": {
        "id": "eecc7d7e",
        "outputId": "cd7fff6d-4195-4621-df1f-6cd8ee8d8f25"
      },
      "outputs": [
        {
          "data": {
            "text/html": [
              "<div>\n",
              "<style scoped>\n",
              "    .dataframe tbody tr th:only-of-type {\n",
              "        vertical-align: middle;\n",
              "    }\n",
              "\n",
              "    .dataframe tbody tr th {\n",
              "        vertical-align: top;\n",
              "    }\n",
              "\n",
              "    .dataframe thead th {\n",
              "        text-align: right;\n",
              "    }\n",
              "</style>\n",
              "<table border=\"1\" class=\"dataframe\">\n",
              "  <thead>\n",
              "    <tr style=\"text-align: right;\">\n",
              "      <th></th>\n",
              "      <th>MLS_ADDRESS</th>\n",
              "      <th>DATATREE_ADDRESS</th>\n",
              "      <th>NAME</th>\n",
              "      <th>OWNERNAME1FULL</th>\n",
              "    </tr>\n",
              "  </thead>\n",
              "  <tbody>\n",
              "  </tbody>\n",
              "</table>\n",
              "</div>"
            ],
            "text/plain": [
              "Empty DataFrame\n",
              "Columns: [MLS_ADDRESS, DATATREE_ADDRESS, NAME, OWNERNAME1FULL]\n",
              "Index: []"
            ]
          },
          "execution_count": 58,
          "metadata": {},
          "output_type": "execute_result"
        }
      ],
      "source": [
        "df_merge_node3[(df_merge_node3[\"NAME_FUZZY_1\"] > 75) & (df_merge_node3[\"NAME_FUZZY_1\"] < 100)].sort_values(by=\"NAME_FUZZY_1\" , ascending=False)[['MLS_ADDRESS', 'DATATREE_ADDRESS',\n",
        "                                                                                                       'NAME', 'OWNERNAME1FULL']]"
      ]
    },
    {
      "cell_type": "code",
      "execution_count": null,
      "id": "f7aa48f8",
      "metadata": {
        "id": "f7aa48f8",
        "outputId": "f52d7275-d2cc-45fa-dfb7-8639891d72a7"
      },
      "outputs": [
        {
          "data": {
            "text/html": [
              "<div>\n",
              "<style scoped>\n",
              "    .dataframe tbody tr th:only-of-type {\n",
              "        vertical-align: middle;\n",
              "    }\n",
              "\n",
              "    .dataframe tbody tr th {\n",
              "        vertical-align: top;\n",
              "    }\n",
              "\n",
              "    .dataframe thead th {\n",
              "        text-align: right;\n",
              "    }\n",
              "</style>\n",
              "<table border=\"1\" class=\"dataframe\">\n",
              "  <thead>\n",
              "    <tr style=\"text-align: right;\">\n",
              "      <th></th>\n",
              "      <th>MLS_ADDRESS</th>\n",
              "      <th>DATATREE_ADDRESS</th>\n",
              "      <th>NAME</th>\n",
              "      <th>OWNERNAME1FULL</th>\n",
              "    </tr>\n",
              "  </thead>\n",
              "  <tbody>\n",
              "    <tr>\n",
              "      <th>782</th>\n",
              "      <td>301 e 79th st</td>\n",
              "      <td>301 e 79th st apt 4c</td>\n",
              "      <td>withheld</td>\n",
              "      <td>leff mitchell</td>\n",
              "    </tr>\n",
              "    <tr>\n",
              "      <th>11209</th>\n",
              "      <td>509 e 77th st</td>\n",
              "      <td>509 e 77th st 1 0 6p</td>\n",
              "      <td>withheld</td>\n",
              "      <td>hsieh michael</td>\n",
              "    </tr>\n",
              "    <tr>\n",
              "      <th>11675</th>\n",
              "      <td>244 seaman ave</td>\n",
              "      <td>244 seaman ave 4h</td>\n",
              "      <td>fund margreat</td>\n",
              "      <td>dimarco martina</td>\n",
              "    </tr>\n",
              "    <tr>\n",
              "      <th>7973</th>\n",
              "      <td>5 tudor city pl</td>\n",
              "      <td>5 tudor city pl apt b20</td>\n",
              "      <td>withheld</td>\n",
              "      <td>codispoti michael</td>\n",
              "    </tr>\n",
              "    <tr>\n",
              "      <th>11647</th>\n",
              "      <td>244 seaman ave</td>\n",
              "      <td>244 seaman ave 4a</td>\n",
              "      <td>fund margreat</td>\n",
              "      <td>domue michael</td>\n",
              "    </tr>\n",
              "    <tr>\n",
              "      <th>4095</th>\n",
              "      <td>120 e 75th st 5a</td>\n",
              "      <td>120 e 75th st gordo</td>\n",
              "      <td>withheld</td>\n",
              "      <td>hercules</td>\n",
              "    </tr>\n",
              "    <tr>\n",
              "      <th>14622</th>\n",
              "      <td>204 w 10th st</td>\n",
              "      <td>204 w 10th st apt 24</td>\n",
              "      <td>justin oh</td>\n",
              "      <td>jessica tsai</td>\n",
              "    </tr>\n",
              "    <tr>\n",
              "      <th>14597</th>\n",
              "      <td>509 e 77th st</td>\n",
              "      <td>509 e 77th st 2 0 5m</td>\n",
              "      <td>withheld</td>\n",
              "      <td>joseph whelan</td>\n",
              "    </tr>\n",
              "    <tr>\n",
              "      <th>9580</th>\n",
              "      <td>5 tudor city pl</td>\n",
              "      <td>5 tudor city pl apt 1205</td>\n",
              "      <td>withheld</td>\n",
              "      <td>christopher e pelka</td>\n",
              "    </tr>\n",
              "    <tr>\n",
              "      <th>10701</th>\n",
              "      <td>128 central park s 2a</td>\n",
              "      <td>128 central park s</td>\n",
              "      <td>withheld</td>\n",
              "      <td>edward michael platt</td>\n",
              "    </tr>\n",
              "    <tr>\n",
              "      <th>9236</th>\n",
              "      <td>220 e 57th st</td>\n",
              "      <td>220 e 57th st apt 9f</td>\n",
              "      <td>withheld</td>\n",
              "      <td>gail rosenthal</td>\n",
              "    </tr>\n",
              "    <tr>\n",
              "      <th>9237</th>\n",
              "      <td>220 e 57th st</td>\n",
              "      <td>220 e 57th st apt 9f</td>\n",
              "      <td>withheld</td>\n",
              "      <td>gail rosenthal</td>\n",
              "    </tr>\n",
              "    <tr>\n",
              "      <th>15796</th>\n",
              "      <td>514 e 82nd st</td>\n",
              "      <td>514 e 82nd st apt 3w</td>\n",
              "      <td>withheld</td>\n",
              "      <td>sheldon silber</td>\n",
              "    </tr>\n",
              "    <tr>\n",
              "      <th>10702</th>\n",
              "      <td>128 central park s 2a</td>\n",
              "      <td>128 central park s</td>\n",
              "      <td>withheld</td>\n",
              "      <td>edward michael platt</td>\n",
              "    </tr>\n",
              "    <tr>\n",
              "      <th>5157</th>\n",
              "      <td>220 e 57th st</td>\n",
              "      <td>220 e 57th st apt 16b</td>\n",
              "      <td>withheld</td>\n",
              "      <td>gerovich pavel</td>\n",
              "    </tr>\n",
              "    <tr>\n",
              "      <th>10703</th>\n",
              "      <td>128 central park s 2a</td>\n",
              "      <td>128 central park s</td>\n",
              "      <td>withheld</td>\n",
              "      <td>edward michael platt</td>\n",
              "    </tr>\n",
              "    <tr>\n",
              "      <th>10588</th>\n",
              "      <td>110 riverside dr</td>\n",
              "      <td>110 riverside dr 1 0 12</td>\n",
              "      <td>withheld</td>\n",
              "      <td>edward whitney</td>\n",
              "    </tr>\n",
              "    <tr>\n",
              "      <th>10706</th>\n",
              "      <td>128 central park s 9cd</td>\n",
              "      <td>128 central park s</td>\n",
              "      <td>withheld</td>\n",
              "      <td>edward michael platt</td>\n",
              "    </tr>\n",
              "    <tr>\n",
              "      <th>10705</th>\n",
              "      <td>128 central park s 9cd</td>\n",
              "      <td>128 central park s</td>\n",
              "      <td>withheld</td>\n",
              "      <td>edward michael platt</td>\n",
              "    </tr>\n",
              "    <tr>\n",
              "      <th>5156</th>\n",
              "      <td>220 e 57th st</td>\n",
              "      <td>220 e 57th st apt 16b</td>\n",
              "      <td>withheld</td>\n",
              "      <td>gerovich pavel</td>\n",
              "    </tr>\n",
              "  </tbody>\n",
              "</table>\n",
              "</div>"
            ],
            "text/plain": [
              "                  MLS_ADDRESS          DATATREE_ADDRESS           NAME  \\\n",
              "782             301 e 79th st      301 e 79th st apt 4c       withheld   \n",
              "11209           509 e 77th st      509 e 77th st 1 0 6p       withheld   \n",
              "11675          244 seaman ave         244 seaman ave 4h  fund margreat   \n",
              "7973          5 tudor city pl   5 tudor city pl apt b20       withheld   \n",
              "11647          244 seaman ave         244 seaman ave 4a  fund margreat   \n",
              "4095         120 e 75th st 5a       120 e 75th st gordo       withheld   \n",
              "14622           204 w 10th st      204 w 10th st apt 24      justin oh   \n",
              "14597           509 e 77th st      509 e 77th st 2 0 5m       withheld   \n",
              "9580          5 tudor city pl  5 tudor city pl apt 1205       withheld   \n",
              "10701   128 central park s 2a        128 central park s       withheld   \n",
              "9236            220 e 57th st      220 e 57th st apt 9f       withheld   \n",
              "9237            220 e 57th st      220 e 57th st apt 9f       withheld   \n",
              "15796           514 e 82nd st      514 e 82nd st apt 3w       withheld   \n",
              "10702   128 central park s 2a        128 central park s       withheld   \n",
              "5157            220 e 57th st     220 e 57th st apt 16b       withheld   \n",
              "10703   128 central park s 2a        128 central park s       withheld   \n",
              "10588        110 riverside dr   110 riverside dr 1 0 12       withheld   \n",
              "10706  128 central park s 9cd        128 central park s       withheld   \n",
              "10705  128 central park s 9cd        128 central park s       withheld   \n",
              "5156            220 e 57th st     220 e 57th st apt 16b       withheld   \n",
              "\n",
              "             OWNERNAME1FULL  \n",
              "782           leff mitchell  \n",
              "11209         hsieh michael  \n",
              "11675       dimarco martina  \n",
              "7973      codispoti michael  \n",
              "11647         domue michael  \n",
              "4095               hercules  \n",
              "14622          jessica tsai  \n",
              "14597         joseph whelan  \n",
              "9580    christopher e pelka  \n",
              "10701  edward michael platt  \n",
              "9236         gail rosenthal  \n",
              "9237         gail rosenthal  \n",
              "15796        sheldon silber  \n",
              "10702  edward michael platt  \n",
              "5157         gerovich pavel  \n",
              "10703  edward michael platt  \n",
              "10588        edward whitney  \n",
              "10706  edward michael platt  \n",
              "10705  edward michael platt  \n",
              "5156         gerovich pavel  "
            ]
          },
          "execution_count": 59,
          "metadata": {},
          "output_type": "execute_result"
        }
      ],
      "source": [
        "df_merge_node3[df_merge_node3[\"NAME_FUZZY_1\"] < 75].sort_values(by=\"NAME_FUZZY_1\" , ascending=False)[['MLS_ADDRESS', 'DATATREE_ADDRESS',\n",
        "                                                                                                       'NAME', 'OWNERNAME1FULL']].head(20)"
      ]
    },
    {
      "cell_type": "markdown",
      "id": "afeb7477",
      "metadata": {
        "id": "afeb7477"
      },
      "source": [
        "- Don't use fuzzy ratios here won't affect much"
      ]
    },
    {
      "cell_type": "code",
      "execution_count": null,
      "id": "fa7b5d47",
      "metadata": {
        "id": "fa7b5d47",
        "outputId": "d1b7f8e2-0696-4a6f-986c-5d33f9fd1559"
      },
      "outputs": [
        {
          "data": {
            "text/plain": [
              "0"
            ]
          },
          "execution_count": 60,
          "metadata": {},
          "output_type": "execute_result"
        }
      ],
      "source": [
        "len(df_merge_node3[(df_merge_node3[\"NAME_FUZZY_1\"] > 75) & (df_merge_node3[\"NAME_FUZZY_1\"] < 100)]['MLS_ADDRESS'].unique())"
      ]
    },
    {
      "cell_type": "markdown",
      "id": "d59ca0c7",
      "metadata": {
        "id": "d59ca0c7"
      },
      "source": [
        "# 4. Fourth Node - Match with rooms combined with name fuzzy ratios"
      ]
    },
    {
      "cell_type": "code",
      "execution_count": null,
      "id": "f8a73919",
      "metadata": {
        "id": "f8a73919"
      },
      "outputs": [],
      "source": [
        "import pandas as pd\n",
        "sql_MLS = \"\"\"SELECT (CASE WHEN CC_PROPERTY_ADDR_DISPLAY_1 IS NULL THEN ADDRESS ELSE CC_PROPERTY_ADDR_DISPLAY_1 END) AS MLS_ADDRESS,\n",
        "                    OWNER_FULL_NAME AS NAME,\n",
        "                    CC_PROPERTY_ADDR_POSTAL_CODE AS POSTALCODE,\n",
        "                    rooms,\n",
        "                    bedrooms,\n",
        "                    full_baths,\n",
        "                    half_baths\n",
        "            FROM ATTOM.MLS\n",
        "            WHERE CC_PROPERTY_ADDR_CITY = 'new york'\"\"\"\n",
        "df_MLS_room = pd.read_sql(sql_MLS, con=ctx)"
      ]
    },
    {
      "cell_type": "code",
      "execution_count": null,
      "id": "5f8abe86",
      "metadata": {
        "id": "5f8abe86"
      },
      "outputs": [],
      "source": [
        "sql_DATATREE = \"\"\"SELECT SITUSFULLSTREETADDRESS AS DATATREE_ADDRESS,\n",
        "                         OWNERNAME1FULL,\n",
        "                         OWNERNAME2FULL,\n",
        "                         SITUSZIP5,\n",
        "                         Bedrooms,\n",
        "                         TotalRooms,\n",
        "                         BathFull,\n",
        "                         BathsPartialNbr\n",
        "                  FROM DATATREE.ASSESSOR\n",
        "                  WHERE SITUSCITY = 'new york'\"\"\"\n",
        "df_DATATREE_room = pd.read_sql(sql_DATATREE, con=ctx)"
      ]
    },
    {
      "cell_type": "code",
      "execution_count": null,
      "id": "17123284",
      "metadata": {
        "id": "17123284"
      },
      "outputs": [],
      "source": [
        "df_MLS_room.dropna(subset=['MLS_ADDRESS'], inplace=True)\n",
        "df_DATATREE_room.dropna(subset=['DATATREE_ADDRESS'], inplace=True)"
      ]
    },
    {
      "cell_type": "code",
      "execution_count": null,
      "id": "ec57002d",
      "metadata": {
        "id": "ec57002d"
      },
      "outputs": [],
      "source": [
        "MLS_unmatched_node3 = df_MLS_room[df_MLS_room['MLS_ADDRESS'].apply(lambda x: x not in MLS_matched_address)]\n",
        "DATATREE_unmatched_node3 = df_DATATREE_room[df_DATATREE_room['DATATREE_ADDRESS'].apply(lambda x: x not in DATATREE_matched_address)]"
      ]
    },
    {
      "cell_type": "code",
      "execution_count": null,
      "id": "07934174",
      "metadata": {
        "id": "07934174",
        "outputId": "66ad500d-3158-465e-f7d9-b82b3bfabb78"
      },
      "outputs": [
        {
          "data": {
            "text/plain": [
              "ROOMS  BEDROOMS  FULL_BATHS  HALF_BATHS\n",
              "5.0    2.0       2.0         1.0           214\n",
              "3.0    1.0       1.0         1.0           190\n",
              "4.0    2.0       1.0         1.0           159\n",
              "5.0    2.0       1.0         1.0           113\n",
              "4.0    1.0       1.0         1.0            99\n",
              "                                          ... \n",
              "       3.0       2.0         1.0             2\n",
              "8.0    3.0       1.0         1.0             2\n",
              "6.0    4.0       2.0         1.0             1\n",
              "5.0    3.0       1.0         3.0             1\n",
              "12.0   8.0       8.0         8.0             1\n",
              "Length: 77, dtype: int64"
            ]
          },
          "execution_count": 65,
          "metadata": {},
          "output_type": "execute_result"
        }
      ],
      "source": [
        "MLS_unmatched_node3[['ROOMS', 'BEDROOMS', 'FULL_BATHS', 'HALF_BATHS']].value_counts()"
      ]
    },
    {
      "cell_type": "markdown",
      "id": "bde8bcd5",
      "metadata": {
        "id": "bde8bcd5"
      },
      "source": [
        "- In datatree, almost all of the records are with 0 bedrooms, bathfull, bathspartialnbr; only use totalrooms to match"
      ]
    },
    {
      "cell_type": "code",
      "execution_count": null,
      "id": "10306cbf",
      "metadata": {
        "id": "10306cbf",
        "outputId": "ac4c4469-f90a-4521-9b4f-f787b8debf60"
      },
      "outputs": [
        {
          "data": {
            "text/plain": [
              "BEDROOMS  TOTALROOMS  BATHFULL  BATHSPARTIALNBR\n",
              "0         0           0         0                  317904\n",
              "          3           0         0                   11514\n",
              "          4           0         0                    6468\n",
              "          2           0         0                    6322\n",
              "          5           0         0                    2313\n",
              "          1           0         0                     890\n",
              "          6           0         0                     712\n",
              "          7           0         0                     267\n",
              "          8           0         0                     153\n",
              "          80          0         0                      49\n",
              "          9           0         0                      43\n",
              "          11          0         0                      33\n",
              "          10          0         0                      22\n",
              "          12          0         0                      13\n",
              "          24          0         0                      10\n",
              "          13          0         0                       7\n",
              "          16          0         0                       7\n",
              "          35          0         0                       6\n",
              "          21          0         0                       6\n",
              "          27          0         0                       6\n",
              "          17          0         0                       5\n",
              "          32          0         0                       5\n",
              "          30          0         0                       5\n",
              "          31          0         0                       4\n",
              "          28          0         0                       4\n",
              "          26          0         0                       4\n",
              "          15          0         0                       4\n",
              "          20          0         0                       4\n",
              "          18          0         0                       4\n",
              "          23          0         0                       3\n",
              "          25          0         0                       3\n",
              "          45          0         0                       3\n",
              "          29          0         0                       2\n",
              "          33          0         0                       2\n",
              "          36          0         0                       2\n",
              "          38          0         0                       2\n",
              "          65          0         0                       2\n",
              "          60          0         0                       2\n",
              "          14          0         0                       1\n",
              "          55          0         0                       1\n",
              "          69          0         0                       1\n",
              "1         0           1         0                       1\n",
              "0         59          0         0                       1\n",
              "          42          0         0                       1\n",
              "          52          0         0                       1\n",
              "          44          0         0                       1\n",
              "          43          0         0                       1\n",
              "          41          0         0                       1\n",
              "          39          0         0                       1\n",
              "          19          0         0                       1\n",
              "          22          0         0                       1\n",
              "3         0           1         1                       1\n",
              "dtype: int64"
            ]
          },
          "execution_count": 66,
          "metadata": {},
          "output_type": "execute_result"
        }
      ],
      "source": [
        "DATATREE_unmatched_node3[['BEDROOMS', 'TOTALROOMS', 'BATHFULL', 'BATHSPARTIALNBR']].value_counts()"
      ]
    },
    {
      "cell_type": "code",
      "execution_count": null,
      "id": "bffda4f5",
      "metadata": {
        "id": "bffda4f5"
      },
      "outputs": [],
      "source": [
        "MLS_unmatched_node3.reset_index(inplace=True)\n",
        "DATATREE_unmatched_node3.reset_index(inplace=True)\n",
        "del MLS_unmatched_node3['index']\n",
        "del DATATREE_unmatched_node3['index']"
      ]
    },
    {
      "cell_type": "code",
      "execution_count": null,
      "id": "9cbe32ae",
      "metadata": {
        "id": "9cbe32ae",
        "outputId": "14ba0492-7933-44cd-8762-ee7a22dfb5a5"
      },
      "outputs": [
        {
          "name": "stderr",
          "output_type": "stream",
          "text": [
            "/var/folders/z9/pk08smpj33v7qgj53df0jtmm0000gn/T/ipykernel_9626/2064281604.py:1: SettingWithCopyWarning: \n",
            "A value is trying to be set on a copy of a slice from a DataFrame.\n",
            "Try using .loc[row_indexer,col_indexer] = value instead\n",
            "\n",
            "See the caveats in the documentation: https://pandas.pydata.org/pandas-docs/stable/user_guide/indexing.html#returning-a-view-versus-a-copy\n",
            "  df1_MLS['MLS_ADDRESS_Split'] = df1_MLS.apply(lambda df1_MLS : get_splited_addr(df1_MLS,'MLS_ADDRESS'), axis = 1)\n",
            "/var/folders/z9/pk08smpj33v7qgj53df0jtmm0000gn/T/ipykernel_9626/2064281604.py:2: SettingWithCopyWarning: \n",
            "A value is trying to be set on a copy of a slice from a DataFrame.\n",
            "Try using .loc[row_indexer,col_indexer] = value instead\n",
            "\n",
            "See the caveats in the documentation: https://pandas.pydata.org/pandas-docs/stable/user_guide/indexing.html#returning-a-view-versus-a-copy\n",
            "  df1_DATATREE['DATATREE_ADDRESS_Split'] = df1_DATATREE.apply(lambda df1_DATATREE : get_splited_addr(df1_DATATREE,'DATATREE_ADDRESS'), axis = 1)\n"
          ]
        }
      ],
      "source": [
        "df1_MLS['MLS_ADDRESS_Split'] = df1_MLS.apply(lambda df1_MLS : get_splited_addr(df1_MLS,'MLS_ADDRESS'), axis = 1)\n",
        "df1_DATATREE['DATATREE_ADDRESS_Split'] = df1_DATATREE.apply(lambda df1_DATATREE : get_splited_addr(df1_DATATREE,'DATATREE_ADDRESS'), axis = 1)\n",
        "MLS_ADDRESS_final = get_comb_addr(df1_MLS,'MLS_ADDRESS_Split')\n",
        "DT_ADDRESS_final = get_comb_addr(df1_DATATREE,'DATATREE_ADDRESS_Split')"
      ]
    },
    {
      "cell_type": "code",
      "execution_count": null,
      "id": "18941299",
      "metadata": {
        "id": "18941299"
      },
      "outputs": [],
      "source": [
        "df_merge_node4 = pd.merge(DT_ADDRESS_final, MLS_ADDRESS_final, how = 'left', \n",
        "                            left_on = ['AddressNumber', 'StreetName', 'StreetNamePreDirectional', 'StreetNamePostType', 'SITUSZIP5'], \n",
        "                            right_on = ['AddressNumber', 'StreetName','StreetNamePreDirectional','StreetNamePostType', 'POSTALCODE'])"
      ]
    },
    {
      "cell_type": "code",
      "execution_count": null,
      "id": "e92001b1",
      "metadata": {
        "id": "e92001b1",
        "outputId": "09df1a9c-2846-4a38-8131-89d2be4a564a"
      },
      "outputs": [
        {
          "data": {
            "text/html": [
              "<div>\n",
              "<style scoped>\n",
              "    .dataframe tbody tr th:only-of-type {\n",
              "        vertical-align: middle;\n",
              "    }\n",
              "\n",
              "    .dataframe tbody tr th {\n",
              "        vertical-align: top;\n",
              "    }\n",
              "\n",
              "    .dataframe thead th {\n",
              "        text-align: right;\n",
              "    }\n",
              "</style>\n",
              "<table border=\"1\" class=\"dataframe\">\n",
              "  <thead>\n",
              "    <tr style=\"text-align: right;\">\n",
              "      <th></th>\n",
              "      <th>level_0_x</th>\n",
              "      <th>DATATREE_ADDRESS</th>\n",
              "      <th>OWNERNAME1FULL</th>\n",
              "      <th>OWNERNAME2FULL</th>\n",
              "      <th>SITUSZIP5</th>\n",
              "      <th>DATATREE_ADDRESS_Split</th>\n",
              "      <th>AddressNumber</th>\n",
              "      <th>StreetNamePreDirectional</th>\n",
              "      <th>StreetName</th>\n",
              "      <th>StreetNamePostType</th>\n",
              "      <th>...</th>\n",
              "      <th>MLS_ADDRESS_Split</th>\n",
              "      <th>OccupancyType_y</th>\n",
              "      <th>OccupancyIdentifier_y</th>\n",
              "      <th>StreetNamePostDirectional_y</th>\n",
              "      <th>StreetNamePreType_y</th>\n",
              "      <th>PlaceName_y</th>\n",
              "      <th>StateName_y</th>\n",
              "      <th>ZipCode_y</th>\n",
              "      <th>BuildingName</th>\n",
              "      <th>USPSBoxGroupType</th>\n",
              "    </tr>\n",
              "  </thead>\n",
              "  <tbody>\n",
              "    <tr>\n",
              "      <th>0</th>\n",
              "      <td>0</td>\n",
              "      <td>305 e 4th st apt 5</td>\n",
              "      <td>karas darko</td>\n",
              "      <td>mount jane</td>\n",
              "      <td>10009</td>\n",
              "      <td>({'AddressNumber': '305', 'StreetNamePreDirect...</td>\n",
              "      <td>305</td>\n",
              "      <td>e</td>\n",
              "      <td>4th</td>\n",
              "      <td>st</td>\n",
              "      <td>...</td>\n",
              "      <td>({'AddressNumber': '305', 'StreetNamePreDirect...</td>\n",
              "      <td>apt</td>\n",
              "      <td>5</td>\n",
              "      <td>NaN</td>\n",
              "      <td>NaN</td>\n",
              "      <td>NaN</td>\n",
              "      <td>NaN</td>\n",
              "      <td>NaN</td>\n",
              "      <td>NaN</td>\n",
              "      <td>NaN</td>\n",
              "    </tr>\n",
              "    <tr>\n",
              "      <th>1</th>\n",
              "      <td>0</td>\n",
              "      <td>305 e 4th st apt 5</td>\n",
              "      <td>karas darko</td>\n",
              "      <td>mount jane</td>\n",
              "      <td>10009</td>\n",
              "      <td>({'AddressNumber': '305', 'StreetNamePreDirect...</td>\n",
              "      <td>305</td>\n",
              "      <td>e</td>\n",
              "      <td>4th</td>\n",
              "      <td>st</td>\n",
              "      <td>...</td>\n",
              "      <td>({'AddressNumber': '305', 'StreetNamePreDirect...</td>\n",
              "      <td>apt</td>\n",
              "      <td>5</td>\n",
              "      <td>NaN</td>\n",
              "      <td>NaN</td>\n",
              "      <td>NaN</td>\n",
              "      <td>NaN</td>\n",
              "      <td>NaN</td>\n",
              "      <td>NaN</td>\n",
              "      <td>NaN</td>\n",
              "    </tr>\n",
              "    <tr>\n",
              "      <th>2</th>\n",
              "      <td>1</td>\n",
              "      <td>463 lexington ave</td>\n",
              "      <td>delmar 36 ar llc</td>\n",
              "      <td>sgn 246 llc</td>\n",
              "      <td>10017</td>\n",
              "      <td>({'AddressNumber': '463', 'StreetName': 'lexin...</td>\n",
              "      <td>463</td>\n",
              "      <td>NaN</td>\n",
              "      <td>lexington</td>\n",
              "      <td>ave</td>\n",
              "      <td>...</td>\n",
              "      <td>NaN</td>\n",
              "      <td>NaN</td>\n",
              "      <td>NaN</td>\n",
              "      <td>NaN</td>\n",
              "      <td>NaN</td>\n",
              "      <td>NaN</td>\n",
              "      <td>NaN</td>\n",
              "      <td>NaN</td>\n",
              "      <td>NaN</td>\n",
              "      <td>NaN</td>\n",
              "    </tr>\n",
              "    <tr>\n",
              "      <th>3</th>\n",
              "      <td>2</td>\n",
              "      <td>300 e 33rd st apt 3p</td>\n",
              "      <td>khan mohammed aslam</td>\n",
              "      <td>pfefferblit susanna</td>\n",
              "      <td>10016</td>\n",
              "      <td>({'AddressNumber': '300', 'StreetNamePreDirect...</td>\n",
              "      <td>300</td>\n",
              "      <td>e</td>\n",
              "      <td>33rd</td>\n",
              "      <td>st</td>\n",
              "      <td>...</td>\n",
              "      <td>({'AddressNumber': '300', 'StreetNamePreDirect...</td>\n",
              "      <td>apt</td>\n",
              "      <td>4c</td>\n",
              "      <td>NaN</td>\n",
              "      <td>NaN</td>\n",
              "      <td>NaN</td>\n",
              "      <td>NaN</td>\n",
              "      <td>NaN</td>\n",
              "      <td>NaN</td>\n",
              "      <td>NaN</td>\n",
              "    </tr>\n",
              "    <tr>\n",
              "      <th>4</th>\n",
              "      <td>2</td>\n",
              "      <td>300 e 33rd st apt 3p</td>\n",
              "      <td>khan mohammed aslam</td>\n",
              "      <td>pfefferblit susanna</td>\n",
              "      <td>10016</td>\n",
              "      <td>({'AddressNumber': '300', 'StreetNamePreDirect...</td>\n",
              "      <td>300</td>\n",
              "      <td>e</td>\n",
              "      <td>33rd</td>\n",
              "      <td>st</td>\n",
              "      <td>...</td>\n",
              "      <td>({'AddressNumber': '300', 'StreetNamePreDirect...</td>\n",
              "      <td>apt</td>\n",
              "      <td>15a</td>\n",
              "      <td>NaN</td>\n",
              "      <td>NaN</td>\n",
              "      <td>NaN</td>\n",
              "      <td>NaN</td>\n",
              "      <td>NaN</td>\n",
              "      <td>NaN</td>\n",
              "      <td>NaN</td>\n",
              "    </tr>\n",
              "    <tr>\n",
              "      <th>...</th>\n",
              "      <td>...</td>\n",
              "      <td>...</td>\n",
              "      <td>...</td>\n",
              "      <td>...</td>\n",
              "      <td>...</td>\n",
              "      <td>...</td>\n",
              "      <td>...</td>\n",
              "      <td>...</td>\n",
              "      <td>...</td>\n",
              "      <td>...</td>\n",
              "      <td>...</td>\n",
              "      <td>...</td>\n",
              "      <td>...</td>\n",
              "      <td>...</td>\n",
              "      <td>...</td>\n",
              "      <td>...</td>\n",
              "      <td>...</td>\n",
              "      <td>...</td>\n",
              "      <td>...</td>\n",
              "      <td>...</td>\n",
              "      <td>...</td>\n",
              "    </tr>\n",
              "    <tr>\n",
              "      <th>75618</th>\n",
              "      <td>14997</td>\n",
              "      <td>244 seaman ave 3a</td>\n",
              "      <td>bujgoli corneliu</td>\n",
              "      <td>None</td>\n",
              "      <td>10034</td>\n",
              "      <td>({'AddressNumber': '244', 'StreetName': 'seama...</td>\n",
              "      <td>244</td>\n",
              "      <td>NaN</td>\n",
              "      <td>seaman</td>\n",
              "      <td>ave</td>\n",
              "      <td>...</td>\n",
              "      <td>({'AddressNumber': '244', 'StreetName': 'seama...</td>\n",
              "      <td>NaN</td>\n",
              "      <td>NaN</td>\n",
              "      <td>NaN</td>\n",
              "      <td>NaN</td>\n",
              "      <td>NaN</td>\n",
              "      <td>NaN</td>\n",
              "      <td>NaN</td>\n",
              "      <td>NaN</td>\n",
              "      <td>NaN</td>\n",
              "    </tr>\n",
              "    <tr>\n",
              "      <th>75619</th>\n",
              "      <td>14997</td>\n",
              "      <td>244 seaman ave 3a</td>\n",
              "      <td>bujgoli corneliu</td>\n",
              "      <td>None</td>\n",
              "      <td>10034</td>\n",
              "      <td>({'AddressNumber': '244', 'StreetName': 'seama...</td>\n",
              "      <td>244</td>\n",
              "      <td>NaN</td>\n",
              "      <td>seaman</td>\n",
              "      <td>ave</td>\n",
              "      <td>...</td>\n",
              "      <td>({'AddressNumber': '244', 'StreetName': 'seama...</td>\n",
              "      <td>NaN</td>\n",
              "      <td>NaN</td>\n",
              "      <td>NaN</td>\n",
              "      <td>NaN</td>\n",
              "      <td>NaN</td>\n",
              "      <td>NaN</td>\n",
              "      <td>NaN</td>\n",
              "      <td>NaN</td>\n",
              "      <td>NaN</td>\n",
              "    </tr>\n",
              "    <tr>\n",
              "      <th>75620</th>\n",
              "      <td>14998</td>\n",
              "      <td>1239 madison ave 9e</td>\n",
              "      <td>rose associates</td>\n",
              "      <td>None</td>\n",
              "      <td>10128</td>\n",
              "      <td>({'AddressNumber': '1239', 'StreetName': 'madi...</td>\n",
              "      <td>1239</td>\n",
              "      <td>NaN</td>\n",
              "      <td>madison</td>\n",
              "      <td>ave</td>\n",
              "      <td>...</td>\n",
              "      <td>NaN</td>\n",
              "      <td>NaN</td>\n",
              "      <td>NaN</td>\n",
              "      <td>NaN</td>\n",
              "      <td>NaN</td>\n",
              "      <td>NaN</td>\n",
              "      <td>NaN</td>\n",
              "      <td>NaN</td>\n",
              "      <td>NaN</td>\n",
              "      <td>NaN</td>\n",
              "    </tr>\n",
              "    <tr>\n",
              "      <th>75621</th>\n",
              "      <td>14999</td>\n",
              "      <td>230 e 73rd st 3g</td>\n",
              "      <td>melek ruth m</td>\n",
              "      <td>None</td>\n",
              "      <td>10021</td>\n",
              "      <td>({'AddressNumber': '230', 'StreetNamePreDirect...</td>\n",
              "      <td>230</td>\n",
              "      <td>e</td>\n",
              "      <td>73rd</td>\n",
              "      <td>st</td>\n",
              "      <td>...</td>\n",
              "      <td>({'AddressNumber': '230', 'StreetNamePreDirect...</td>\n",
              "      <td>NaN</td>\n",
              "      <td>8g</td>\n",
              "      <td>NaN</td>\n",
              "      <td>NaN</td>\n",
              "      <td>NaN</td>\n",
              "      <td>NaN</td>\n",
              "      <td>NaN</td>\n",
              "      <td>NaN</td>\n",
              "      <td>NaN</td>\n",
              "    </tr>\n",
              "    <tr>\n",
              "      <th>75622</th>\n",
              "      <td>14999</td>\n",
              "      <td>230 e 73rd st 3g</td>\n",
              "      <td>melek ruth m</td>\n",
              "      <td>None</td>\n",
              "      <td>10021</td>\n",
              "      <td>({'AddressNumber': '230', 'StreetNamePreDirect...</td>\n",
              "      <td>230</td>\n",
              "      <td>e</td>\n",
              "      <td>73rd</td>\n",
              "      <td>st</td>\n",
              "      <td>...</td>\n",
              "      <td>({'AddressNumber': '230', 'StreetNamePreDirect...</td>\n",
              "      <td>NaN</td>\n",
              "      <td>8g</td>\n",
              "      <td>NaN</td>\n",
              "      <td>NaN</td>\n",
              "      <td>NaN</td>\n",
              "      <td>NaN</td>\n",
              "      <td>NaN</td>\n",
              "      <td>NaN</td>\n",
              "      <td>NaN</td>\n",
              "    </tr>\n",
              "  </tbody>\n",
              "</table>\n",
              "<p>75623 rows × 33 columns</p>\n",
              "</div>"
            ],
            "text/plain": [
              "       level_0_x      DATATREE_ADDRESS       OWNERNAME1FULL  \\\n",
              "0              0    305 e 4th st apt 5          karas darko   \n",
              "1              0    305 e 4th st apt 5          karas darko   \n",
              "2              1     463 lexington ave     delmar 36 ar llc   \n",
              "3              2  300 e 33rd st apt 3p  khan mohammed aslam   \n",
              "4              2  300 e 33rd st apt 3p  khan mohammed aslam   \n",
              "...          ...                   ...                  ...   \n",
              "75618      14997     244 seaman ave 3a     bujgoli corneliu   \n",
              "75619      14997     244 seaman ave 3a     bujgoli corneliu   \n",
              "75620      14998   1239 madison ave 9e      rose associates   \n",
              "75621      14999      230 e 73rd st 3g         melek ruth m   \n",
              "75622      14999      230 e 73rd st 3g         melek ruth m   \n",
              "\n",
              "            OWNERNAME2FULL SITUSZIP5  \\\n",
              "0               mount jane     10009   \n",
              "1               mount jane     10009   \n",
              "2              sgn 246 llc     10017   \n",
              "3      pfefferblit susanna     10016   \n",
              "4      pfefferblit susanna     10016   \n",
              "...                    ...       ...   \n",
              "75618                 None     10034   \n",
              "75619                 None     10034   \n",
              "75620                 None     10128   \n",
              "75621                 None     10021   \n",
              "75622                 None     10021   \n",
              "\n",
              "                                  DATATREE_ADDRESS_Split AddressNumber  \\\n",
              "0      ({'AddressNumber': '305', 'StreetNamePreDirect...           305   \n",
              "1      ({'AddressNumber': '305', 'StreetNamePreDirect...           305   \n",
              "2      ({'AddressNumber': '463', 'StreetName': 'lexin...           463   \n",
              "3      ({'AddressNumber': '300', 'StreetNamePreDirect...           300   \n",
              "4      ({'AddressNumber': '300', 'StreetNamePreDirect...           300   \n",
              "...                                                  ...           ...   \n",
              "75618  ({'AddressNumber': '244', 'StreetName': 'seama...           244   \n",
              "75619  ({'AddressNumber': '244', 'StreetName': 'seama...           244   \n",
              "75620  ({'AddressNumber': '1239', 'StreetName': 'madi...          1239   \n",
              "75621  ({'AddressNumber': '230', 'StreetNamePreDirect...           230   \n",
              "75622  ({'AddressNumber': '230', 'StreetNamePreDirect...           230   \n",
              "\n",
              "      StreetNamePreDirectional StreetName StreetNamePostType  ...  \\\n",
              "0                            e        4th                 st  ...   \n",
              "1                            e        4th                 st  ...   \n",
              "2                          NaN  lexington                ave  ...   \n",
              "3                            e       33rd                 st  ...   \n",
              "4                            e       33rd                 st  ...   \n",
              "...                        ...        ...                ...  ...   \n",
              "75618                      NaN     seaman                ave  ...   \n",
              "75619                      NaN     seaman                ave  ...   \n",
              "75620                      NaN    madison                ave  ...   \n",
              "75621                        e       73rd                 st  ...   \n",
              "75622                        e       73rd                 st  ...   \n",
              "\n",
              "                                       MLS_ADDRESS_Split OccupancyType_y  \\\n",
              "0      ({'AddressNumber': '305', 'StreetNamePreDirect...             apt   \n",
              "1      ({'AddressNumber': '305', 'StreetNamePreDirect...             apt   \n",
              "2                                                    NaN             NaN   \n",
              "3      ({'AddressNumber': '300', 'StreetNamePreDirect...             apt   \n",
              "4      ({'AddressNumber': '300', 'StreetNamePreDirect...             apt   \n",
              "...                                                  ...             ...   \n",
              "75618  ({'AddressNumber': '244', 'StreetName': 'seama...             NaN   \n",
              "75619  ({'AddressNumber': '244', 'StreetName': 'seama...             NaN   \n",
              "75620                                                NaN             NaN   \n",
              "75621  ({'AddressNumber': '230', 'StreetNamePreDirect...             NaN   \n",
              "75622  ({'AddressNumber': '230', 'StreetNamePreDirect...             NaN   \n",
              "\n",
              "      OccupancyIdentifier_y StreetNamePostDirectional_y StreetNamePreType_y  \\\n",
              "0                         5                         NaN                 NaN   \n",
              "1                         5                         NaN                 NaN   \n",
              "2                       NaN                         NaN                 NaN   \n",
              "3                        4c                         NaN                 NaN   \n",
              "4                       15a                         NaN                 NaN   \n",
              "...                     ...                         ...                 ...   \n",
              "75618                   NaN                         NaN                 NaN   \n",
              "75619                   NaN                         NaN                 NaN   \n",
              "75620                   NaN                         NaN                 NaN   \n",
              "75621                    8g                         NaN                 NaN   \n",
              "75622                    8g                         NaN                 NaN   \n",
              "\n",
              "      PlaceName_y StateName_y ZipCode_y BuildingName  USPSBoxGroupType  \n",
              "0             NaN         NaN       NaN          NaN               NaN  \n",
              "1             NaN         NaN       NaN          NaN               NaN  \n",
              "2             NaN         NaN       NaN          NaN               NaN  \n",
              "3             NaN         NaN       NaN          NaN               NaN  \n",
              "4             NaN         NaN       NaN          NaN               NaN  \n",
              "...           ...         ...       ...          ...               ...  \n",
              "75618         NaN         NaN       NaN          NaN               NaN  \n",
              "75619         NaN         NaN       NaN          NaN               NaN  \n",
              "75620         NaN         NaN       NaN          NaN               NaN  \n",
              "75621         NaN         NaN       NaN          NaN               NaN  \n",
              "75622         NaN         NaN       NaN          NaN               NaN  \n",
              "\n",
              "[75623 rows x 33 columns]"
            ]
          },
          "execution_count": 70,
          "metadata": {},
          "output_type": "execute_result"
        }
      ],
      "source": [
        "df_merge_node4"
      ]
    },
    {
      "cell_type": "code",
      "execution_count": null,
      "id": "fbf4594c",
      "metadata": {
        "id": "fbf4594c"
      },
      "outputs": [],
      "source": [
        "def is_null(x, y):\n",
        "    if (x == 'nan') and (y == 'nan'):\n",
        "        return True\n",
        "    else:\n",
        "        return False\n",
        "df_merge_node4['Occupancy_x_none'] = df_merge_node4.apply(lambda x: is_null(str(x['OccupancyType_x']), str(x['OccupancyIdentifier_x'])), axis=1)\n",
        "df_merge_node4['Occupancy_y_none'] = df_merge_node4.apply(lambda x: is_null(str(x['OccupancyType_y']), str(x['OccupancyIdentifier_y'])), axis=1)"
      ]
    },
    {
      "cell_type": "code",
      "execution_count": null,
      "id": "cb3506ce",
      "metadata": {
        "id": "cb3506ce"
      },
      "outputs": [],
      "source": [
        "df_merge_node4 = df_merge_node4[df_merge_node4['Occupancy_y_none'] != df_merge_node4['Occupancy_x_none']]"
      ]
    },
    {
      "cell_type": "code",
      "execution_count": null,
      "id": "ef4cbfbe",
      "metadata": {
        "id": "ef4cbfbe"
      },
      "outputs": [],
      "source": [
        "df_merge_node4 = df_merge_node4[df_merge_node4['MLS_ADDRESS'].notnull()]"
      ]
    },
    {
      "cell_type": "markdown",
      "id": "bd9d76fc",
      "metadata": {
        "id": "bd9d76fc"
      },
      "source": [
        "- Clean the names"
      ]
    },
    {
      "cell_type": "code",
      "execution_count": null,
      "id": "47ce96a9",
      "metadata": {
        "id": "47ce96a9"
      },
      "outputs": [],
      "source": [
        "from settings import *\n",
        "from Util import *\n",
        "df_merge_node4['NAME'] =df_merge_node4['NAME'].apply(lambda x: remove_punct(x))\n",
        "df_merge_node4['OWNERNAME1FULL'] = df_merge_node4['OWNERNAME1FULL'].apply(lambda x: remove_punct(x))\n",
        "df_merge_node4['NAME'] =df_merge_node4['NAME'].apply(lambda x: conver_space(x))\n",
        "df_merge_node4['OWNERNAME1FULL'] = df_merge_node4['OWNERNAME1FULL'].apply(lambda x: conver_space(x))\n",
        "df_merge_node4.replace({\"NAME\": replace_name_dict_complicated},inplace=True)\n",
        "df_merge_node4.replace({\"OWNERNAME1FULL\": replace_name_dict_complicated},inplace=True)\n",
        "df_merge_node4['NAME'] = df_merge_node4['NAME'].apply(lambda x: replace_corp(x, replace_name_dict_tail))\n",
        "df_merge_node4['OWNERNAME1FULL'] = df_merge_node4['OWNERNAME1FULL'].apply(lambda  x: replace_corp(str(x), replace_name_dict_tail))"
      ]
    },
    {
      "cell_type": "markdown",
      "id": "0f9d009d",
      "metadata": {
        "id": "0f9d009d"
      },
      "source": [
        "- Compute the fuzz ratios"
      ]
    },
    {
      "cell_type": "code",
      "execution_count": null,
      "id": "50981b6a",
      "metadata": {
        "id": "50981b6a"
      },
      "outputs": [],
      "source": [
        "df_merge_node4['NAME_FUZZY_1'] = df_merge_node4.apply(lambda x: fuzz.ratio(str(x['NAME']), str(x['OWNERNAME1FULL'])), axis=1)\n",
        "df_merge_node4['NAME_FUZZY_sort_1'] = df_merge_node4.apply(lambda x: fuzz.token_sort_ratio(str(x['NAME']), str(x['OWNERNAME1FULL'])), axis=1)"
      ]
    },
    {
      "cell_type": "code",
      "execution_count": null,
      "id": "da32cfd4",
      "metadata": {
        "id": "da32cfd4",
        "outputId": "7038e325-8de5-4afc-a49b-ee8663f6d009"
      },
      "outputs": [
        {
          "data": {
            "text/plain": [
              "Index(['level_0_x', 'DATATREE_ADDRESS', 'OWNERNAME1FULL', 'OWNERNAME2FULL',\n",
              "       'SITUSZIP5', 'DATATREE_ADDRESS_Split', 'AddressNumber',\n",
              "       'StreetNamePreDirectional', 'StreetName', 'StreetNamePostType',\n",
              "       'OccupancyType_x', 'OccupancyIdentifier_x',\n",
              "       'StreetNamePostDirectional_x', 'StreetNamePreType_x', 'PlaceName_x',\n",
              "       'StateName_x', 'ZipCode_x', 'SubaddressIdentifier',\n",
              "       'StreetNamePreModifier', 'level_0_y', 'MLS_ADDRESS', 'NAME',\n",
              "       'POSTALCODE', 'MLS_ADDRESS_Split', 'OccupancyType_y',\n",
              "       'OccupancyIdentifier_y', 'StreetNamePostDirectional_y',\n",
              "       'StreetNamePreType_y', 'PlaceName_y', 'StateName_y', 'ZipCode_y',\n",
              "       'BuildingName', 'USPSBoxGroupType', 'Occupancy_x_none',\n",
              "       'Occupancy_y_none', 'NAME_FUZZY_1', 'NAME_FUZZY_sort_1'],\n",
              "      dtype='object')"
            ]
          },
          "execution_count": 76,
          "metadata": {},
          "output_type": "execute_result"
        }
      ],
      "source": [
        "df_merge_node4.columns"
      ]
    },
    {
      "cell_type": "code",
      "execution_count": null,
      "id": "4cf9dfbc",
      "metadata": {
        "id": "4cf9dfbc"
      },
      "outputs": [],
      "source": [
        "# df_merge_node4[df_merge_node4['TOTALROOMS'] == df_merge_node4['ROOMS']].sort_values(by = 'NAME_FUZZY_1',\n",
        "#                                                                                    ascending = False)[['MLS_ADDRESS', 'DATATREE_ADDRESS',\n",
        "#                                                                                                        'NAME', 'OWNERNAME1FULL']].head(20)"
      ]
    },
    {
      "cell_type": "markdown",
      "id": "d839ada6",
      "metadata": {
        "id": "d839ada6"
      },
      "source": [
        "- Difficult to confirm whether the address is the same"
      ]
    },
    {
      "cell_type": "markdown",
      "id": "0ec41853",
      "metadata": {
        "id": "0ec41853"
      },
      "source": [
        "# 5. Fifth Node - Match with sales information"
      ]
    },
    {
      "cell_type": "code",
      "execution_count": null,
      "id": "8e7be93c",
      "metadata": {
        "id": "8e7be93c"
      },
      "outputs": [],
      "source": [
        "import pandas as pd\n",
        "sql_MLS = \"\"\"SELECT (CASE WHEN CC_PROPERTY_ADDR_DISPLAY_1 IS NULL THEN ADDRESS ELSE CC_PROPERTY_ADDR_DISPLAY_1 END) AS MLS_ADDRESS,\n",
        "                    OWNER_FULL_NAME AS NAME,\n",
        "                    CC_PROPERTY_ADDR_POSTAL_CODE AS POSTALCODE,\n",
        "                    A_DATE,\n",
        "                    PRICE,\n",
        "                    STATUS,\n",
        "                    SALE_TYPE\n",
        "                    FROM ATTOM.MLS\n",
        "                    WHERE CC_PROPERTY_ADDR_CITY = 'new york'\"\"\"\n",
        "df_MLS_sale = pd.read_sql(sql_MLS, con=ctx)\n"
      ]
    },
    {
      "cell_type": "code",
      "execution_count": null,
      "id": "b32be204",
      "metadata": {
        "id": "b32be204"
      },
      "outputs": [],
      "source": [
        "sql_DATATREE = \"\"\"SELECT SITUSFULLSTREETADDRESS AS DATATREE_ADDRESS,\n",
        "                         OWNERNAME1FULL,\n",
        "                         OWNERNAME2FULL,\n",
        "                         SITUSZIP5,\n",
        "CURRENTSALERECORDINGDATE,\n",
        "CURRENTSALESPRICE,\n",
        "PREVSALERECORDINGDATE,\n",
        "PREVSALESPRICE,\n",
        "PROPERTYCLASSID,\n",
        "LANDUSECODE,\n",
        "STATELANDUSECODE,\n",
        "COUNTYLANDUSECODE,\n",
        "ZONING,\n",
        "SCHOOLDISTRICTNAME\n",
        "FROM DATATREE.ASSESSOR WHERE SITUSCITY = 'new york'\"\"\"\n",
        "df_DATATREE_sale = pd.read_sql(sql_DATATREE, con=ctx)\n"
      ]
    },
    {
      "cell_type": "code",
      "execution_count": null,
      "id": "87bed1e7",
      "metadata": {
        "id": "87bed1e7"
      },
      "outputs": [],
      "source": [
        "df_MLS_sale.dropna(subset=['MLS_ADDRESS'], inplace=True)\n",
        "df_DATATREE_sale.dropna(subset=['DATATREE_ADDRESS'], inplace=True)"
      ]
    },
    {
      "cell_type": "code",
      "execution_count": null,
      "id": "3a32613c",
      "metadata": {
        "id": "3a32613c",
        "outputId": "ba716cd3-e011-457e-9c85-93278628826c"
      },
      "outputs": [
        {
          "name": "stdout",
          "output_type": "stream",
          "text": [
            "['pending' 'active' 'contingent' 'expired' 'withdrawn' 'deleted'\n",
            " 'incomplete' 'sale' 'cancelled']\n",
            "['fair market' 'short sale' 'lease' 'reo' 'auction' 'distressed' 'unknown']\n"
          ]
        },
        {
          "data": {
            "text/html": [
              "<div>\n",
              "<style scoped>\n",
              "    .dataframe tbody tr th:only-of-type {\n",
              "        vertical-align: middle;\n",
              "    }\n",
              "\n",
              "    .dataframe tbody tr th {\n",
              "        vertical-align: top;\n",
              "    }\n",
              "\n",
              "    .dataframe thead th {\n",
              "        text-align: right;\n",
              "    }\n",
              "</style>\n",
              "<table border=\"1\" class=\"dataframe\">\n",
              "  <thead>\n",
              "    <tr style=\"text-align: right;\">\n",
              "      <th></th>\n",
              "      <th>MLS_ADDRESS</th>\n",
              "      <th>NAME</th>\n",
              "      <th>POSTALCODE</th>\n",
              "      <th>A_DATE</th>\n",
              "      <th>PRICE</th>\n",
              "      <th>STATUS</th>\n",
              "      <th>SALE_TYPE</th>\n",
              "    </tr>\n",
              "  </thead>\n",
              "  <tbody>\n",
              "    <tr>\n",
              "      <th>105</th>\n",
              "      <td>517 w 46th st apt 402</td>\n",
              "      <td>withheld</td>\n",
              "      <td>10036</td>\n",
              "      <td>2021-07-07</td>\n",
              "      <td>1299000</td>\n",
              "      <td>sale</td>\n",
              "      <td>fair market</td>\n",
              "    </tr>\n",
              "    <tr>\n",
              "      <th>183</th>\n",
              "      <td>222 riverside dr # 10d</td>\n",
              "      <td>holland lauren m</td>\n",
              "      <td>10025</td>\n",
              "      <td>2021-10-28</td>\n",
              "      <td>655000</td>\n",
              "      <td>sale</td>\n",
              "      <td>fair market</td>\n",
              "    </tr>\n",
              "    <tr>\n",
              "      <th>413</th>\n",
              "      <td>166 e 63rd st apt 5h</td>\n",
              "      <td>corp owned</td>\n",
              "      <td>10065</td>\n",
              "      <td>2018-04-30</td>\n",
              "      <td>575000</td>\n",
              "      <td>sale</td>\n",
              "      <td>reo</td>\n",
              "    </tr>\n",
              "    <tr>\n",
              "      <th>495</th>\n",
              "      <td>139 e 30th st apt 1c</td>\n",
              "      <td>withheld</td>\n",
              "      <td>10016</td>\n",
              "      <td>2022-04-07</td>\n",
              "      <td>399000</td>\n",
              "      <td>sale</td>\n",
              "      <td>fair market</td>\n",
              "    </tr>\n",
              "    <tr>\n",
              "      <th>496</th>\n",
              "      <td>11 e 87th st apt 4g</td>\n",
              "      <td>11 east 87th st tenan</td>\n",
              "      <td>10128</td>\n",
              "      <td>2022-04-07</td>\n",
              "      <td>750000</td>\n",
              "      <td>sale</td>\n",
              "      <td>fair market</td>\n",
              "    </tr>\n",
              "    <tr>\n",
              "      <th>...</th>\n",
              "      <td>...</td>\n",
              "      <td>...</td>\n",
              "      <td>...</td>\n",
              "      <td>...</td>\n",
              "      <td>...</td>\n",
              "      <td>...</td>\n",
              "      <td>...</td>\n",
              "    </tr>\n",
              "    <tr>\n",
              "      <th>67564</th>\n",
              "      <td>141 e 3rd st apt 4a</td>\n",
              "      <td>irena buullock</td>\n",
              "      <td>10009</td>\n",
              "      <td>2021-11-04</td>\n",
              "      <td>655000</td>\n",
              "      <td>sale</td>\n",
              "      <td>fair market</td>\n",
              "    </tr>\n",
              "    <tr>\n",
              "      <th>67680</th>\n",
              "      <td>150 w 56th st apt 4101</td>\n",
              "      <td>amadocia llc</td>\n",
              "      <td>10019</td>\n",
              "      <td>2015-10-23</td>\n",
              "      <td>3720000</td>\n",
              "      <td>sale</td>\n",
              "      <td>fair market</td>\n",
              "    </tr>\n",
              "    <tr>\n",
              "      <th>67774</th>\n",
              "      <td>406 w 47th st apt 1c</td>\n",
              "      <td>brea</td>\n",
              "      <td>10036</td>\n",
              "      <td>2019-04-25</td>\n",
              "      <td>417000</td>\n",
              "      <td>sale</td>\n",
              "      <td>fair market</td>\n",
              "    </tr>\n",
              "    <tr>\n",
              "      <th>67795</th>\n",
              "      <td>345 e 93rd st apt 29d</td>\n",
              "      <td>acevedo</td>\n",
              "      <td>10128</td>\n",
              "      <td>2014-11-10</td>\n",
              "      <td>475000</td>\n",
              "      <td>sale</td>\n",
              "      <td>fair market</td>\n",
              "    </tr>\n",
              "    <tr>\n",
              "      <th>67801</th>\n",
              "      <td>201 w 70th st apt 20g</td>\n",
              "      <td>lb</td>\n",
              "      <td>10023</td>\n",
              "      <td>2018-10-15</td>\n",
              "      <td>875000</td>\n",
              "      <td>sale</td>\n",
              "      <td>fair market</td>\n",
              "    </tr>\n",
              "  </tbody>\n",
              "</table>\n",
              "<p>1692 rows × 7 columns</p>\n",
              "</div>"
            ],
            "text/plain": [
              "                  MLS_ADDRESS                   NAME POSTALCODE     A_DATE  \\\n",
              "105     517 w 46th st apt 402               withheld      10036 2021-07-07   \n",
              "183    222 riverside dr # 10d       holland lauren m      10025 2021-10-28   \n",
              "413      166 e 63rd st apt 5h             corp owned      10065 2018-04-30   \n",
              "495      139 e 30th st apt 1c               withheld      10016 2022-04-07   \n",
              "496       11 e 87th st apt 4g  11 east 87th st tenan      10128 2022-04-07   \n",
              "...                       ...                    ...        ...        ...   \n",
              "67564     141 e 3rd st apt 4a         irena buullock      10009 2021-11-04   \n",
              "67680  150 w 56th st apt 4101           amadocia llc      10019 2015-10-23   \n",
              "67774    406 w 47th st apt 1c                   brea      10036 2019-04-25   \n",
              "67795   345 e 93rd st apt 29d                acevedo      10128 2014-11-10   \n",
              "67801   201 w 70th st apt 20g                     lb      10023 2018-10-15   \n",
              "\n",
              "         PRICE STATUS    SALE_TYPE  \n",
              "105    1299000   sale  fair market  \n",
              "183     655000   sale  fair market  \n",
              "413     575000   sale          reo  \n",
              "495     399000   sale  fair market  \n",
              "496     750000   sale  fair market  \n",
              "...        ...    ...          ...  \n",
              "67564   655000   sale  fair market  \n",
              "67680  3720000   sale  fair market  \n",
              "67774   417000   sale  fair market  \n",
              "67795   475000   sale  fair market  \n",
              "67801   875000   sale  fair market  \n",
              "\n",
              "[1692 rows x 7 columns]"
            ]
          },
          "execution_count": 81,
          "metadata": {},
          "output_type": "execute_result"
        }
      ],
      "source": [
        "print(df_MLS_sale.STATUS.unique())\n",
        "print(df_MLS_sale.SALE_TYPE.unique())\n",
        "df_MLS_sale1 = df_MLS_sale.copy()\n",
        "# filter out \"sale\" type and \"non-lease\" type\n",
        "df_MLS_sale1_filtered = df_MLS_sale1[(df_MLS_sale1['STATUS']=='sale')&(df_MLS_sale1['SALE_TYPE']!='lease')]\n",
        "df_MLS_sale1_filtered"
      ]
    },
    {
      "cell_type": "code",
      "execution_count": null,
      "id": "b91514aa",
      "metadata": {
        "id": "b91514aa",
        "outputId": "a3d7f60e-c91a-4c41-cfe6-263fcb3fd328"
      },
      "outputs": [
        {
          "name": "stdout",
          "output_type": "stream",
          "text": [
            "(67805, 7)\n",
            "(1692, 7)\n"
          ]
        }
      ],
      "source": [
        "MLS_unmatched_node5 = df_MLS_sale1_filtered[df_MLS_sale1_filtered['MLS_ADDRESS'].apply(lambda x: x not in MLS_matched_address)]\n",
        "DATATREE_unmatched_node5 = df_DATATREE_sale[df_DATATREE_sale['DATATREE_ADDRESS'].apply(lambda x: x not in df_DATATREE_sale)]\n",
        "\n",
        "# only 1515 rows are what we're looking for \n",
        "print(df_MLS_sale.shape)\n",
        "print(df_MLS_sale1_filtered.shape)\n"
      ]
    },
    {
      "cell_type": "code",
      "execution_count": null,
      "id": "6196860d",
      "metadata": {
        "id": "6196860d"
      },
      "outputs": [],
      "source": [
        "MLS_unmatched_node5.reset_index(inplace=True)\n",
        "DATATREE_unmatched_node5.reset_index(inplace=True)"
      ]
    },
    {
      "cell_type": "code",
      "execution_count": null,
      "id": "663e0101",
      "metadata": {
        "id": "663e0101",
        "outputId": "f5dbf994-45b3-48b4-ae54-14eb40d98cdf"
      },
      "outputs": [
        {
          "name": "stderr",
          "output_type": "stream",
          "text": [
            "/var/folders/z9/pk08smpj33v7qgj53df0jtmm0000gn/T/ipykernel_9626/983123182.py:4: SettingWithCopyWarning: \n",
            "A value is trying to be set on a copy of a slice from a DataFrame.\n",
            "Try using .loc[row_indexer,col_indexer] = value instead\n",
            "\n",
            "See the caveats in the documentation: https://pandas.pydata.org/pandas-docs/stable/user_guide/indexing.html#returning-a-view-versus-a-copy\n",
            "  df1_MLS['MLS_ADDRESS_Split'] = df1_MLS.apply(lambda df1_MLS : get_splited_addr(df1_MLS,'MLS_ADDRESS'), axis = 1)\n"
          ]
        }
      ],
      "source": [
        "df1_MLS = MLS_unmatched_node5\n",
        "df1_DATATREE = DATATREE_unmatched_node5\n",
        "\n",
        "df1_MLS['MLS_ADDRESS_Split'] = df1_MLS.apply(lambda df1_MLS : get_splited_addr(df1_MLS,'MLS_ADDRESS'), axis = 1)\n",
        "df1_DATATREE['DATATREE_ADDRESS_Split'] = df1_DATATREE.apply(lambda df1_DATATREE : get_splited_addr(df1_DATATREE,'DATATREE_ADDRESS'), axis = 1)\n",
        "MLS_ADDRESS_final = get_comb_addr(df1_MLS,'MLS_ADDRESS_Split')\n",
        "DT_ADDRESS_final = get_comb_addr(df1_DATATREE,'DATATREE_ADDRESS_Split')\n"
      ]
    },
    {
      "cell_type": "code",
      "execution_count": null,
      "id": "d791b9e4",
      "metadata": {
        "id": "d791b9e4"
      },
      "outputs": [],
      "source": [
        "DT_ADDRESS_final = DT_ADDRESS_final.astype(str)\n",
        "MLS_ADDRESS_final = MLS_ADDRESS_final.astype(str)"
      ]
    },
    {
      "cell_type": "code",
      "execution_count": null,
      "id": "7f5e2060",
      "metadata": {
        "id": "7f5e2060"
      },
      "outputs": [],
      "source": [
        "# merge with current recorded date and A-date\n",
        "df_merge_node5_recent = pd.merge(DT_ADDRESS_final, MLS_ADDRESS_final, how = 'left', \n",
        "                            left_on = ['AddressNumber', 'StreetName', 'StreetNamePreDirectional', 'StreetNamePostType', 'SITUSZIP5','CURRENTSALERECORDINGDATE'], \n",
        "                            right_on = ['AddressNumber', 'StreetName','StreetNamePreDirectional','StreetNamePostType','POSTALCODE','A_DATE'])\n"
      ]
    },
    {
      "cell_type": "code",
      "execution_count": null,
      "id": "45684954",
      "metadata": {
        "id": "45684954"
      },
      "outputs": [],
      "source": [
        "# match with recent date\n",
        "df_merge_node5_recent['Occupancy_x_none'] = df_merge_node5_recent.apply(lambda x: is_null(str(x['OccupancyType_x']), str(x['OccupancyIdentifier_x'])), axis=1)\n",
        "df_merge_node5_recent['Occupancy_y_none'] = df_merge_node5_recent.apply(lambda x: is_null(str(x['OccupancyType_y']), str(x['OccupancyIdentifier_y'])), axis=1)\n"
      ]
    },
    {
      "cell_type": "code",
      "execution_count": null,
      "id": "fec4607d",
      "metadata": {
        "id": "fec4607d"
      },
      "outputs": [],
      "source": [
        "df_merge_node5_recent = df_merge_node5_recent[df_merge_node5_recent['Occupancy_y_none'] != df_merge_node5_recent['Occupancy_x_none']]\n"
      ]
    },
    {
      "cell_type": "code",
      "execution_count": null,
      "id": "cb1adc6c",
      "metadata": {
        "id": "cb1adc6c"
      },
      "outputs": [],
      "source": [
        "df_merge_node5_recent = df_merge_node5_recent[df_merge_node5_recent['MLS_ADDRESS'].notnull()]\n"
      ]
    },
    {
      "cell_type": "code",
      "execution_count": null,
      "id": "415483af",
      "metadata": {
        "id": "415483af",
        "outputId": "5b3d2a74-23c4-4473-93c4-90ae5d89e3e1"
      },
      "outputs": [
        {
          "data": {
            "text/html": [
              "<div>\n",
              "<style scoped>\n",
              "    .dataframe tbody tr th:only-of-type {\n",
              "        vertical-align: middle;\n",
              "    }\n",
              "\n",
              "    .dataframe tbody tr th {\n",
              "        vertical-align: top;\n",
              "    }\n",
              "\n",
              "    .dataframe thead th {\n",
              "        text-align: right;\n",
              "    }\n",
              "</style>\n",
              "<table border=\"1\" class=\"dataframe\">\n",
              "  <thead>\n",
              "    <tr style=\"text-align: right;\">\n",
              "      <th></th>\n",
              "      <th>level_0_x</th>\n",
              "      <th>DATATREE_ADDRESS</th>\n",
              "      <th>OWNERNAME1FULL</th>\n",
              "      <th>OWNERNAME2FULL</th>\n",
              "      <th>SITUSZIP5</th>\n",
              "      <th>CURRENTSALERECORDINGDATE</th>\n",
              "      <th>CURRENTSALESPRICE</th>\n",
              "      <th>PREVSALERECORDINGDATE</th>\n",
              "      <th>PREVSALESPRICE</th>\n",
              "      <th>PROPERTYCLASSID</th>\n",
              "      <th>...</th>\n",
              "      <th>MLS_ADDRESS_Split</th>\n",
              "      <th>OccupancyType_y</th>\n",
              "      <th>OccupancyIdentifier_y</th>\n",
              "      <th>StreetNamePostDirectional_y</th>\n",
              "      <th>PlaceName_y</th>\n",
              "      <th>StreetNamePreType_y</th>\n",
              "      <th>StateName_y</th>\n",
              "      <th>ZipCode_y</th>\n",
              "      <th>Occupancy_x_none</th>\n",
              "      <th>Occupancy_y_none</th>\n",
              "    </tr>\n",
              "  </thead>\n",
              "  <tbody>\n",
              "    <tr>\n",
              "      <th>199734</th>\n",
              "      <td>199734</td>\n",
              "      <td>60 gramercy park n apt 11m</td>\n",
              "      <td>popkin lee m</td>\n",
              "      <td>None</td>\n",
              "      <td>10010</td>\n",
              "      <td>2022-04-20</td>\n",
              "      <td>1975000.0</td>\n",
              "      <td>2018-07-24</td>\n",
              "      <td>1755000.0</td>\n",
              "      <td>r</td>\n",
              "      <td>...</td>\n",
              "      <td>(OrderedDict([('AddressNumber', '60'), ('Stree...</td>\n",
              "      <td>nan</td>\n",
              "      <td>nan</td>\n",
              "      <td>n</td>\n",
              "      <td>nan</td>\n",
              "      <td>nan</td>\n",
              "      <td>nan</td>\n",
              "      <td>nan</td>\n",
              "      <td>False</td>\n",
              "      <td>True</td>\n",
              "    </tr>\n",
              "  </tbody>\n",
              "</table>\n",
              "<p>1 rows × 55 columns</p>\n",
              "</div>"
            ],
            "text/plain": [
              "       level_0_x            DATATREE_ADDRESS OWNERNAME1FULL OWNERNAME2FULL  \\\n",
              "199734    199734  60 gramercy park n apt 11m   popkin lee m           None   \n",
              "\n",
              "       SITUSZIP5 CURRENTSALERECORDINGDATE CURRENTSALESPRICE  \\\n",
              "199734     10010               2022-04-20         1975000.0   \n",
              "\n",
              "       PREVSALERECORDINGDATE PREVSALESPRICE PROPERTYCLASSID  ...  \\\n",
              "199734            2018-07-24      1755000.0               r  ...   \n",
              "\n",
              "                                        MLS_ADDRESS_Split OccupancyType_y  \\\n",
              "199734  (OrderedDict([('AddressNumber', '60'), ('Stree...             nan   \n",
              "\n",
              "       OccupancyIdentifier_y StreetNamePostDirectional_y PlaceName_y  \\\n",
              "199734                   nan                           n         nan   \n",
              "\n",
              "       StreetNamePreType_y StateName_y ZipCode_y Occupancy_x_none  \\\n",
              "199734                 nan         nan       nan            False   \n",
              "\n",
              "       Occupancy_y_none  \n",
              "199734             True  \n",
              "\n",
              "[1 rows x 55 columns]"
            ]
          },
          "execution_count": 90,
          "metadata": {},
          "output_type": "execute_result"
        }
      ],
      "source": [
        "df_merge_node5_recent"
      ]
    },
    {
      "cell_type": "code",
      "execution_count": null,
      "id": "ba172a81",
      "metadata": {
        "id": "ba172a81"
      },
      "outputs": [],
      "source": [
        "# TODO: landusecode--get distribution, figure out extreme cases -- figure out why missing?"
      ]
    },
    {
      "cell_type": "markdown",
      "id": "5dde6fdb",
      "metadata": {
        "id": "5dde6fdb"
      },
      "source": [
        "MLS:\n",
        "* MOST_RECENT_SALE: Supplemental data point for analytics delivery. This is the last known sale for the property (not specifically from MLS)\n",
        "* MOST_RECENT_SALE_DATE: Supplemental data point for analytics delivery. Date of the last known sale for the property  (not specifically from MLS) \n",
        "* PRICE:The price associated with the status, such as sale price or listing price."
      ]
    },
    {
      "cell_type": "markdown",
      "id": "7e05cc8e",
      "metadata": {
        "id": "7e05cc8e"
      },
      "source": [
        "Assessor:\n",
        "* CURRENTSALERECORDINGDATE: Date the transaction was recorded by the county/jurisdiction.\n",
        "* CURRENTSALESPRICE:Sale price of the recorded transaction\n",
        "* PREVSALECONTRACTDATE:Date the transaction was recorded by the county/jurisdiction.\n",
        "* PREVSALESPRICE:Sale price of the recorded transaction\n"
      ]
    },
    {
      "cell_type": "code",
      "execution_count": null,
      "id": "a2540b3b",
      "metadata": {
        "id": "a2540b3b",
        "outputId": "5e8b11fd-b6b8-441c-8d20-b3d2cd94505e"
      },
      "outputs": [
        {
          "name": "stdout",
          "output_type": "stream",
          "text": [
            "(67805, 7)\n"
          ]
        },
        {
          "data": {
            "text/plain": [
              "MLS_ADDRESS        0\n",
              "NAME           10629\n",
              "POSTALCODE         0\n",
              "A_DATE             0\n",
              "PRICE              0\n",
              "STATUS             0\n",
              "SALE_TYPE          0\n",
              "dtype: int64"
            ]
          },
          "execution_count": 92,
          "metadata": {},
          "output_type": "execute_result"
        }
      ],
      "source": [
        "print(df_MLS_sale.shape)\n",
        "df_MLS_sale.isna().sum()"
      ]
    },
    {
      "cell_type": "code",
      "execution_count": null,
      "id": "c19053cc",
      "metadata": {
        "id": "c19053cc",
        "outputId": "2ba1f3b0-620d-4014-e525-eb272822d331"
      },
      "outputs": [
        {
          "name": "stdout",
          "output_type": "stream",
          "text": [
            "(358746, 14)\n"
          ]
        },
        {
          "data": {
            "text/plain": [
              "DATATREE_ADDRESS                 0\n",
              "OWNERNAME1FULL                  11\n",
              "OWNERNAME2FULL              318461\n",
              "SITUSZIP5                      113\n",
              "CURRENTSALERECORDINGDATE    206177\n",
              "CURRENTSALESPRICE           206177\n",
              "PREVSALERECORDINGDATE       294907\n",
              "PREVSALESPRICE              294907\n",
              "PROPERTYCLASSID               2872\n",
              "LANDUSECODE                      0\n",
              "STATELANDUSECODE            358746\n",
              "COUNTYLANDUSECODE                1\n",
              "ZONING                       26414\n",
              "SCHOOLDISTRICTNAME            7168\n",
              "dtype: int64"
            ]
          },
          "execution_count": 93,
          "metadata": {},
          "output_type": "execute_result"
        }
      ],
      "source": [
        "print(df_DATATREE_sale.shape)\n",
        "df_DATATREE_sale.isna().sum()"
      ]
    },
    {
      "cell_type": "code",
      "execution_count": null,
      "id": "72f70c46",
      "metadata": {
        "id": "72f70c46",
        "outputId": "5b9b8623-807c-490b-83db-91593b16e199"
      },
      "outputs": [
        {
          "data": {
            "text/html": [
              "<div>\n",
              "<style scoped>\n",
              "    .dataframe tbody tr th:only-of-type {\n",
              "        vertical-align: middle;\n",
              "    }\n",
              "\n",
              "    .dataframe tbody tr th {\n",
              "        vertical-align: top;\n",
              "    }\n",
              "\n",
              "    .dataframe thead th {\n",
              "        text-align: right;\n",
              "    }\n",
              "</style>\n",
              "<table border=\"1\" class=\"dataframe\">\n",
              "  <thead>\n",
              "    <tr style=\"text-align: right;\">\n",
              "      <th></th>\n",
              "      <th>MLS_ADDRESS</th>\n",
              "      <th>NAME</th>\n",
              "      <th>POSTALCODE</th>\n",
              "      <th>A_DATE</th>\n",
              "      <th>PRICE</th>\n",
              "      <th>STATUS</th>\n",
              "      <th>SALE_TYPE</th>\n",
              "    </tr>\n",
              "  </thead>\n",
              "  <tbody>\n",
              "    <tr>\n",
              "      <th>0</th>\n",
              "      <td>98 park ter e apt 4f</td>\n",
              "      <td>steffens anna</td>\n",
              "      <td>10034</td>\n",
              "      <td>2021-09-23 00:00:00</td>\n",
              "      <td>365000</td>\n",
              "      <td>pending</td>\n",
              "      <td>fair market</td>\n",
              "    </tr>\n",
              "    <tr>\n",
              "      <th>1</th>\n",
              "      <td>133 e 15th st apt 3a</td>\n",
              "      <td>woodcock</td>\n",
              "      <td>10003</td>\n",
              "      <td>2018-03-20 00:00:00</td>\n",
              "      <td>669888</td>\n",
              "      <td>active</td>\n",
              "      <td>fair market</td>\n",
              "    </tr>\n",
              "    <tr>\n",
              "      <th>2</th>\n",
              "      <td>1641 3rd ave apt 20a</td>\n",
              "      <td>davie</td>\n",
              "      <td>10128</td>\n",
              "      <td>2016-04-05 00:00:00</td>\n",
              "      <td>989000</td>\n",
              "      <td>contingent</td>\n",
              "      <td>short sale</td>\n",
              "    </tr>\n",
              "    <tr>\n",
              "      <th>3</th>\n",
              "      <td>155 w 123rd st apt 2</td>\n",
              "      <td>withheld</td>\n",
              "      <td>10027</td>\n",
              "      <td>2019-02-27 00:00:00</td>\n",
              "      <td>3350</td>\n",
              "      <td>active</td>\n",
              "      <td>lease</td>\n",
              "    </tr>\n",
              "    <tr>\n",
              "      <th>4</th>\n",
              "      <td>155 w 123rd st apt 2</td>\n",
              "      <td>withheld</td>\n",
              "      <td>10027</td>\n",
              "      <td>2020-03-26 00:00:00</td>\n",
              "      <td>3350</td>\n",
              "      <td>expired</td>\n",
              "      <td>lease</td>\n",
              "    </tr>\n",
              "    <tr>\n",
              "      <th>...</th>\n",
              "      <td>...</td>\n",
              "      <td>...</td>\n",
              "      <td>...</td>\n",
              "      <td>...</td>\n",
              "      <td>...</td>\n",
              "      <td>...</td>\n",
              "      <td>...</td>\n",
              "    </tr>\n",
              "    <tr>\n",
              "      <th>67800</th>\n",
              "      <td>485 central park w apt 7a</td>\n",
              "      <td>None</td>\n",
              "      <td>10025</td>\n",
              "      <td>2021-04-23 00:00:00</td>\n",
              "      <td>735000</td>\n",
              "      <td>expired</td>\n",
              "      <td>fair market</td>\n",
              "    </tr>\n",
              "    <tr>\n",
              "      <th>67801</th>\n",
              "      <td>201 w 70th st apt 20g</td>\n",
              "      <td>lb</td>\n",
              "      <td>10023</td>\n",
              "      <td>2018-10-15 00:00:00</td>\n",
              "      <td>875000</td>\n",
              "      <td>sale</td>\n",
              "      <td>fair market</td>\n",
              "    </tr>\n",
              "    <tr>\n",
              "      <th>67802</th>\n",
              "      <td>415 e 85th st apt 12e</td>\n",
              "      <td>stephenson</td>\n",
              "      <td>10028</td>\n",
              "      <td>2021-11-19 16:09:29</td>\n",
              "      <td>575000</td>\n",
              "      <td>active</td>\n",
              "      <td>fair market</td>\n",
              "    </tr>\n",
              "    <tr>\n",
              "      <th>67803</th>\n",
              "      <td>415 e 85th st apt 12e</td>\n",
              "      <td>stephenson</td>\n",
              "      <td>10028</td>\n",
              "      <td>2021-11-19 00:00:00</td>\n",
              "      <td>575000</td>\n",
              "      <td>active</td>\n",
              "      <td>fair market</td>\n",
              "    </tr>\n",
              "    <tr>\n",
              "      <th>67804</th>\n",
              "      <td>215 w 88th st apt 8e</td>\n",
              "      <td>chung</td>\n",
              "      <td>10024</td>\n",
              "      <td>2017-06-07 00:00:00</td>\n",
              "      <td>2690000</td>\n",
              "      <td>active</td>\n",
              "      <td>fair market</td>\n",
              "    </tr>\n",
              "  </tbody>\n",
              "</table>\n",
              "<p>67805 rows × 7 columns</p>\n",
              "</div>"
            ],
            "text/plain": [
              "                     MLS_ADDRESS           NAME POSTALCODE  \\\n",
              "0           98 park ter e apt 4f  steffens anna      10034   \n",
              "1           133 e 15th st apt 3a       woodcock      10003   \n",
              "2           1641 3rd ave apt 20a          davie      10128   \n",
              "3           155 w 123rd st apt 2       withheld      10027   \n",
              "4           155 w 123rd st apt 2       withheld      10027   \n",
              "...                          ...            ...        ...   \n",
              "67800  485 central park w apt 7a           None      10025   \n",
              "67801      201 w 70th st apt 20g             lb      10023   \n",
              "67802      415 e 85th st apt 12e     stephenson      10028   \n",
              "67803      415 e 85th st apt 12e     stephenson      10028   \n",
              "67804       215 w 88th st apt 8e          chung      10024   \n",
              "\n",
              "                   A_DATE    PRICE      STATUS    SALE_TYPE  \n",
              "0     2021-09-23 00:00:00   365000     pending  fair market  \n",
              "1     2018-03-20 00:00:00   669888      active  fair market  \n",
              "2     2016-04-05 00:00:00   989000  contingent   short sale  \n",
              "3     2019-02-27 00:00:00     3350      active        lease  \n",
              "4     2020-03-26 00:00:00     3350     expired        lease  \n",
              "...                   ...      ...         ...          ...  \n",
              "67800 2021-04-23 00:00:00   735000     expired  fair market  \n",
              "67801 2018-10-15 00:00:00   875000        sale  fair market  \n",
              "67802 2021-11-19 16:09:29   575000      active  fair market  \n",
              "67803 2021-11-19 00:00:00   575000      active  fair market  \n",
              "67804 2017-06-07 00:00:00  2690000      active  fair market  \n",
              "\n",
              "[67805 rows x 7 columns]"
            ]
          },
          "execution_count": 94,
          "metadata": {},
          "output_type": "execute_result"
        }
      ],
      "source": [
        "df_MLS_sale[~df_MLS_sale['A_DATE'].isna()]"
      ]
    },
    {
      "cell_type": "code",
      "execution_count": null,
      "id": "3c34f0a1",
      "metadata": {
        "id": "3c34f0a1"
      },
      "outputs": [],
      "source": []
    },
    {
      "cell_type": "markdown",
      "id": "b9e99968",
      "metadata": {
        "id": "b9e99968"
      },
      "source": [
        "let's have another experiment! try to merge using different columns"
      ]
    },
    {
      "cell_type": "code",
      "execution_count": null,
      "id": "9b948aa7",
      "metadata": {
        "id": "9b948aa7"
      },
      "outputs": [],
      "source": [
        "# just repeat previous cells\n",
        "sql_MLS = \"\"\"SELECT (CASE WHEN CC_PROPERTY_ADDR_DISPLAY_1 IS NULL THEN ADDRESS ELSE CC_PROPERTY_ADDR_DISPLAY_1 END) AS MLS_ADDRESS,\n",
        "                    OWNER_FULL_NAME AS NAME,\n",
        "                    CC_PROPERTY_ADDR_POSTAL_CODE AS POSTALCODE,\n",
        "                    A_DATE,\n",
        "                    MOST_RECENT_SALE_DATE,\n",
        "                    PRICE,\n",
        "                    STATUS,\n",
        "                    SALE_TYPE\n",
        "                    FROM ATTOM.MLS\n",
        "                    WHERE CC_PROPERTY_ADDR_CITY = 'new york'\"\"\"\n",
        "df_MLS_sale = pd.read_sql(sql_MLS, con=ctx)\n",
        "sql_DATATREE = \"\"\"SELECT SITUSFULLSTREETADDRESS AS DATATREE_ADDRESS,\n",
        "                         OWNERNAME1FULL,\n",
        "                         OWNERNAME2FULL,\n",
        "                         SITUSZIP5,\n",
        "CURRENTSALERECORDINGDATE,\n",
        "CURRENTSALESPRICE,\n",
        "PREVSALERECORDINGDATE,\n",
        "PREVSALESPRICE,\n",
        "PROPERTYCLASSID,\n",
        "LANDUSECODE,\n",
        "STATELANDUSECODE,\n",
        "COUNTYLANDUSECODE,\n",
        "ZONING,\n",
        "SCHOOLDISTRICTNAME\n",
        "FROM DATATREE.ASSESSOR WHERE SITUSCITY = 'new york'\"\"\"\n",
        "df_DATATREE_sale = pd.read_sql(sql_DATATREE, con=ctx)\n",
        "\n",
        "df_MLS_sale.dropna(subset=['MLS_ADDRESS'], inplace=True)\n",
        "df_DATATREE_sale.dropna(subset=['DATATREE_ADDRESS'], inplace=True)\n",
        "df_MLS_sale1_filtered = df_MLS_sale[(df_MLS_sale['STATUS']=='sale')&(df_MLS_sale['SALE_TYPE']!='lease')]\n",
        "MLS_unmatched_node5 = df_MLS_sale1_filtered[df_MLS_sale1_filtered['MLS_ADDRESS'].apply(lambda x: x not in MLS_matched_address)]\n",
        "DATATREE_unmatched_node5 = df_DATATREE_sale[df_DATATREE_sale['DATATREE_ADDRESS'].apply(lambda x: x not in df_DATATREE_sale)]\n"
      ]
    },
    {
      "cell_type": "code",
      "execution_count": null,
      "id": "16c00cf3",
      "metadata": {
        "id": "16c00cf3"
      },
      "outputs": [],
      "source": [
        "MLS_unmatched_node5.reset_index(inplace=True)\n",
        "DATATREE_unmatched_node5.reset_index(inplace=True)"
      ]
    },
    {
      "cell_type": "code",
      "execution_count": null,
      "id": "27ed0a56",
      "metadata": {
        "id": "27ed0a56",
        "outputId": "0712b8f5-673d-4b55-98ef-b70ef44e1941"
      },
      "outputs": [
        {
          "name": "stderr",
          "output_type": "stream",
          "text": [
            "/var/folders/z9/pk08smpj33v7qgj53df0jtmm0000gn/T/ipykernel_9626/2046634484.py:3: SettingWithCopyWarning: \n",
            "A value is trying to be set on a copy of a slice from a DataFrame.\n",
            "Try using .loc[row_indexer,col_indexer] = value instead\n",
            "\n",
            "See the caveats in the documentation: https://pandas.pydata.org/pandas-docs/stable/user_guide/indexing.html#returning-a-view-versus-a-copy\n",
            "  df1_MLS['MLS_ADDRESS_Split'] = df1_MLS.apply(lambda df1_MLS : get_splited_addr(df1_MLS,'MLS_ADDRESS'), axis = 1)\n"
          ]
        }
      ],
      "source": [
        "df1_DATATREE = DATATREE_unmatched_node5\n",
        "df1_MLS = MLS_unmatched_node5\n",
        "df1_MLS['MLS_ADDRESS_Split'] = df1_MLS.apply(lambda df1_MLS : get_splited_addr(df1_MLS,'MLS_ADDRESS'), axis = 1)\n",
        "df1_DATATREE['DATATREE_ADDRESS_Split'] = df1_DATATREE.apply(lambda df1_DATATREE : get_splited_addr(df1_DATATREE,'DATATREE_ADDRESS'), axis = 1)\n",
        "MLS_ADDRESS_final = get_comb_addr(df1_MLS,'MLS_ADDRESS_Split')\n",
        "DT_ADDRESS_final = get_comb_addr(df1_DATATREE,'DATATREE_ADDRESS_Split')\n"
      ]
    },
    {
      "cell_type": "code",
      "execution_count": null,
      "id": "63d14fbe",
      "metadata": {
        "id": "63d14fbe"
      },
      "outputs": [],
      "source": [
        "DT_ADDRESS_final = DT_ADDRESS_final.astype(str)\n",
        "MLS_ADDRESS_final = MLS_ADDRESS_final.astype(str)"
      ]
    },
    {
      "cell_type": "code",
      "execution_count": null,
      "id": "ae35bdc2",
      "metadata": {
        "id": "ae35bdc2",
        "outputId": "b1fec094-af94-4824-ec55-4478fd84b4ea"
      },
      "outputs": [
        {
          "data": {
            "text/plain": [
              "0      NaT\n",
              "1      NaT\n",
              "2      NaT\n",
              "3      NaT\n",
              "4      NaT\n",
              "      ... \n",
              "406    NaT\n",
              "407    NaT\n",
              "408    NaT\n",
              "409    NaT\n",
              "410    NaT\n",
              "Name: MOST_RECENT_SALE_DATE, Length: 411, dtype: object"
            ]
          },
          "execution_count": 99,
          "metadata": {},
          "output_type": "execute_result"
        }
      ],
      "source": [
        "MLS_ADDRESS_final.MOST_RECENT_SALE_DATE"
      ]
    },
    {
      "cell_type": "code",
      "execution_count": null,
      "id": "6257cc38",
      "metadata": {
        "id": "6257cc38"
      },
      "outputs": [],
      "source": [
        "# merge with current recorded date and sales date\n",
        "df_merge_node5_recent = pd.merge(DT_ADDRESS_final, MLS_ADDRESS_final, how = 'left', \n",
        "                            left_on = ['AddressNumber', 'StreetName', 'StreetNamePreDirectional', 'StreetNamePostType', 'SITUSZIP5','CURRENTSALERECORDINGDATE'], \n",
        "                            right_on = ['AddressNumber', 'StreetName','StreetNamePreDirectional','StreetNamePostType','POSTALCODE','MOST_RECENT_SALE_DATE'])\n"
      ]
    },
    {
      "cell_type": "code",
      "execution_count": null,
      "id": "8f1f6fa4",
      "metadata": {
        "id": "8f1f6fa4"
      },
      "outputs": [],
      "source": [
        "# match with recent date\n",
        "\n",
        "df_merge_node5_recent['Occupancy_x_none'] = df_merge_node5_recent.apply(lambda x: is_null(str(x['OccupancyType_x']), str(x['OccupancyIdentifier_x'])), axis=1)\n",
        "df_merge_node5_recent['Occupancy_y_none'] = df_merge_node5_recent.apply(lambda x: is_null(str(x['OccupancyType_y']), str(x['OccupancyIdentifier_y'])), axis=1)\n"
      ]
    },
    {
      "cell_type": "code",
      "execution_count": null,
      "id": "dca691d9",
      "metadata": {
        "id": "dca691d9"
      },
      "outputs": [],
      "source": [
        "df_merge_node5_recent = df_merge_node5_recent[df_merge_node5_recent['Occupancy_y_none'] != df_merge_node5_recent['Occupancy_x_none']]\n"
      ]
    },
    {
      "cell_type": "code",
      "execution_count": null,
      "id": "d581535c",
      "metadata": {
        "id": "d581535c"
      },
      "outputs": [],
      "source": [
        "df_merge_node5_recent = df_merge_node5_recent[df_merge_node5_recent['Occupancy_y_none'] != df_merge_node5_recent['Occupancy_x_none']]\n",
        "df_merge_node5_recent = df_merge_node5_recent[df_merge_node5_recent['MLS_ADDRESS'].notnull()]\n"
      ]
    },
    {
      "cell_type": "code",
      "execution_count": null,
      "id": "719e1816",
      "metadata": {
        "id": "719e1816",
        "outputId": "f0ff61c8-3ab7-4102-a593-fe416d751e89"
      },
      "outputs": [
        {
          "data": {
            "text/html": [
              "<div>\n",
              "<style scoped>\n",
              "    .dataframe tbody tr th:only-of-type {\n",
              "        vertical-align: middle;\n",
              "    }\n",
              "\n",
              "    .dataframe tbody tr th {\n",
              "        vertical-align: top;\n",
              "    }\n",
              "\n",
              "    .dataframe thead th {\n",
              "        text-align: right;\n",
              "    }\n",
              "</style>\n",
              "<table border=\"1\" class=\"dataframe\">\n",
              "  <thead>\n",
              "    <tr style=\"text-align: right;\">\n",
              "      <th></th>\n",
              "      <th>level_0_x</th>\n",
              "      <th>DATATREE_ADDRESS</th>\n",
              "      <th>OWNERNAME1FULL</th>\n",
              "      <th>OWNERNAME2FULL</th>\n",
              "      <th>SITUSZIP5</th>\n",
              "      <th>CURRENTSALERECORDINGDATE</th>\n",
              "      <th>CURRENTSALESPRICE</th>\n",
              "      <th>PREVSALERECORDINGDATE</th>\n",
              "      <th>PREVSALESPRICE</th>\n",
              "      <th>PROPERTYCLASSID</th>\n",
              "      <th>...</th>\n",
              "      <th>MLS_ADDRESS_Split</th>\n",
              "      <th>OccupancyType_y</th>\n",
              "      <th>OccupancyIdentifier_y</th>\n",
              "      <th>PlaceName_y</th>\n",
              "      <th>StateName_y</th>\n",
              "      <th>ZipCode_y</th>\n",
              "      <th>StreetNamePostDirectional_y</th>\n",
              "      <th>StreetNamePreType_y</th>\n",
              "      <th>Occupancy_x_none</th>\n",
              "      <th>Occupancy_y_none</th>\n",
              "    </tr>\n",
              "  </thead>\n",
              "  <tbody>\n",
              "  </tbody>\n",
              "</table>\n",
              "<p>0 rows × 56 columns</p>\n",
              "</div>"
            ],
            "text/plain": [
              "Empty DataFrame\n",
              "Columns: [level_0_x, DATATREE_ADDRESS, OWNERNAME1FULL, OWNERNAME2FULL, SITUSZIP5, CURRENTSALERECORDINGDATE, CURRENTSALESPRICE, PREVSALERECORDINGDATE, PREVSALESPRICE, PROPERTYCLASSID, LANDUSECODE, STATELANDUSECODE, COUNTYLANDUSECODE, ZONING, SCHOOLDISTRICTNAME, DATATREE_ADDRESS_Split, AddressNumber, StreetNamePreDirectional, StreetName, StreetNamePostType, OccupancyType_x, OccupancyIdentifier_x, StreetNamePreType_x, StreetNamePostDirectional_x, PlaceName_x, StateName_x, ZipCode_x, SubaddressType, SubaddressIdentifier, AddressNumberSuffix, Recipient, StreetNamePreModifier, BuildingName, USPSBoxType, USPSBoxID, StreetNamePostModifier, LandmarkName, level_0_y, MLS_ADDRESS, NAME, POSTALCODE, A_DATE, MOST_RECENT_SALE_DATE, PRICE, STATUS, SALE_TYPE, MLS_ADDRESS_Split, OccupancyType_y, OccupancyIdentifier_y, PlaceName_y, StateName_y, ZipCode_y, StreetNamePostDirectional_y, StreetNamePreType_y, Occupancy_x_none, Occupancy_y_none]\n",
              "Index: []\n",
              "\n",
              "[0 rows x 56 columns]"
            ]
          },
          "execution_count": 104,
          "metadata": {},
          "output_type": "execute_result"
        }
      ],
      "source": [
        "df_merge_node5_recent"
      ]
    },
    {
      "cell_type": "code",
      "execution_count": null,
      "id": "bbb930cb",
      "metadata": {
        "id": "bbb930cb"
      },
      "outputs": [],
      "source": [
        "# match with previous date\n",
        "df_merge_node5_pre = pd.merge(DT_ADDRESS_final, MLS_ADDRESS_final, how = 'left', \n",
        "                            left_on = ['AddressNumber', 'StreetName', 'StreetNamePreDirectional', 'StreetNamePostType', 'PREVSALERECORDINGDATE'], \n",
        "                            right_on = ['AddressNumber', 'StreetName','StreetNamePreDirectional','StreetNamePostType', 'MOST_RECENT_SALE_DATE'])\n"
      ]
    },
    {
      "cell_type": "code",
      "execution_count": null,
      "id": "b84de883",
      "metadata": {
        "id": "b84de883"
      },
      "outputs": [],
      "source": [
        "\n",
        "df_merge_node5_pre['Occupancy_x_none'] = df_merge_node5_pre.apply(lambda x: is_null(str(x['OccupancyType_x']), str(x['OccupancyIdentifier_x'])), axis=1)\n",
        "df_merge_node5_pre['Occupancy_y_none'] = df_merge_node5_pre.apply(lambda x: is_null(str(x['OccupancyType_y']), str(x['OccupancyIdentifier_y'])), axis=1)\n",
        "df_merge_node5_pre = df_merge_node5_pre[df_merge_node5_pre['Occupancy_y_none'] != df_merge_node5_pre['Occupancy_x_none']]\n",
        "df_merge_node5_pre = df_merge_node5_pre[df_merge_node5_pre['MLS_ADDRESS'].notnull()]\n",
        "\n"
      ]
    },
    {
      "cell_type": "code",
      "execution_count": null,
      "id": "c0f8b21c",
      "metadata": {
        "id": "c0f8b21c",
        "outputId": "cc9ce76d-22a5-4000-e79d-b8109cc2f934"
      },
      "outputs": [
        {
          "data": {
            "text/html": [
              "<div>\n",
              "<style scoped>\n",
              "    .dataframe tbody tr th:only-of-type {\n",
              "        vertical-align: middle;\n",
              "    }\n",
              "\n",
              "    .dataframe tbody tr th {\n",
              "        vertical-align: top;\n",
              "    }\n",
              "\n",
              "    .dataframe thead th {\n",
              "        text-align: right;\n",
              "    }\n",
              "</style>\n",
              "<table border=\"1\" class=\"dataframe\">\n",
              "  <thead>\n",
              "    <tr style=\"text-align: right;\">\n",
              "      <th></th>\n",
              "      <th>level_0_x</th>\n",
              "      <th>DATATREE_ADDRESS</th>\n",
              "      <th>OWNERNAME1FULL</th>\n",
              "      <th>OWNERNAME2FULL</th>\n",
              "      <th>SITUSZIP5</th>\n",
              "      <th>CURRENTSALERECORDINGDATE</th>\n",
              "      <th>CURRENTSALESPRICE</th>\n",
              "      <th>PREVSALERECORDINGDATE</th>\n",
              "      <th>PREVSALESPRICE</th>\n",
              "      <th>PROPERTYCLASSID</th>\n",
              "      <th>...</th>\n",
              "      <th>MLS_ADDRESS_Split</th>\n",
              "      <th>OccupancyType_y</th>\n",
              "      <th>OccupancyIdentifier_y</th>\n",
              "      <th>PlaceName_y</th>\n",
              "      <th>StateName_y</th>\n",
              "      <th>ZipCode_y</th>\n",
              "      <th>StreetNamePostDirectional_y</th>\n",
              "      <th>StreetNamePreType_y</th>\n",
              "      <th>Occupancy_x_none</th>\n",
              "      <th>Occupancy_y_none</th>\n",
              "    </tr>\n",
              "  </thead>\n",
              "  <tbody>\n",
              "  </tbody>\n",
              "</table>\n",
              "<p>0 rows × 56 columns</p>\n",
              "</div>"
            ],
            "text/plain": [
              "Empty DataFrame\n",
              "Columns: [level_0_x, DATATREE_ADDRESS, OWNERNAME1FULL, OWNERNAME2FULL, SITUSZIP5, CURRENTSALERECORDINGDATE, CURRENTSALESPRICE, PREVSALERECORDINGDATE, PREVSALESPRICE, PROPERTYCLASSID, LANDUSECODE, STATELANDUSECODE, COUNTYLANDUSECODE, ZONING, SCHOOLDISTRICTNAME, DATATREE_ADDRESS_Split, AddressNumber, StreetNamePreDirectional, StreetName, StreetNamePostType, OccupancyType_x, OccupancyIdentifier_x, StreetNamePreType_x, StreetNamePostDirectional_x, PlaceName_x, StateName_x, ZipCode_x, SubaddressType, SubaddressIdentifier, AddressNumberSuffix, Recipient, StreetNamePreModifier, BuildingName, USPSBoxType, USPSBoxID, StreetNamePostModifier, LandmarkName, level_0_y, MLS_ADDRESS, NAME, POSTALCODE, A_DATE, MOST_RECENT_SALE_DATE, PRICE, STATUS, SALE_TYPE, MLS_ADDRESS_Split, OccupancyType_y, OccupancyIdentifier_y, PlaceName_y, StateName_y, ZipCode_y, StreetNamePostDirectional_y, StreetNamePreType_y, Occupancy_x_none, Occupancy_y_none]\n",
              "Index: []\n",
              "\n",
              "[0 rows x 56 columns]"
            ]
          },
          "execution_count": 107,
          "metadata": {},
          "output_type": "execute_result"
        }
      ],
      "source": [
        "df_merge_node5_pre.head(3)"
      ]
    },
    {
      "cell_type": "code",
      "execution_count": null,
      "id": "65484365",
      "metadata": {
        "id": "65484365"
      },
      "outputs": [],
      "source": [
        "# price matching\n",
        "df_merge_node5_price = pd.merge(DT_ADDRESS_final, MLS_ADDRESS_final, how = 'left', \n",
        "                            left_on = ['AddressNumber', 'StreetName', 'StreetNamePreDirectional', 'StreetNamePostType','SITUSZIP5', 'CURRENTSALESPRICE'], \n",
        "                            right_on = ['AddressNumber', 'StreetName','StreetNamePreDirectional','StreetNamePostType', 'POSTALCODE','PRICE'])\n"
      ]
    },
    {
      "cell_type": "code",
      "execution_count": null,
      "id": "d044959d",
      "metadata": {
        "id": "d044959d"
      },
      "outputs": [],
      "source": [
        "# match with recent date\n",
        "\n",
        "df_merge_node5_price['Occupancy_x_none'] = df_merge_node5_price.apply(lambda x: is_null(str(x['OccupancyType_x']), str(x['OccupancyIdentifier_x'])), axis=1)\n",
        "df_merge_node5_price['Occupancy_y_none'] = df_merge_node5_price.apply(lambda x: is_null(str(x['OccupancyType_y']), str(x['OccupancyIdentifier_y'])), axis=1)\n"
      ]
    },
    {
      "cell_type": "code",
      "execution_count": null,
      "id": "221bdc0e",
      "metadata": {
        "id": "221bdc0e"
      },
      "outputs": [],
      "source": [
        "df_merge_node5_price = df_merge_node5_price[df_merge_node5_price['Occupancy_y_none'] != df_merge_node5_price['Occupancy_x_none']]\n",
        "df_merge_node5_price = df_merge_node5_price[df_merge_node5_price['MLS_ADDRESS'].notnull()]\n"
      ]
    },
    {
      "cell_type": "code",
      "execution_count": null,
      "id": "1d0b0b7b",
      "metadata": {
        "id": "1d0b0b7b",
        "outputId": "989f7132-441a-4272-8707-22a8c207a952"
      },
      "outputs": [
        {
          "data": {
            "text/plain": [
              "Index(['level_0_x', 'DATATREE_ADDRESS', 'OWNERNAME1FULL', 'OWNERNAME2FULL',\n",
              "       'SITUSZIP5', 'CURRENTSALERECORDINGDATE', 'CURRENTSALESPRICE',\n",
              "       'PREVSALERECORDINGDATE', 'PREVSALESPRICE', 'PROPERTYCLASSID',\n",
              "       'LANDUSECODE', 'STATELANDUSECODE', 'COUNTYLANDUSECODE', 'ZONING',\n",
              "       'SCHOOLDISTRICTNAME', 'DATATREE_ADDRESS_Split', 'AddressNumber',\n",
              "       'StreetNamePreDirectional', 'StreetName', 'StreetNamePostType',\n",
              "       'OccupancyType_x', 'OccupancyIdentifier_x', 'StreetNamePreType_x',\n",
              "       'StreetNamePostDirectional_x', 'PlaceName_x', 'StateName_x',\n",
              "       'ZipCode_x', 'SubaddressType', 'SubaddressIdentifier',\n",
              "       'AddressNumberSuffix', 'Recipient', 'StreetNamePreModifier',\n",
              "       'BuildingName', 'USPSBoxType', 'USPSBoxID', 'StreetNamePostModifier',\n",
              "       'LandmarkName', 'level_0_y', 'MLS_ADDRESS', 'NAME', 'POSTALCODE',\n",
              "       'A_DATE', 'MOST_RECENT_SALE_DATE', 'PRICE', 'STATUS', 'SALE_TYPE',\n",
              "       'MLS_ADDRESS_Split', 'OccupancyType_y', 'OccupancyIdentifier_y',\n",
              "       'PlaceName_y', 'StateName_y', 'ZipCode_y',\n",
              "       'StreetNamePostDirectional_y', 'StreetNamePreType_y',\n",
              "       'Occupancy_x_none', 'Occupancy_y_none'],\n",
              "      dtype='object')"
            ]
          },
          "execution_count": 111,
          "metadata": {},
          "output_type": "execute_result"
        }
      ],
      "source": [
        "df_merge_node5_price.columns"
      ]
    },
    {
      "cell_type": "code",
      "execution_count": null,
      "id": "fb7ed2fd",
      "metadata": {
        "id": "fb7ed2fd"
      },
      "outputs": [],
      "source": []
    },
    {
      "cell_type": "code",
      "execution_count": null,
      "id": "86bbe6cd",
      "metadata": {
        "id": "86bbe6cd"
      },
      "outputs": [],
      "source": []
    }
  ],
  "metadata": {
    "colab": {
      "name": "five_node_flow.ipynb",
      "provenance": []
    },
    "kernelspec": {
      "display_name": "Python 3 (ipykernel)",
      "language": "python",
      "name": "python3"
    },
    "language_info": {
      "codemirror_mode": {
        "name": "ipython",
        "version": 3
      },
      "file_extension": ".py",
      "mimetype": "text/x-python",
      "name": "python",
      "nbconvert_exporter": "python",
      "pygments_lexer": "ipython3",
      "version": "3.9.7"
    }
  },
  "nbformat": 4,
  "nbformat_minor": 5
}
