{
 "cells": [
  {
   "cell_type": "markdown",
   "id": "bbeac46b",
   "metadata": {},
   "source": [
    "# General success rate"
   ]
  },
  {
   "cell_type": "code",
   "execution_count": null,
   "id": "1b927bb4",
   "metadata": {},
   "outputs": [],
   "source": [
    "import snowflake.connector\n",
    "from snowflake.connector import cursor\n",
    "import usaddress\n",
    "import re"
   ]
  },
  {
   "cell_type": "code",
   "execution_count": null,
   "id": "48894a45",
   "metadata": {},
   "outputs": [],
   "source": [
    "ctx = snowflake.connector.connect(\n",
    "      user = '',\n",
    "     password = '',\n",
    "     account = ''\n",
    " )\n",
    "\n",
    "cursor = ctx.cursor()"
   ]
  },
  {
   "cell_type": "code",
   "execution_count": null,
   "id": "6612107f",
   "metadata": {},
   "outputs": [],
   "source": [
    "import pandas as pd\n",
    "sql_success_rate_MLS = \"\"\"\"\"\"\n",
    "df_success_rate_MLS = pd.read_sql(sql_success_rate_MLS, con=ctx)"
   ]
  },
  {
   "cell_type": "code",
   "execution_count": null,
   "id": "93a6a9ac",
   "metadata": {},
   "outputs": [],
   "source": [
    "#!pip install placekey\n",
    "from placekey.api import PlacekeyAPI\n",
    "from ast import literal_eval\n",
    "placekey_api_key = \"\" # fill this in with your personal API key (do not share publicly)\n",
    "pk_api = PlacekeyAPI(placekey_api_key)"
   ]
  },
  {
   "cell_type": "code",
   "execution_count": null,
   "id": "9f7cf331",
   "metadata": {},
   "outputs": [],
   "source": [
    "# adding required placekey api field\n",
    "def get_standard_df(df,column_map: dict):\n",
    "    # rename column name --> need to be consistant with standatdized api field name\n",
    "    # see this link: https://docs.placekey.io/#350ed3a9-68db-4c47-9e20-19b430cb9ef1\n",
    "    df_standard = df.rename(columns=column_map)\n",
    "    \n",
    "    # adding other fields\n",
    "    df_standard['query_id'] = range(1, 1+len(df))\n",
    "    df_standard['iso_country_code'] = \"US\"\n",
    "    return df_standard\n",
    "\n",
    "def get_placekey_df(stad_df, place_keys:tuple):\n",
    "    # stad_df is the df containing standatdized api fields\n",
    "    import json\n",
    "    # convert query_id to str\n",
    "    stad_df = stad_df.astype({\"query_id\": str})\n",
    "    \n",
    "    # dump df to json-format with selected key-value pairs\n",
    "    data_jsoned = json.loads(stad_df.to_json(orient=\"records\"))\n",
    "    dict_filter = lambda x, y: dict([ (i,x[i]) for i in x if i in set(y) ])\n",
    "    result_dict=[dict_filter(i, place_keys) for i in data_jsoned]\n",
    "    \n",
    "    #request placekey api\n",
    "    responses = pk_api.lookup_placekeys(result_dict, verbose=True)\n",
    "    df_placekeys = pd.read_json(json.dumps(responses), dtype={'query_id':str})\n",
    "    \n",
    "\n",
    "    return df_placekeys"
   ]
  },
  {
   "cell_type": "code",
   "execution_count": null,
   "id": "c390abe5",
   "metadata": {},
   "outputs": [],
   "source": [
    "column_map = {\"CC_PROPERTY_ADDR_DISPLAY_1\" : \"street_address\", \n",
    "              \"CC_PROPERTY_ADDR_POSTAL_CODE\": \"postal_code\",\n",
    "              \"CC_PROPERTY_ADDR_STATE\": \"region\",\n",
    "              \"CC_PROPERTY_ADDR_CITY\": \"city\"}\n",
    "stad_df = get_standard_df(df_success_rate_MLS,column_map)\n",
    "stad_df.reset_index(inplace=True)\n",
    "\n",
    "place_keys = (\"city\",\"iso_country_code\",\"postal_code\",\"street_address\",\"query_id\",\"region\")\n",
    "df_placekey = get_placekey_df(stad_df,place_keys)\n",
    "\n",
    "df_success_rate_placekey_MLS = pd.concat([df_placekey,df_success_rate_MLS],axis=1)"
   ]
  },
  {
   "cell_type": "code",
   "execution_count": null,
   "id": "8a1429bc",
   "metadata": {},
   "outputs": [],
   "source": [
    "df_success_rate_placekey_MLS = pd.concat([df_placekey,df_success_rate_MLS],axis=1)"
   ]
  },
  {
   "cell_type": "markdown",
   "id": "171e8130",
   "metadata": {},
   "source": [
    "- Error rate in MLS table"
   ]
  },
  {
   "cell_type": "code",
   "execution_count": null,
   "id": "4801c1f6",
   "metadata": {},
   "outputs": [],
   "source": [
    "df_success_rate_placekey_MLS['error'].unique()"
   ]
  },
  {
   "cell_type": "code",
   "execution_count": null,
   "id": "462ab4a2",
   "metadata": {},
   "outputs": [],
   "source": [
    "len(df_success_rate_placekey_MLS[df_success_rate_placekey_MLS['error'].notnull()])/100000"
   ]
  },
  {
   "cell_type": "code",
   "execution_count": null,
   "id": "b6ca7b9d",
   "metadata": {},
   "outputs": [],
   "source": [
    "sql_success_rate_ASSESSOR = \"\"\"\"\"\"\n",
    "df_success_rate_ASSESSOR = pd.read_sql(sql_success_rate_ASSESSOR, con=ctx)"
   ]
  },
  {
   "cell_type": "code",
   "execution_count": null,
   "id": "ff218fea",
   "metadata": {},
   "outputs": [],
   "source": [
    "df_success_rate_ASSESSOR"
   ]
  },
  {
   "cell_type": "code",
   "execution_count": null,
   "id": "200a79e4",
   "metadata": {},
   "outputs": [],
   "source": [
    "column_map = {\"SITUSFULLSTREETADDRESS\" : \"street_address\", \n",
    "              \"SITUSZIP5\": \"postal_code\",\n",
    "              \"SITUSSTATE\": \"region\",\n",
    "              \"SITUSCITY\": \"city\"}\n",
    "stad_df = get_standard_df(df_success_rate_ASSESSOR,column_map)\n",
    "stad_df.reset_index(inplace=True)\n",
    "\n",
    "place_keys = (\"city\",\"iso_country_code\",\"postal_code\",\"street_address\",\"query_id\",\"region\")\n",
    "df_placekey = get_placekey_df(stad_df,place_keys)\n",
    "\n",
    "df_success_rate_placekey_ASSESSOR = pd.concat([df_placekey,df_success_rate_ASSESSOR],axis=1)"
   ]
  },
  {
   "cell_type": "code",
   "execution_count": null,
   "id": "be593c6d",
   "metadata": {},
   "outputs": [],
   "source": [
    "df_success_rate_placekey_ASSESSOR['error'].unique()"
   ]
  },
  {
   "cell_type": "code",
   "execution_count": null,
   "id": "6d27ac99",
   "metadata": {},
   "outputs": [],
   "source": [
    "len(df_success_rate_placekey_ASSESSOR[df_success_rate_placekey_ASSESSOR['error'].notnull()])/100000"
   ]
  },
  {
   "cell_type": "code",
   "execution_count": null,
   "id": "fa101560",
   "metadata": {},
   "outputs": [],
   "source": [
    "df_success_rate_placekey_ASSESSOR"
   ]
  },
  {
   "cell_type": "code",
   "execution_count": null,
   "id": "65af499c",
   "metadata": {},
   "outputs": [],
   "source": []
  }
 ],
 "metadata": {
  "kernelspec": {
   "display_name": "Python 3 (ipykernel)",
   "language": "python",
   "name": "python3"
  },
  "language_info": {
   "codemirror_mode": {
    "name": "ipython",
    "version": 3
   },
   "file_extension": ".py",
   "mimetype": "text/x-python",
   "name": "python",
   "nbconvert_exporter": "python",
   "pygments_lexer": "ipython3",
   "version": "3.8.2"
  }
 },
 "nbformat": 4,
 "nbformat_minor": 5
}
