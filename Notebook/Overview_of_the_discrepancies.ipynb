{
 "cells": [
  {
   "cell_type": "markdown",
   "id": "e5cab90e",
   "metadata": {},
   "source": [
    "# An overview of the discrepancies"
   ]
  },
  {
   "cell_type": "markdown",
   "id": "54727034",
   "metadata": {},
   "source": [
    "## 1.Exploration"
   ]
  },
  {
   "cell_type": "code",
   "execution_count": null,
   "id": "7e17782c",
   "metadata": {},
   "outputs": [],
   "source": [
    "#!pip install snowflake-connector-python\n",
    "#!pip install snowflake-connector-python[pandas]\n",
    "import snowflake.connector\n",
    "from snowflake.connector import cursor"
   ]
  },
  {
   "cell_type": "code",
   "execution_count": null,
   "id": "26c0187a",
   "metadata": {},
   "outputs": [],
   "source": [
    "ctx = snowflake.connector.connect(\n",
    "      user = '',\n",
    "      password = '',\n",
    "      account = ''\n",
    " )\n",
    "\n",
    "cursor = ctx.cursor()"
   ]
  },
  {
   "cell_type": "markdown",
   "id": "014ef471",
   "metadata": {},
   "source": [
    "- Preview data"
   ]
  },
  {
   "cell_type": "code",
   "execution_count": null,
   "id": "b7eb3302",
   "metadata": {},
   "outputs": [],
   "source": [
    "# Show the result of null percentage\n",
    "def combine_res_des(res, des):\n",
    "    result_dict = dict()\n",
    "    for i in range(len(res[0])):\n",
    "        result_dict[list(des[i])[0]] = res[0][i]\n",
    "    return result_dict"
   ]
  },
  {
   "cell_type": "code",
   "execution_count": null,
   "id": "bb48ce00",
   "metadata": {},
   "outputs": [],
   "source": [
    "sql_MLS_NULL = \"\"\"\"\"\"\n",
    "cursor.execute(sql_MLS_NULL)\n",
    "res = cursor.fetchall()\n",
    "des = cursor.description"
   ]
  },
  {
   "cell_type": "code",
   "execution_count": null,
   "id": "280346b8",
   "metadata": {},
   "outputs": [],
   "source": [
    "#Show the null percentage of MLS\n",
    "combine_res_des(res, des)"
   ]
  },
  {
   "cell_type": "code",
   "execution_count": null,
   "id": "3478a8ea",
   "metadata": {},
   "outputs": [],
   "source": [
    "sql_datatree_NULL = \"\"\"\"\"\"\n",
    "cursor.execute(sql_datatree_NULL)\n",
    "res = cursor.fetchall()\n",
    "des = cursor.description"
   ]
  },
  {
   "cell_type": "code",
   "execution_count": null,
   "id": "23a25aa4",
   "metadata": {},
   "outputs": [],
   "source": [
    "#Show the null percentage of DATATREE\n",
    "combine_res_des(res, des)"
   ]
  },
  {
   "cell_type": "markdown",
   "id": "0dba57a6",
   "metadata": {},
   "source": [
    "## 2.Address Completely match"
   ]
  },
  {
   "cell_type": "code",
   "execution_count": null,
   "id": "13261752",
   "metadata": {},
   "outputs": [],
   "source": [
    "import pandas as pd\n",
    "sql_join = \"\"\"\"\"\"\n",
    "df_nyc = pd.read_sql(sql_join, con=ctx)"
   ]
  },
  {
   "cell_type": "code",
   "execution_count": null,
   "id": "2a01ac7b",
   "metadata": {},
   "outputs": [],
   "source": [
    "df_nyc.columns = ['MLS_ADDRESS', 'MLS_NAME', 'CITY', 'DATATREE_ADDRESS', 'DATATREE_NAME1', 'DATATREE_NAME2']"
   ]
  },
  {
   "cell_type": "markdown",
   "id": "f1b54209",
   "metadata": {},
   "source": [
    "- NULL values in the MLS_NAME"
   ]
  },
  {
   "cell_type": "code",
   "execution_count": null,
   "id": "6223a58c",
   "metadata": {},
   "outputs": [],
   "source": [
    "df_nyc"
   ]
  },
  {
   "cell_type": "code",
   "execution_count": null,
   "id": "c3c3f053",
   "metadata": {},
   "outputs": [],
   "source": [
    "df_nyc = df_nyc[df_nyc['MLS_NAME'].notnull()]"
   ]
  },
  {
   "cell_type": "markdown",
   "id": "b2a3b405",
   "metadata": {},
   "source": [
    "- 'withheld' in MLS_NAME"
   ]
  },
  {
   "cell_type": "code",
   "execution_count": null,
   "id": "1a9cff9e",
   "metadata": {},
   "outputs": [],
   "source": [
    "df_nyc"
   ]
  },
  {
   "cell_type": "markdown",
   "id": "c0dd05f8",
   "metadata": {},
   "source": [
    "- There are addresses with different names "
   ]
  },
  {
   "cell_type": "code",
   "execution_count": null,
   "id": "cc756ef1",
   "metadata": {},
   "outputs": [],
   "source": [
    "df_nyc.DATATREE_ADDRESS.value_counts()"
   ]
  },
  {
   "cell_type": "code",
   "execution_count": null,
   "id": "dc6746da",
   "metadata": {},
   "outputs": [],
   "source": [
    "df_nyc[df_nyc['MLS_ADDRESS'] == '635 w 42nd st new york'] "
   ]
  },
  {
   "cell_type": "markdown",
   "id": "7ce91dfc",
   "metadata": {},
   "source": [
    "- Compute the fuzzy score of names"
   ]
  },
  {
   "cell_type": "code",
   "execution_count": null,
   "id": "8258eba9",
   "metadata": {},
   "outputs": [],
   "source": [
    "#!pip install thefuzz\n",
    "from thefuzz import fuzz"
   ]
  },
  {
   "cell_type": "code",
   "execution_count": null,
   "id": "1f6cfcab",
   "metadata": {},
   "outputs": [],
   "source": [
    "fuzz.ratio('withheld', 'cassisi anastasia')"
   ]
  },
  {
   "cell_type": "code",
   "execution_count": null,
   "id": "0d326e2c",
   "metadata": {},
   "outputs": [],
   "source": [
    "df_nyc['name1_fuzz_ratio'] = df_nyc.apply(lambda row: fuzz.ratio(row['MLS_NAME'], row['DATATREE_NAME1']), axis=1)"
   ]
  },
  {
   "cell_type": "code",
   "execution_count": null,
   "id": "90227b18",
   "metadata": {},
   "outputs": [],
   "source": [
    "df_nyc['name2_fuzz_ratio'] = df_nyc.apply(lambda row: fuzz.ratio(row['MLS_NAME'], row['DATATREE_NAME2']), axis=1)"
   ]
  },
  {
   "cell_type": "code",
   "execution_count": null,
   "id": "dd97ebf3",
   "metadata": {},
   "outputs": [],
   "source": [
    "(df_nyc['name1_fuzz_ratio'] == 100).sum()"
   ]
  },
  {
   "cell_type": "code",
   "execution_count": null,
   "id": "87ed5661",
   "metadata": {},
   "outputs": [],
   "source": [
    "df_nyc[(df_nyc['name1_fuzz_ratio'] < 100)&(df_nyc['name1_fuzz_ratio'] > 80)]\n",
    "#punctuation, abbreviation, space, part of the another name, misspelling"
   ]
  },
  {
   "cell_type": "code",
   "execution_count": null,
   "id": "5ff5b351",
   "metadata": {},
   "outputs": [],
   "source": [
    "df_nyc[(df_nyc['name1_fuzz_ratio'] < 80)&(df_nyc['name1_fuzz_ratio'] > 50)]\n",
    "#only last name/first name in one table; reverse order;"
   ]
  },
  {
   "cell_type": "code",
   "execution_count": null,
   "id": "04856cad",
   "metadata": {},
   "outputs": [],
   "source": [
    "df_nyc[df_nyc['name1_fuzz_ratio'] < 50]\n",
    "#completely mismatching"
   ]
  },
  {
   "cell_type": "code",
   "execution_count": null,
   "id": "752b3ae4",
   "metadata": {},
   "outputs": [],
   "source": []
  }
 ],
 "metadata": {
  "kernelspec": {
   "display_name": "Python 3 (ipykernel)",
   "language": "python",
   "name": "python3"
  },
  "language_info": {
   "codemirror_mode": {
    "name": "ipython",
    "version": 3
   },
   "file_extension": ".py",
   "mimetype": "text/x-python",
   "name": "python",
   "nbconvert_exporter": "python",
   "pygments_lexer": "ipython3",
   "version": "3.8.2"
  }
 },
 "nbformat": 4,
 "nbformat_minor": 5
}
